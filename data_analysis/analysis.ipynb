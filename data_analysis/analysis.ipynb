{
 "cells": [
  {
   "cell_type": "markdown",
   "metadata": {},
   "source": [
    "# 1 - Importing libraries"
   ]
  },
  {
   "cell_type": "code",
   "execution_count": 1,
   "metadata": {},
   "outputs": [],
   "source": [
    "from pyspark.sql import SparkSession\n",
    "import os\n",
    "import logging"
   ]
  },
  {
   "cell_type": "markdown",
   "metadata": {},
   "source": [
    "# 2 - Initializing Spark Session"
   ]
  },
  {
   "cell_type": "code",
   "execution_count": 2,
   "metadata": {},
   "outputs": [],
   "source": [
    "mysql_connector_jar = r\"C:\\Connectors\\mysql-connector-j-8.4.0.jar\"\n",
    "\n",
    "spark = SparkSession.builder \\\n",
    "    .appName(\"Revenue By State EDA\") \\\n",
    "    .config(\"spark.driver.extraClassPath\", mysql_connector_jar) \\\n",
    "    .getOrCreate()"
   ]
  },
  {
   "cell_type": "markdown",
   "metadata": {},
   "source": [
    "# 3 - Reading Data"
   ]
  },
  {
   "cell_type": "markdown",
   "metadata": {},
   "source": [
    "## 3.1 - Setup logging"
   ]
  },
  {
   "cell_type": "code",
   "execution_count": 6,
   "metadata": {},
   "outputs": [],
   "source": [
    "from loggings.log_config import LoggerConfig\n",
    "\n",
    "logger_config = LoggerConfig()\n",
    "\n",
    "analysis_logger = logger_config.get_analysis_logger()\n",
    "etl_logger = logger_config.get_etl_logger()"
   ]
  },
  {
   "cell_type": "markdown",
   "metadata": {},
   "source": [
    "## 3.2 - MySQL config"
   ]
  },
  {
   "cell_type": "code",
   "execution_count": 13,
   "metadata": {},
   "outputs": [],
   "source": [
    "host = os.getenv('DB_HOST', 'localhost')\n",
    "user = os.getenv('DB_USER', 'root')\n",
    "password = os.getenv('DB_PASSWORD', '')\n",
    "database_name = \"revenue_by_state\"\n",
    "table_name = \"collection_state\"\n",
    "jdbc_url = f\"jdbc:mysql://{host}/{database_name}\"\n",
    "\n",
    "jdbc_properties = {\n",
    "    \"user\": user,\n",
    "    \"password\": password,\n",
    "    \"driver\": \"com.mysql.cj.jdbc.Driver\"\n",
    "}"
   ]
  },
  {
   "cell_type": "code",
   "execution_count": 14,
   "metadata": {},
   "outputs": [
    {
     "name": "stdout",
     "output_type": "stream",
     "text": [
      "root\n",
      " |-- id: integer (nullable = true)\n",
      " |-- year: integer (nullable = true)\n",
      " |-- month: string (nullable = true)\n",
      " |-- state: string (nullable = true)\n",
      " |-- region: string (nullable = true)\n",
      " |-- import_tax: double (nullable = true)\n",
      " |-- export_tax: double (nullable = true)\n",
      " |-- ipi_tobacco: double (nullable = true)\n",
      " |-- ipi_beverages: double (nullable = true)\n",
      " |-- ipi_auto: double (nullable = true)\n",
      " |-- ipi_linked_imports: double (nullable = true)\n",
      " |-- ipi_others: double (nullable = true)\n",
      " |-- income_tax_individual: double (nullable = true)\n",
      " |-- income_tax_financial: double (nullable = true)\n",
      " |-- income_tax_other: double (nullable = true)\n",
      " |-- withholding_tax_employment: double (nullable = true)\n",
      " |-- withholding_tax_capital: double (nullable = true)\n",
      " |-- withholding_tax_remittances: double (nullable = true)\n",
      " |-- withholding_tax_other: double (nullable = true)\n",
      " |-- tax_financial_operations: double (nullable = true)\n",
      " |-- rural_land_tax: double (nullable = true)\n",
      " |-- provisional_tax_transactions: double (nullable = true)\n",
      " |-- provisional_contribution_transactions: double (nullable = true)\n",
      " |-- cofins: double (nullable = true)\n",
      " |-- cofins_financial: double (nullable = true)\n",
      " |-- cofins_other: double (nullable = true)\n",
      " |-- contribution_social_integration: double (nullable = true)\n",
      " |-- contribution_social_integration_financial: double (nullable = true)\n",
      " |-- contribution_social_integration_other: double (nullable = true)\n",
      " |-- social_contribution_net_profit: double (nullable = true)\n",
      " |-- social_contribution_net_profit_financial: double (nullable = true)\n",
      " |-- social_contribution_net_profit_other: double (nullable = true)\n",
      " |-- intervention_economic_domain_non_deductible_fuels: double (nullable = true)\n",
      " |-- intervention_economic_domain_fuels: double (nullable = true)\n",
      " |-- contribution_security_plan_public_servants: double (nullable = true)\n",
      " |-- contributions_security_plan_public_servants: double (nullable = true)\n",
      " |-- contributions_special_fund_inspection_activities: double (nullable = true)\n",
      " |-- fiscal_recovery_program: double (nullable = true)\n",
      " |-- installment_payment_program: double (nullable = true)\n",
      " |-- withholding_tax_law_article_30: double (nullable = true)\n",
      " |-- unified_payment: double (nullable = true)\n",
      " |-- other_administered_revenues: double (nullable = true)\n",
      " |-- other_revenues: double (nullable = true)\n",
      " |-- social_security_revenue: double (nullable = true)\n",
      " |-- social_security_revenue_individual_contributors: double (nullable = true)\n",
      " |-- social_security_revenue_other_sources: double (nullable = true)\n",
      " |-- administered_by_other_agencies: double (nullable = true)\n",
      " |-- population_state: integer (nullable = true)\n",
      " |-- economically_active_population: integer (nullable = true)\n",
      " |-- month_numeric: integer (nullable = true)\n",
      " |-- index: double (nullable = true)\n",
      " |-- monthly_variation: double (nullable = true)\n",
      " |-- quarterly_variation: double (nullable = true)\n",
      " |-- semiannual_variation: double (nullable = true)\n",
      " |-- annual_variation: double (nullable = true)\n",
      "\n"
     ]
    }
   ],
   "source": [
    "try:\n",
    "    df = spark.read \\\n",
    "        .format(\"jdbc\") \\\n",
    "        .option(\"url\", jdbc_url) \\\n",
    "        .option(\"dbtable\", table_name) \\\n",
    "        .options(**jdbc_properties) \\\n",
    "        .load()\n",
    "    df.printSchema()\n",
    "\n",
    "except Exception as e:\n",
    "    logging.WARNING(f\"An error occurred while loading data from MySQL: {e}\")"
   ]
  },
  {
   "cell_type": "code",
   "execution_count": 15,
   "metadata": {},
   "outputs": [
    {
     "name": "stdout",
     "output_type": "stream",
     "text": [
      "+---+----+-------+-----+----------+-----------+----------+-----------+-------------+-----------+------------------+-----------+---------------------+--------------------+----------------+--------------------------+-----------------------+---------------------------+---------------------+------------------------+--------------+----------------------------+-------------------------------------+------------+----------------+------------+-------------------------------+-----------------------------------------+-------------------------------------+------------------------------+----------------------------------------+------------------------------------+-------------------------------------------------+----------------------------------+------------------------------------------+-------------------------------------------+------------------------------------------------+-----------------------+---------------------------+------------------------------+---------------+---------------------------+--------------+-----------------------+-----------------------------------------------+-------------------------------------+------------------------------+----------------+------------------------------+-------------+-------+-----------------+-------------------+--------------------+----------------+\n",
      "| id|year|  month|state|    region| import_tax|export_tax|ipi_tobacco|ipi_beverages|   ipi_auto|ipi_linked_imports| ipi_others|income_tax_individual|income_tax_financial|income_tax_other|withholding_tax_employment|withholding_tax_capital|withholding_tax_remittances|withholding_tax_other|tax_financial_operations|rural_land_tax|provisional_tax_transactions|provisional_contribution_transactions|      cofins|cofins_financial|cofins_other|contribution_social_integration|contribution_social_integration_financial|contribution_social_integration_other|social_contribution_net_profit|social_contribution_net_profit_financial|social_contribution_net_profit_other|intervention_economic_domain_non_deductible_fuels|intervention_economic_domain_fuels|contribution_security_plan_public_servants|contributions_security_plan_public_servants|contributions_special_fund_inspection_activities|fiscal_recovery_program|installment_payment_program|withholding_tax_law_article_30|unified_payment|other_administered_revenues|other_revenues|social_security_revenue|social_security_revenue_individual_contributors|social_security_revenue_other_sources|administered_by_other_agencies|population_state|economically_active_population|month_numeric|  index|monthly_variation|quarterly_variation|semiannual_variation|annual_variation|\n",
      "+---+----+-------+-----+----------+-----------+----------+-----------+-------------+-----------+------------------+-----------+---------------------+--------------------+----------------+--------------------------+-----------------------+---------------------------+---------------------+------------------------+--------------+----------------------------+-------------------------------------+------------+----------------+------------+-------------------------------+-----------------------------------------+-------------------------------------+------------------------------+----------------------------------------+------------------------------------+-------------------------------------------------+----------------------------------+------------------------------------------+-------------------------------------------+------------------------------------------------+-----------------------+---------------------------+------------------------------+---------------+---------------------------+--------------+-----------------------+-----------------------------------------------+-------------------------------------+------------------------------+----------------+------------------------------+-------------+-------+-----------------+-------------------+--------------------+----------------+\n",
      "|  1|2000|january|   AC|     north|      231.0|       0.0|   292096.0|          0.0|        0.0|             167.0|     1558.0|             177197.0|               643.0|        676835.0|                 1084940.0|                27652.0|                      570.0|              30894.0|                  1220.0|       28447.0|                         0.0|                                103.0|   1770475.0|             0.0|         0.0|                       387364.0|                                      0.0|                                  0.0|                      392830.0|                                     0.0|                                 0.0|                                              0.0|                               0.0|                                 1243858.0|                                        0.0|                                         28329.0|                    0.0|                        0.0|                           0.0|            0.0|                    20911.0|           0.0|                    0.0|                                            0.0|                                  0.0|                           0.0|          557882|                             0|            1|1598.24|             0.61|               2.31|                4.26|            0.61|\n",
      "|  2|2000|january|   AL|north_east|   475088.0|   33873.0|  1329338.0|     812470.0|        0.0|          141735.0|  3676847.0|             460804.0|               561.0|       2672106.0|                 4454947.0|               544056.0|                   191382.0|             309573.0|                 26939.0|     4252539.0|                         0.0|                              97248.0|   7493570.0|             0.0|         0.0|                      2545254.0|                                      0.0|                                  0.0|                     1775834.0|                                     0.0|                                 0.0|                                              0.0|                               0.0|                                 3179753.0|                                        0.0|                                        125043.0|                    0.0|                        0.0|                           0.0|            0.0|                   127189.0|           0.0|                    0.0|                                            0.0|                                  0.0|                           0.0|         2827856|                             0|            1|1598.24|             0.61|               2.31|                4.26|            0.61|\n",
      "|  3|2000|january|   AM|     north|1.1679405E7|       0.0|  1507146.0|    1791471.0|    27796.0|         4414483.0|  1800346.0|             700623.0|             90828.0|     1.0058713E7|               1.0174718E7|              1241708.0|                  3580022.0|            1029164.0|                843881.0|       40171.0|                         0.0|                             832562.0| 4.4000981E7|             0.0|         0.0|                    1.1671871E7|                                      0.0|                                  0.0|                     7652859.0|                                     0.0|                                 0.0|                                              0.0|                               0.0|                                 4072567.0|                                        0.0|                                        161647.0|                    0.0|                        0.0|                           0.0|            0.0|                   187988.0|           0.0|                    0.0|                                            0.0|                                  0.0|                           0.0|         2817253|                             0|            1|1598.24|             0.61|               2.31|                4.26|            0.61|\n",
      "|  4|2000|january|   AP|     north|    24267.0|       0.0|   424862.0|       1419.0|      321.0|           22333.0|    12165.0|             139226.0|             44135.0|        586572.0|                 1444486.0|               205031.0|                     5825.0|              34602.0|                  6999.0|        6477.0|                         0.0|                                  0.0|   1682102.0|             0.0|         0.0|                       574124.0|                                      0.0|                                  0.0|                      346964.0|                                     0.0|                                 0.0|                                              0.0|                               0.0|                                 3981691.0|                                        0.0|                                         38738.0|                    0.0|                        0.0|                           0.0|            0.0|                    10769.0|           0.0|                    0.0|                                            0.0|                                  0.0|                           0.0|          477032|                             0|            1|1598.24|             0.61|               2.31|                4.26|            0.61|\n",
      "|  5|2000|january|   BA|north_east|1.0476457E7|      13.0|  5542123.0|  1.1533707E7|        0.0|         7496476.0|2.3743858E7|            2498647.0|            177378.0|     2.5695696E7|               2.7277025E7|            1.3374802E7|                  2302766.0|            2022200.0|               1218485.0|     2446535.0|                         0.0|                          1.1923442E7| 8.1027229E7|             0.0|         0.0|                    2.3138894E7|                                      0.0|                                  0.0|                   1.5699282E7|                                     0.0|                                 0.0|                                              0.0|                               0.0|                               1.7001662E7|                                        0.0|                                        687022.0|                    0.0|                        0.0|                           0.0|            0.0|                   536498.0|           0.0|                    0.0|                                            0.0|                                  0.0|                           0.0|        13085768|                             0|            1|1598.24|             0.61|               2.31|                4.26|            0.61|\n",
      "|  6|2000|january|   CE|north_east|  5576921.0|       0.0|  4535653.0|    3148254.0|        0.0|         1734529.0|  3716458.0|            1971500.0|             59874.0|     1.3247447E7|                1.594049E7|              6311419.0|                   948600.0|            1941958.0|                745659.0|      114393.0|                         0.0|                            4547426.0| 3.6892799E7|             0.0|         0.0|                      8743377.0|                                      0.0|                                  0.0|                     6505382.0|                                     0.0|                                 0.0|                                              0.0|                               0.0|                                 8618224.0|                                        0.0|                                        506146.0|                    0.0|                        0.0|                           0.0|            0.0|                   143952.0|           0.0|                    0.0|                                            0.0|                                  0.0|                           0.0|         7431597|                             0|            1|1598.24|             0.61|               2.31|                4.26|            0.61|\n",
      "|  7|2000|january|   DF|   midwest|  2254341.0|      43.0|  3197500.0|    2777942.0|        0.0|         2079272.0|  2433339.0|            3067374.0|           3913461.0|      7.158268E7|              2.57391352E8|           1.24316928E8|                  7145075.0|          3.5581549E7|             2.2472279E7|       64578.0|                         0.0|                         2.40726401E8|1.41910257E8|             0.0|         0.0|                    6.1028823E7|                                      0.0|                                  0.0|                   2.7194137E7|                                     0.0|                                 0.0|                                              0.0|                               0.0|                               7.4389957E7|                                        0.0|                                        534320.0|                    0.0|                        0.0|                           0.0|            0.0|                3.3937318E7|           0.0|                    0.0|                                            0.0|                                  0.0|                           0.0|         2051146|                             0|            1|1598.24|             0.61|               2.31|                4.26|            0.61|\n",
      "|  8|2000|january|   ES|south_east|3.1950799E7|       0.0|  3598736.0|      20408.0|  1503039.0|        2.684043E7|  4036463.0|            1620843.0|              2542.0|     2.9105465E7|                 9380778.0|            1.0515327E7|                  4717282.0|            1703727.0|                491261.0|     1563052.0|                         0.0|                              28681.0| 4.9157907E7|             0.0|         0.0|                    1.3289266E7|                                      0.0|                                  0.0|                   1.2890143E7|                                     0.0|                                 0.0|                                              0.0|                               0.0|                                 6038251.0|                                        0.0|                                       2164901.0|                    0.0|                        0.0|                           0.0|            0.0|                   382985.0|           0.0|                    0.0|                                            0.0|                                  0.0|                           0.0|         3097497|                             0|            1|1598.24|             0.61|               2.31|                4.26|            0.61|\n",
      "|  9|2000|january|   GO|   midwest|  3747911.0|       0.0|  3236092.0|    5064141.0|  1091185.0|          986314.0|  2654994.0|            1401385.0|             45754.0|     1.8823998E7|               1.3094463E7|              6275215.0|                   132749.0|            1043647.0|                638840.0|     2269467.0|                         0.0|                            3912150.0| 4.7986002E7|             0.0|         0.0|                     1.356919E7|                                      0.0|                                  0.0|                     8180079.0|                                     0.0|                                 0.0|                                              0.0|                               0.0|                                 7394364.0|                                        0.0|                                        658643.0|                    0.0|                        0.0|                           0.0|            0.0|                   403579.0|           0.0|                    0.0|                                            0.0|                                  0.0|                           0.0|         5004196|                             0|            1|1598.24|             0.61|               2.31|                4.26|            0.61|\n",
      "| 10|2000|january|   MA|north_east|  1714749.0|      69.0|  1124738.0|    4061569.0|        0.0|          206691.0|   484436.0|             479170.0|              4832.0|       3251185.0|                 4149532.0|               781569.0|                     1130.0|             289120.0|                 86071.0|      593391.0|                         0.0|                             612313.0|   9654439.0|             0.0|         0.0|                      5104547.0|                                      0.0|                                  0.0|                     2283622.0|                                     0.0|                                 0.0|                                              0.0|                               0.0|                                 2966912.0|                                        0.0|                                        120868.0|                    0.0|                        0.0|                           0.0|            0.0|                   121337.0|           0.0|                    0.0|                                            0.0|                                  0.0|                           0.0|         5657553|                             0|            1|1598.24|             0.61|               2.31|                4.26|            0.61|\n",
      "| 11|2000|january|   MG|south_east|3.5549181E7|      57.0|1.5511142E7|  1.2111623E7|2.9305691E7|       1.5049305E7|3.8667924E7|          1.1038328E7|           3416372.0|     8.3378349E7|               7.3410958E7|            7.7963069E7|                1.1600682E7|          1.5573355E7|               3835234.0|     5262680.0|                         0.0|                          1.8475116E7|1.73737137E8|             0.0|         0.0|                    4.4074747E7|                                      0.0|                                  0.0|                   4.1904953E7|                                     0.0|                                 0.0|                                              0.0|                               0.0|                               3.2234994E7|                                        0.0|                                       1880050.0|                    0.0|                        0.0|                           0.0|            0.0|                  1190058.0|           0.0|                    0.0|                                            0.0|                                  0.0|                           0.0|        17905135|                             0|            1|1598.24|             0.61|               2.31|                4.26|            0.61|\n",
      "| 12|2000|january|   MS|   midwest|   437668.0|       0.0|   899850.0|     268111.0|        0.0|          365983.0|   626188.0|            1926537.0|              7972.0|       3983857.0|                 4331201.0|               797218.0|                    26225.0|             194378.0|                 52490.0|     1376859.0|                         0.0|                             210638.0| 1.3141747E7|             0.0|         0.0|                      3865681.0|                                      0.0|                                  0.0|                     2249894.0|                                     0.0|                                 0.0|                                              0.0|                               0.0|                                 4298541.0|                                        0.0|                                        136823.0|                    0.0|                        0.0|                           0.0|            0.0|                   227936.0|           0.0|                    0.0|                                            0.0|                                  0.0|                           0.0|         2078070|                             0|            1|1598.24|             0.61|               2.31|                4.26|            0.61|\n",
      "| 13|2000|january|   MT|   midwest|   302002.0|       0.0|  1837228.0|    2734966.0|        0.0|           98807.0|   322126.0|             537577.0|              5356.0|       5998492.0|                 6702247.0|               506327.0|                   287788.0|             518377.0|                122986.0|     5965591.0|                         0.0|                             622603.0| 1.4454666E7|             0.0|         0.0|                      5290254.0|                                      0.0|                                  0.0|                     3544619.0|                                     0.0|                                 0.0|                                              0.0|                               0.0|                                 4516488.0|                                        0.0|                                        255856.0|                    0.0|                        0.0|                           0.0|            0.0|                   286198.0|           0.0|                    0.0|                                            0.0|                                  0.0|                           0.0|         2505245|                             0|            1|1598.24|             0.61|               2.31|                4.26|            0.61|\n",
      "| 14|2000|january|   PA|     north|  1321715.0|       0.0|  2506107.0|    1255572.0|        0.0|          771308.0|   842141.0|             885476.0|           1687010.0|     1.0397922E7|                 9891932.0|              1452409.0|                   271488.0|             689009.0|                293485.0|      892163.0|                         0.0|                            2996773.0| 1.7597074E7|             0.0|         0.0|                      5839339.0|                                      0.0|                                  0.0|                     5853614.0|                                     0.0|                                 0.0|                                              0.0|                               0.0|                                 9415007.0|                                        0.0|                                        314129.0|                    0.0|                        0.0|                           0.0|            0.0|                   158348.0|           0.0|                    0.0|                                            0.0|                                  0.0|                           0.0|         6195965|                             0|            1|1598.24|             0.61|               2.31|                4.26|            0.61|\n",
      "| 15|2000|january|   PB|north_east|  1351422.0|       0.0|  1971817.0|    5556557.0|        0.0|          763383.0|  1729472.0|             531092.0|              6819.0|       8455014.0|                 9164933.0|              1315192.0|                   215491.0|             193623.0|                113133.0|       38801.0|                         0.0|                             186368.0| 1.1047735E7|             0.0|         0.0|                      3084360.0|                                      0.0|                                  0.0|                     2936019.0|                                     0.0|                                 0.0|                                              0.0|                               0.0|                               1.0933455E7|                                        0.0|                                        194863.0|                    0.0|                        0.0|                           0.0|            0.0|                4.9780562E7|           0.0|                    0.0|                                            0.0|                                  0.0|                           0.0|         3444794|                             0|            1|1598.24|             0.61|               2.31|                4.26|            0.61|\n",
      "| 16|2000|january|   PE|north_east|  6268803.0|      13.0|  6167644.0|    5650794.0|        0.0|         2688235.0|  8230496.0|            1679485.0|            245392.0|     1.5783042E7|               2.6054337E7|            3.8164839E7|                   983356.0|            2266139.0|                519577.0|     7442780.0|                         0.0|                            2893853.0| 5.1098148E7|             0.0|         0.0|                    1.4322361E7|                                      0.0|                                  0.0|                     8608550.0|                                     0.0|                                 0.0|                                              0.0|                               0.0|                               1.5511663E7|                                        0.0|                                        796051.0|                    0.0|                        0.0|                           0.0|            0.0|                   312474.0|           0.0|                    0.0|                                            0.0|                                  0.0|                           0.0|         7929153|                             0|            1|1598.24|             0.61|               2.31|                4.26|            0.61|\n",
      "| 17|2000|january|   PI|north_east|   382374.0|       0.0|  1001688.0|    2261830.0|        0.0|           88220.0|   261477.0|             291999.0|             16605.0|       4285628.0|                 3839267.0|              1119727.0|                    58819.0|             165302.0|                 30629.0|      469071.0|                         0.0|                             182915.0|   8970699.0|             0.0|         0.0|                      3232042.0|                                      0.0|                                  0.0|                     2280136.0|                                     0.0|                                 0.0|                                              0.0|                               0.0|                                 3823880.0|                                        0.0|                                         99030.0|                    0.0|                        0.0|                           0.0|            0.0|                    73288.0|           0.0|                    0.0|                                            0.0|                                  0.0|                           0.0|         2843427|                             0|            1|1598.24|             0.61|               2.31|                4.26|            0.61|\n",
      "| 18|2000|january|   PR|     south|4.5984119E7|       0.0|1.0114872E7|    5045577.0|1.2768408E7|       2.3702615E7|2.6596165E7|            5748682.0|           3925211.0|     6.0829302E7|                3.987565E7|            5.4801093E7|                  5692244.0|            3876963.0|               9880454.0|     1398281.0|                         0.0|                          7.3908984E7|1.34479291E8|             0.0|         0.0|                    2.9738452E7|                                      0.0|                                  0.0|                   2.6556999E7|                                     0.0|                                 0.0|                                              0.0|                               0.0|                               1.0729415E7|                                        0.0|                                       1127493.0|                    0.0|                        0.0|                           0.0|            0.0|                   881395.0|           0.0|                    0.0|                                            0.0|                                  0.0|                           0.0|         9564643|                             0|            1|1598.24|             0.61|               2.31|                4.26|            0.61|\n",
      "| 19|2000|january|   RJ|south_east|5.4679975E7|     110.0|2.4542326E7|  3.0839175E7|     4605.0|       2.8145513E7|4.7564082E7|          3.6256377E7|         1.9404254E7|    1.81047892E8|              2.47291061E8|           2.90260344E8|                 5.812162E7|                  0.0|             1.2710303E7|      164156.0|                         0.0|                          3.5680049E7|8.73100045E8|             0.0|         0.0|                   2.00959432E8|                                      0.0|                                  0.0|                   7.3286433E7|                                     0.0|                                 0.0|                                              0.0|                               0.0|                               7.0462373E7|                                        0.0|                                       4118315.0|                    0.0|                        0.0|                           0.0|            0.0|                1.2538119E7|           0.0|                    0.0|                                            0.0|                                  0.0|                           0.0|        14392106|                             0|            1|1598.24|             0.61|               2.31|                4.26|            0.61|\n",
      "| 20|2000|january|   RN|north_east|   997074.0|       0.0|  1849649.0|    1973085.0|        0.0|          586673.0|   150429.0|             493904.0|              4783.0|       3791527.0|                 9790539.0|              3138513.0|                   201215.0|             452018.0|                 11143.0|      232929.0|                         0.0|                              65459.0| 1.3165671E7|             0.0|         0.0|                      2998136.0|                                      0.0|                                  0.0|                     2869106.0|                                     0.0|                                 0.0|                                              0.0|                               0.0|                                 7668904.0|                                        0.0|                                        176400.0|                    0.0|                        0.0|                           0.0|            0.0|                    41888.0|           0.0|                    0.0|                                            0.0|                                  0.0|                           0.0|         2777509|                             0|            1|1598.24|             0.61|               2.31|                4.26|            0.61|\n",
      "+---+----+-------+-----+----------+-----------+----------+-----------+-------------+-----------+------------------+-----------+---------------------+--------------------+----------------+--------------------------+-----------------------+---------------------------+---------------------+------------------------+--------------+----------------------------+-------------------------------------+------------+----------------+------------+-------------------------------+-----------------------------------------+-------------------------------------+------------------------------+----------------------------------------+------------------------------------+-------------------------------------------------+----------------------------------+------------------------------------------+-------------------------------------------+------------------------------------------------+-----------------------+---------------------------+------------------------------+---------------+---------------------------+--------------+-----------------------+-----------------------------------------------+-------------------------------------+------------------------------+----------------+------------------------------+-------------+-------+-----------------+-------------------+--------------------+----------------+\n",
      "only showing top 20 rows\n",
      "\n"
     ]
    }
   ],
   "source": [
    "df.show()"
   ]
  },
  {
   "cell_type": "code",
   "execution_count": 16,
   "metadata": {},
   "outputs": [
    {
     "data": {
      "text/plain": [
       "DataFrame[id: int, year: int, month: string, state: string, region: string, import_tax: double, export_tax: double, ipi_tobacco: double, ipi_beverages: double, ipi_auto: double, ipi_linked_imports: double, ipi_others: double, income_tax_individual: double, income_tax_financial: double, income_tax_other: double, withholding_tax_employment: double, withholding_tax_capital: double, withholding_tax_remittances: double, withholding_tax_other: double, tax_financial_operations: double, rural_land_tax: double, provisional_tax_transactions: double, provisional_contribution_transactions: double, cofins: double, cofins_financial: double, cofins_other: double, contribution_social_integration: double, contribution_social_integration_financial: double, contribution_social_integration_other: double, social_contribution_net_profit: double, social_contribution_net_profit_financial: double, social_contribution_net_profit_other: double, intervention_economic_domain_non_deductible_fuels: double, intervention_economic_domain_fuels: double, contribution_security_plan_public_servants: double, contributions_security_plan_public_servants: double, contributions_special_fund_inspection_activities: double, fiscal_recovery_program: double, installment_payment_program: double, withholding_tax_law_article_30: double, unified_payment: double, other_administered_revenues: double, other_revenues: double, social_security_revenue: double, social_security_revenue_individual_contributors: double, social_security_revenue_other_sources: double, administered_by_other_agencies: double, population_state: int, economically_active_population: int, month_numeric: int, index: double, monthly_variation: double, quarterly_variation: double, semiannual_variation: double, annual_variation: double]"
      ]
     },
     "execution_count": 16,
     "metadata": {},
     "output_type": "execute_result"
    }
   ],
   "source": [
    "df.cache()"
   ]
  },
  {
   "cell_type": "code",
   "execution_count": null,
   "metadata": {},
   "outputs": [],
   "source": []
  }
 ],
 "metadata": {
  "kernelspec": {
   "display_name": ".venv",
   "language": "python",
   "name": "python3"
  },
  "language_info": {
   "codemirror_mode": {
    "name": "ipython",
    "version": 3
   },
   "file_extension": ".py",
   "mimetype": "text/x-python",
   "name": "python",
   "nbconvert_exporter": "python",
   "pygments_lexer": "ipython3",
   "version": "3.10.11"
  }
 },
 "nbformat": 4,
 "nbformat_minor": 2
}
