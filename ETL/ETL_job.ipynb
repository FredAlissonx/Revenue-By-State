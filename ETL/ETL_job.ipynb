{
 "cells": [
  {
   "cell_type": "markdown",
   "metadata": {},
   "source": [
    "# 1 - Importing libraries"
   ]
  },
  {
   "cell_type": "code",
   "execution_count": 1,
   "metadata": {},
   "outputs": [],
   "source": [
    "from pyspark.sql import DataFrame\n",
    "from pyspark.sql.types import *\n",
    "from pyspark.sql.types import NumericType, StructType, Row\n",
    "from pyspark.sql.window import Window\n",
    "from pyspark.sql import functions as F\n",
    "import numpy as np\n",
    "import basedosdados as bd\n",
    "import pandas as pd\n",
    "import os"
   ]
  },
  {
   "cell_type": "markdown",
   "metadata": {},
   "source": [
    "## 1.1 - Setup ETL logging"
   ]
  },
  {
   "cell_type": "code",
   "execution_count": 2,
   "metadata": {},
   "outputs": [],
   "source": [
    "from loggings.logging_setup import LoggerSetup"
   ]
  },
  {
   "cell_type": "code",
   "execution_count": 3,
   "metadata": {},
   "outputs": [],
   "source": [
    "etl_logger = LoggerSetup.get_etl_logger()"
   ]
  },
  {
   "cell_type": "markdown",
   "metadata": {},
   "source": [
    "# 2 - Initializing Spark Session"
   ]
  },
  {
   "cell_type": "code",
   "execution_count": 4,
   "metadata": {},
   "outputs": [],
   "source": [
    "from utils.init_spark_session import SparkSessionManager\n",
    "\n",
    "SPARK_CONFIG: dict = {\n",
    "    \"spark.executor.memory\": \"4g\",\n",
    "    \"spark.executor.cores\": \"2\",\n",
    "    \"spark.driver.extraClassPath\": r\"C:\\mysql-connector-j-8.4.0.jar\",\n",
    "    \"spark.executor.extraClassPath\": r\"C:\\mysql-connector-j-8.4.0.jar\",\n",
    "    \"spark.driver.memory\": \"4g\",\n",
    "    \"spark.sql.shuffle.partitions\": \"200\",\n",
    "    \"spark.default.parallelism\": \"100\"\n",
    "}\n",
    "\n",
    "spark = SparkSessionManager.get_spark_session(\n",
    "    app_name=\"ETL Process\", config=SPARK_CONFIG\n",
    "    )"
   ]
  },
  {
   "cell_type": "markdown",
   "metadata": {},
   "source": [
    "# 3 - Extracting"
   ]
  },
  {
   "cell_type": "markdown",
   "metadata": {},
   "source": [
    "## 3.1 - Scraping file"
   ]
  },
  {
   "cell_type": "code",
   "execution_count": 5,
   "metadata": {},
   "outputs": [
    {
     "name": "stderr",
     "output_type": "stream",
     "text": [
      "2024-08-31 21:30:22,662 - WARNING - File already exists\n"
     ]
    }
   ],
   "source": [
    "from scraping_file.arrecadacao_estado_scrap_file import FileHandlerArrecadacaoEstado\n",
    "\n",
    "# Define the path to the download directory\n",
    "download_dir = r\"C:\\RevenueByState\\data\"\n",
    "\n",
    "# Create an instance of the FileHandlerArrecadacaoEstado class\n",
    "scrap = FileHandlerArrecadacaoEstado(download_dir)\n",
    "\n",
    "# Check if the download directory exists; create it if not\n",
    "if not os.path.exists(download_dir):\n",
    "    os.makedirs(download_dir)\n",
    "\n",
    "# List files and directories in the base directory\n",
    "paths = os.listdir(r\"C:\\RevenueByState\")\n",
    "# Extract the name of the download directory\n",
    "name_path = download_dir[download_dir.rfind('\\\\') + 1:]\n",
    "\n",
    "# Check if the file already exists in the directory\n",
    "if name_path not in paths or \"arrecadacao-estado.csv\" not in os.listdir(download_dir):\n",
    "    # Download the file if it does not exist\n",
    "    scrap.download_file()\n",
    "    etl_logger.info(\"File downloaded with success\")\n",
    "else:\n",
    "    etl_logger.warning(\"File already exists\")"
   ]
  },
  {
   "cell_type": "markdown",
   "metadata": {},
   "source": [
    "## 3.2 - Getting another resources (population by states) from https://basedosdados.org/"
   ]
  },
  {
   "cell_type": "code",
   "execution_count": 6,
   "metadata": {},
   "outputs": [],
   "source": [
    "def get_dataframe_from_basedosdados(dataset_id: str, table_id: str, billing_project_id: str) -> pd.DataFrame:\n",
    "    \"\"\"\n",
    "    Read dataframe from basedosdados\n",
    "\n",
    "    Parameters\n",
    "    ----------\n",
    "    dataset_id : str\n",
    "        The dataset id where the table is in\n",
    "    table_id : str\n",
    "        To identify our table\n",
    "    billing_project_id: str\n",
    "        Our billing project \n",
    "        \n",
    "    Returns\n",
    "    -------\n",
    "    pd.DataFrame\n",
    "        A pandas DataFrame with our resource from BigQuery\n",
    "    \"\"\"\n",
    "\n",
    "    return bd.read_table(\n",
    "        dataset_id=dataset_id,\n",
    "        table_id=table_id,\n",
    "        billing_project_id=billing_project_id\n",
    "    )"
   ]
  },
  {
   "cell_type": "code",
   "execution_count": 7,
   "metadata": {},
   "outputs": [
    {
     "name": "stderr",
     "output_type": "stream",
     "text": [
      "Downloading: 100%|██████████| 837/837 [00:00<00:00, 2314.88rows/s]\n"
     ]
    }
   ],
   "source": [
    "population_states_df: pd.DataFrame = get_dataframe_from_basedosdados(\n",
    "    dataset_id=\"br_ibge_populacao\", table_id=\"uf\", billing_project_id=\"revenue-etl\"\n",
    "    )"
   ]
  },
  {
   "cell_type": "code",
   "execution_count": 8,
   "metadata": {},
   "outputs": [
    {
     "name": "stderr",
     "output_type": "stream",
     "text": [
      "Downloading: 100%|██████████| 540/540 [00:00<00:00, 1489.94rows/s]\n"
     ]
    }
   ],
   "source": [
    "inflation_df: pd.DataFrame = get_dataframe_from_basedosdados(\n",
    "    dataset_id=\"br_ibge_inpc\", table_id=\"mes_brasil\", billing_project_id=\"revenue-etl\"\n",
    ") "
   ]
  },
  {
   "cell_type": "code",
   "execution_count": 9,
   "metadata": {},
   "outputs": [],
   "source": [
    "# changing np.nan to None (for Spark) \n",
    "population_states_df: pd.DataFrame  = population_states_df.replace([np.nan], [None])\n",
    "inflation_df: pd.DataFrame  = inflation_df.replace([np.nan], [None])"
   ]
  },
  {
   "cell_type": "code",
   "execution_count": 10,
   "metadata": {},
   "outputs": [
    {
     "data": {
      "text/html": [
       "<div>\n",
       "<style scoped>\n",
       "    .dataframe tbody tr th:only-of-type {\n",
       "        vertical-align: middle;\n",
       "    }\n",
       "\n",
       "    .dataframe tbody tr th {\n",
       "        vertical-align: top;\n",
       "    }\n",
       "\n",
       "    .dataframe thead th {\n",
       "        text-align: right;\n",
       "    }\n",
       "</style>\n",
       "<table border=\"1\" class=\"dataframe\">\n",
       "  <thead>\n",
       "    <tr style=\"text-align: right;\">\n",
       "      <th></th>\n",
       "      <th>sigla_uf</th>\n",
       "      <th>ano</th>\n",
       "      <th>populacao</th>\n",
       "      <th>populacao_economicamente_ativa</th>\n",
       "    </tr>\n",
       "  </thead>\n",
       "  <tbody>\n",
       "    <tr>\n",
       "      <th>0</th>\n",
       "      <td>AC</td>\n",
       "      <td>1991</td>\n",
       "      <td>417102</td>\n",
       "      <td>None</td>\n",
       "    </tr>\n",
       "    <tr>\n",
       "      <th>1</th>\n",
       "      <td>AL</td>\n",
       "      <td>1991</td>\n",
       "      <td>2512658</td>\n",
       "      <td>None</td>\n",
       "    </tr>\n",
       "    <tr>\n",
       "      <th>2</th>\n",
       "      <td>AM</td>\n",
       "      <td>1991</td>\n",
       "      <td>2102766</td>\n",
       "      <td>None</td>\n",
       "    </tr>\n",
       "    <tr>\n",
       "      <th>3</th>\n",
       "      <td>AP</td>\n",
       "      <td>1991</td>\n",
       "      <td>289035</td>\n",
       "      <td>None</td>\n",
       "    </tr>\n",
       "    <tr>\n",
       "      <th>4</th>\n",
       "      <td>BA</td>\n",
       "      <td>1991</td>\n",
       "      <td>11867336</td>\n",
       "      <td>None</td>\n",
       "    </tr>\n",
       "    <tr>\n",
       "      <th>...</th>\n",
       "      <td>...</td>\n",
       "      <td>...</td>\n",
       "      <td>...</td>\n",
       "      <td>...</td>\n",
       "    </tr>\n",
       "    <tr>\n",
       "      <th>832</th>\n",
       "      <td>RS</td>\n",
       "      <td>2021</td>\n",
       "      <td>11466630</td>\n",
       "      <td>9533</td>\n",
       "    </tr>\n",
       "    <tr>\n",
       "      <th>833</th>\n",
       "      <td>SC</td>\n",
       "      <td>2021</td>\n",
       "      <td>7338473</td>\n",
       "      <td>5947</td>\n",
       "    </tr>\n",
       "    <tr>\n",
       "      <th>834</th>\n",
       "      <td>SE</td>\n",
       "      <td>2021</td>\n",
       "      <td>2338474</td>\n",
       "      <td>1873</td>\n",
       "    </tr>\n",
       "    <tr>\n",
       "      <th>835</th>\n",
       "      <td>SP</td>\n",
       "      <td>2021</td>\n",
       "      <td>46649132</td>\n",
       "      <td>38573</td>\n",
       "    </tr>\n",
       "    <tr>\n",
       "      <th>836</th>\n",
       "      <td>TO</td>\n",
       "      <td>2021</td>\n",
       "      <td>1607363</td>\n",
       "      <td>1258</td>\n",
       "    </tr>\n",
       "  </tbody>\n",
       "</table>\n",
       "<p>837 rows × 4 columns</p>\n",
       "</div>"
      ],
      "text/plain": [
       "    sigla_uf   ano  populacao populacao_economicamente_ativa\n",
       "0         AC  1991     417102                           None\n",
       "1         AL  1991    2512658                           None\n",
       "2         AM  1991    2102766                           None\n",
       "3         AP  1991     289035                           None\n",
       "4         BA  1991   11867336                           None\n",
       "..       ...   ...        ...                            ...\n",
       "832       RS  2021   11466630                           9533\n",
       "833       SC  2021    7338473                           5947\n",
       "834       SE  2021    2338474                           1873\n",
       "835       SP  2021   46649132                          38573\n",
       "836       TO  2021    1607363                           1258\n",
       "\n",
       "[837 rows x 4 columns]"
      ]
     },
     "execution_count": 10,
     "metadata": {},
     "output_type": "execute_result"
    }
   ],
   "source": [
    "population_states_df"
   ]
  },
  {
   "cell_type": "code",
   "execution_count": 11,
   "metadata": {},
   "outputs": [
    {
     "data": {
      "text/html": [
       "<div>\n",
       "<style scoped>\n",
       "    .dataframe tbody tr th:only-of-type {\n",
       "        vertical-align: middle;\n",
       "    }\n",
       "\n",
       "    .dataframe tbody tr th {\n",
       "        vertical-align: top;\n",
       "    }\n",
       "\n",
       "    .dataframe thead th {\n",
       "        text-align: right;\n",
       "    }\n",
       "</style>\n",
       "<table border=\"1\" class=\"dataframe\">\n",
       "  <thead>\n",
       "    <tr style=\"text-align: right;\">\n",
       "      <th></th>\n",
       "      <th>ano</th>\n",
       "      <th>mes</th>\n",
       "      <th>indice</th>\n",
       "      <th>variacao_mensal</th>\n",
       "      <th>variacao_trimestral</th>\n",
       "      <th>variacao_semestral</th>\n",
       "      <th>variacao_anual</th>\n",
       "      <th>variacao_doze_meses</th>\n",
       "    </tr>\n",
       "  </thead>\n",
       "  <tbody>\n",
       "    <tr>\n",
       "      <th>0</th>\n",
       "      <td>1979</td>\n",
       "      <td>3</td>\n",
       "      <td>0.0</td>\n",
       "      <td>None</td>\n",
       "      <td>None</td>\n",
       "      <td>None</td>\n",
       "      <td>None</td>\n",
       "      <td>None</td>\n",
       "    </tr>\n",
       "    <tr>\n",
       "      <th>1</th>\n",
       "      <td>1979</td>\n",
       "      <td>4</td>\n",
       "      <td>0.0</td>\n",
       "      <td>3.45</td>\n",
       "      <td>None</td>\n",
       "      <td>None</td>\n",
       "      <td>None</td>\n",
       "      <td>None</td>\n",
       "    </tr>\n",
       "    <tr>\n",
       "      <th>2</th>\n",
       "      <td>1979</td>\n",
       "      <td>5</td>\n",
       "      <td>0.0</td>\n",
       "      <td>1.76</td>\n",
       "      <td>None</td>\n",
       "      <td>None</td>\n",
       "      <td>None</td>\n",
       "      <td>None</td>\n",
       "    </tr>\n",
       "    <tr>\n",
       "      <th>3</th>\n",
       "      <td>1979</td>\n",
       "      <td>6</td>\n",
       "      <td>0.0</td>\n",
       "      <td>3.0</td>\n",
       "      <td>8.43</td>\n",
       "      <td>None</td>\n",
       "      <td>None</td>\n",
       "      <td>None</td>\n",
       "    </tr>\n",
       "    <tr>\n",
       "      <th>4</th>\n",
       "      <td>1979</td>\n",
       "      <td>7</td>\n",
       "      <td>0.0</td>\n",
       "      <td>5.36</td>\n",
       "      <td>10.43</td>\n",
       "      <td>None</td>\n",
       "      <td>None</td>\n",
       "      <td>None</td>\n",
       "    </tr>\n",
       "    <tr>\n",
       "      <th>...</th>\n",
       "      <td>...</td>\n",
       "      <td>...</td>\n",
       "      <td>...</td>\n",
       "      <td>...</td>\n",
       "      <td>...</td>\n",
       "      <td>...</td>\n",
       "      <td>...</td>\n",
       "      <td>...</td>\n",
       "    </tr>\n",
       "    <tr>\n",
       "      <th>535</th>\n",
       "      <td>2023</td>\n",
       "      <td>10</td>\n",
       "      <td>6909.79</td>\n",
       "      <td>0.12</td>\n",
       "      <td>0.43</td>\n",
       "      <td>0.6</td>\n",
       "      <td>3.04</td>\n",
       "      <td>4.14</td>\n",
       "    </tr>\n",
       "    <tr>\n",
       "      <th>536</th>\n",
       "      <td>2023</td>\n",
       "      <td>11</td>\n",
       "      <td>6916.7</td>\n",
       "      <td>0.1</td>\n",
       "      <td>0.33</td>\n",
       "      <td>0.34</td>\n",
       "      <td>3.14</td>\n",
       "      <td>3.85</td>\n",
       "    </tr>\n",
       "    <tr>\n",
       "      <th>537</th>\n",
       "      <td>2023</td>\n",
       "      <td>11</td>\n",
       "      <td>6916.7</td>\n",
       "      <td>0.1</td>\n",
       "      <td>0.33</td>\n",
       "      <td>0.34</td>\n",
       "      <td>3.14</td>\n",
       "      <td>3.85</td>\n",
       "    </tr>\n",
       "    <tr>\n",
       "      <th>538</th>\n",
       "      <td>2023</td>\n",
       "      <td>12</td>\n",
       "      <td>6954.74</td>\n",
       "      <td>0.55</td>\n",
       "      <td>0.77</td>\n",
       "      <td>0.99</td>\n",
       "      <td>3.71</td>\n",
       "      <td>3.71</td>\n",
       "    </tr>\n",
       "    <tr>\n",
       "      <th>539</th>\n",
       "      <td>2024</td>\n",
       "      <td>1</td>\n",
       "      <td>6994.38</td>\n",
       "      <td>0.57</td>\n",
       "      <td>1.22</td>\n",
       "      <td>1.66</td>\n",
       "      <td>0.57</td>\n",
       "      <td>3.82</td>\n",
       "    </tr>\n",
       "  </tbody>\n",
       "</table>\n",
       "<p>540 rows × 8 columns</p>\n",
       "</div>"
      ],
      "text/plain": [
       "      ano  mes   indice variacao_mensal variacao_trimestral  \\\n",
       "0    1979    3      0.0            None                None   \n",
       "1    1979    4      0.0            3.45                None   \n",
       "2    1979    5      0.0            1.76                None   \n",
       "3    1979    6      0.0             3.0                8.43   \n",
       "4    1979    7      0.0            5.36               10.43   \n",
       "..    ...  ...      ...             ...                 ...   \n",
       "535  2023   10  6909.79            0.12                0.43   \n",
       "536  2023   11   6916.7             0.1                0.33   \n",
       "537  2023   11   6916.7             0.1                0.33   \n",
       "538  2023   12  6954.74            0.55                0.77   \n",
       "539  2024    1  6994.38            0.57                1.22   \n",
       "\n",
       "    variacao_semestral variacao_anual variacao_doze_meses  \n",
       "0                 None           None                None  \n",
       "1                 None           None                None  \n",
       "2                 None           None                None  \n",
       "3                 None           None                None  \n",
       "4                 None           None                None  \n",
       "..                 ...            ...                 ...  \n",
       "535                0.6           3.04                4.14  \n",
       "536               0.34           3.14                3.85  \n",
       "537               0.34           3.14                3.85  \n",
       "538               0.99           3.71                3.71  \n",
       "539               1.66           0.57                3.82  \n",
       "\n",
       "[540 rows x 8 columns]"
      ]
     },
     "execution_count": 11,
     "metadata": {},
     "output_type": "execute_result"
    }
   ],
   "source": [
    "inflation_df"
   ]
  },
  {
   "cell_type": "markdown",
   "metadata": {},
   "source": [
    "## 3.3 - Reading resources"
   ]
  },
  {
   "cell_type": "markdown",
   "metadata": {},
   "source": [
    "### 3.3.1 - Listing file paths"
   ]
  },
  {
   "cell_type": "code",
   "execution_count": 12,
   "metadata": {},
   "outputs": [],
   "source": [
    "# Path to files\n",
    "data = {\n",
    "    \"arrecadacao-estado\": r\"C:\\RevenueByState\\data\\\\arrecadacao-estado.csv\"\n",
    "}"
   ]
  },
  {
   "cell_type": "markdown",
   "metadata": {},
   "source": [
    "### 3.3.2 - Defining Schemas"
   ]
  },
  {
   "cell_type": "code",
   "execution_count": 13,
   "metadata": {},
   "outputs": [],
   "source": [
    "# Defining the schema (translating columns from Portuguese to English)\n",
    "collection_state_schema = StructType([\n",
    "    StructField(\"year\", IntegerType(), nullable=True),\n",
    "    StructField(\"month\", StringType(), nullable=True),\n",
    "    StructField(\"state\", StringType(), nullable=True),\n",
    "    StructField(\"import_tax\", DoubleType(), nullable=True),\n",
    "    StructField(\"export_tax\", DoubleType(), nullable=True),\n",
    "    StructField(\"ipi_tobacco\", DoubleType(), nullable=True),\n",
    "    StructField(\"ipi_beverages\", DoubleType(), nullable=True),\n",
    "    StructField(\"ipi_auto\", DoubleType(), nullable=True),\n",
    "    StructField(\"ipi_linked_imports\", DoubleType(), nullable=True),\n",
    "    StructField(\"ipi_others\", DoubleType(), nullable=True),\n",
    "    StructField(\"income_tax_individual\", DoubleType(), nullable=True),\n",
    "    StructField(\"income_tax_financial\", DoubleType(), nullable=True),\n",
    "    StructField(\"income_tax_other\", DoubleType(), nullable=True),\n",
    "    StructField(\"withholding_tax_employment\", DoubleType(), nullable=True),\n",
    "    StructField(\"withholding_tax_capital\", DoubleType(), nullable=True),\n",
    "    StructField(\"withholding_tax_remittances\", DoubleType(), nullable=True),\n",
    "    StructField(\"withholding_tax_other\", DoubleType(), nullable=True),\n",
    "    StructField(\"tax_financial_operations\", DoubleType(), nullable=True),\n",
    "    StructField(\"rural_land_tax\", DoubleType(), nullable=True),\n",
    "    StructField(\"provisional_tax_transactions\", DoubleType(), nullable=True),\n",
    "    StructField(\"provisional_contribution_transactions\", DoubleType(), nullable=True),\n",
    "    StructField(\"cofins\", DoubleType(), nullable=True),\n",
    "    StructField(\"cofins_financial\", DoubleType(), nullable=True),\n",
    "    StructField(\"cofins_other\", DoubleType(), nullable=True),\n",
    "    StructField(\"contribution_social_integration\", DoubleType(), nullable=True),\n",
    "    StructField(\"contribution_social_integration_financial\", DoubleType(), nullable=True),\n",
    "    StructField(\"contribution_social_integration_other\", DoubleType(), nullable=True),\n",
    "    StructField(\"social_contribution_net_profit\", DoubleType(), nullable=True),\n",
    "    StructField(\"social_contribution_net_profit_financial\", DoubleType(), nullable=True),\n",
    "    StructField(\"social_contribution_net_profit_other\", DoubleType(), nullable=True),\n",
    "    StructField(\"intervention_economic_domain_non_deductible_fuels\", DoubleType(), nullable=True),\n",
    "    StructField(\"intervention_economic_domain_fuels\", DoubleType(), nullable=True),\n",
    "    StructField(\"contribution_security_plan_public_servants\", DoubleType(), nullable=True),\n",
    "    StructField(\"contributions_security_plan_public_servants\", DoubleType(), nullable=True),\n",
    "    StructField(\"contributions_special_fund_inspection_activities\", DoubleType(), nullable=True),\n",
    "    StructField(\"fiscal_recovery_program\", DoubleType(), nullable=True),\n",
    "    StructField(\"installment_payment_program\", DoubleType(), nullable=True),\n",
    "    StructField(\"withholding_tax_law_article_30\", DoubleType(), nullable=True),\n",
    "    StructField(\"unified_payment\", DoubleType(), nullable=True),\n",
    "    StructField(\"other_administered_revenues\", DoubleType(), nullable=True),\n",
    "    StructField(\"other_revenues\", DoubleType(), nullable=True),\n",
    "    StructField(\"social_security_revenue\", DoubleType(), nullable=True),\n",
    "    StructField(\"social_security_revenue_individual_contributors\", DoubleType(), nullable=True),\n",
    "    StructField(\"social_security_revenue_other_sources\", DoubleType(), nullable=True),\n",
    "    StructField(\"administered_by_other_agencies\", DoubleType(), nullable=True)\n",
    "])"
   ]
  },
  {
   "cell_type": "code",
   "execution_count": 14,
   "metadata": {},
   "outputs": [],
   "source": [
    "population_states_schema = StructType([\n",
    "    StructField(name=\"state_uf\", dataType=StringType(), nullable=True),\n",
    "    StructField(name=\"year\", dataType=IntegerType(), nullable=True),\n",
    "    StructField(name=\"population_state\", dataType=IntegerType(), nullable=True),\n",
    "    StructField(name=\"economically_active_population\", dataType=IntegerType(), nullable=True)\n",
    "])"
   ]
  },
  {
   "cell_type": "code",
   "execution_count": 15,
   "metadata": {},
   "outputs": [],
   "source": [
    "inflation_schema = StructType([\n",
    "    StructField(\"year\", IntegerType(), nullable=True),\n",
    "    StructField(\"month\", IntegerType(), nullable=True),\n",
    "    StructField(\"index\", FloatType(), nullable=True),\n",
    "    StructField(\"monthly_variation\", FloatType(), nullable=True),\n",
    "    StructField(\"quarterly_variation\", FloatType(), nullable=True),\n",
    "    StructField(\"semiannual_variation\", FloatType(), nullable=True),\n",
    "    StructField(\"annual_variation\", FloatType(), nullable=True),\n",
    "    StructField(\"twelve_months_variation\", FloatType(), nullable=True)\n",
    "])"
   ]
  },
  {
   "cell_type": "markdown",
   "metadata": {},
   "source": [
    "### 3.3.3 - Reading all files"
   ]
  },
  {
   "cell_type": "code",
   "execution_count": 16,
   "metadata": {},
   "outputs": [],
   "source": [
    "def read_csv_file(file_path: str, schema: StructType = None, delimiter: str = \",\", header: bool = True, infer_schema: bool = False, options: dict = None) -> DataFrame:\n",
    "    \"\"\"\n",
    "    Reads a CSV file into a Spark DataFrame with various configurable options.\n",
    "\n",
    "    Parameters\n",
    "    ----------\n",
    "    file_path :str\n",
    "        Path to the CSV file.\n",
    "    schema : StructType (optional)\n",
    "        Schema to apply to the DataFrame. If not provided, schema can be inferred.\n",
    "    delimiter : str, (optional)\n",
    "        Delimiter used in the CSV file (default is ',').\n",
    "    header : bool (optional)\n",
    "        Whether the first row contains headers (default is True).\n",
    "    infer_schema : bool (optional)\n",
    "        Whether to infer the schema from the data (default is False).\n",
    "    options : dict (optional)\n",
    "        Additional options for the CSV reader.\n",
    "\n",
    "    Returns\n",
    "    ----------\n",
    "        DataFrame\n",
    "            The loaded DataFrame.\n",
    "    \"\"\"\n",
    "    try:\n",
    "        reader = spark.read.format(\"csv\")\n",
    "        \n",
    "        reader = reader.option(\"delimiter\", delimiter).option(\"header\", str(header).lower()).option(\"inferSchema\", str(infer_schema).lower())\n",
    "        \n",
    "        if options:\n",
    "            for key, value in options.items():\n",
    "                reader = reader.option(key, value)\n",
    "        \n",
    "        if schema:\n",
    "            reader = reader.schema(schema)\n",
    "\n",
    "        df = reader.load(file_path)\n",
    "        \n",
    "        return df\n",
    "    \n",
    "    except Exception as e:\n",
    "        etl_logger.error(f\"Error occurred while reading CSV file '{file_path}': {e}\")\n",
    "        return None"
   ]
  },
  {
   "cell_type": "code",
   "execution_count": 17,
   "metadata": {},
   "outputs": [],
   "source": [
    "collection_state_df = read_csv_file(\n",
    "    file_path= data.get(\"arrecadacao-estado\"),\n",
    "    schema=collection_state_schema,\n",
    "    delimiter=\";\",\n",
    "    infer_schema=True\n",
    "    )"
   ]
  },
  {
   "cell_type": "code",
   "execution_count": 18,
   "metadata": {},
   "outputs": [
    {
     "name": "stdout",
     "output_type": "stream",
     "text": [
      "+----+-------+-----+-----------+----------+-----------+-------------+-----------+------------------+-----------+---------------------+--------------------+----------------+--------------------------+-----------------------+---------------------------+---------------------+------------------------+--------------+----------------------------+-------------------------------------+------------+----------------+------------+-------------------------------+-----------------------------------------+-------------------------------------+------------------------------+----------------------------------------+------------------------------------+-------------------------------------------------+----------------------------------+------------------------------------------+-------------------------------------------+------------------------------------------------+-----------------------+---------------------------+------------------------------+---------------+---------------------------+--------------+-----------------------+-----------------------------------------------+-------------------------------------+------------------------------+\n",
      "|year|  month|state| import_tax|export_tax|ipi_tobacco|ipi_beverages|   ipi_auto|ipi_linked_imports| ipi_others|income_tax_individual|income_tax_financial|income_tax_other|withholding_tax_employment|withholding_tax_capital|withholding_tax_remittances|withholding_tax_other|tax_financial_operations|rural_land_tax|provisional_tax_transactions|provisional_contribution_transactions|      cofins|cofins_financial|cofins_other|contribution_social_integration|contribution_social_integration_financial|contribution_social_integration_other|social_contribution_net_profit|social_contribution_net_profit_financial|social_contribution_net_profit_other|intervention_economic_domain_non_deductible_fuels|intervention_economic_domain_fuels|contribution_security_plan_public_servants|contributions_security_plan_public_servants|contributions_special_fund_inspection_activities|fiscal_recovery_program|installment_payment_program|withholding_tax_law_article_30|unified_payment|other_administered_revenues|other_revenues|social_security_revenue|social_security_revenue_individual_contributors|social_security_revenue_other_sources|administered_by_other_agencies|\n",
      "+----+-------+-----+-----------+----------+-----------+-------------+-----------+------------------+-----------+---------------------+--------------------+----------------+--------------------------+-----------------------+---------------------------+---------------------+------------------------+--------------+----------------------------+-------------------------------------+------------+----------------+------------+-------------------------------+-----------------------------------------+-------------------------------------+------------------------------+----------------------------------------+------------------------------------+-------------------------------------------------+----------------------------------+------------------------------------------+-------------------------------------------+------------------------------------------------+-----------------------+---------------------------+------------------------------+---------------+---------------------------+--------------+-----------------------+-----------------------------------------------+-------------------------------------+------------------------------+\n",
      "|2000|Janeiro|   AC|      231.0|       0.0|   292096.0|          0.0|        0.0|             167.0|     1558.0|             177197.0|               643.0|        676835.0|                 1084940.0|                27652.0|                      570.0|              30894.0|                  1220.0|       28447.0|                         0.0|                                103.0|   1770475.0|            NULL|        NULL|                       387364.0|                                     NULL|                                 NULL|                      392830.0|                                    NULL|                                NULL|                                             NULL|                              NULL|                                 1243858.0|                                       NULL|                                         28329.0|                   NULL|                       NULL|                          NULL|           NULL|                    20911.0|          NULL|                   NULL|                                           NULL|                                 NULL|                          NULL|\n",
      "|2000|Janeiro|   AL|   475088.0|   33873.0|  1329338.0|     812470.0|        0.0|          141735.0|  3676847.0|             460804.0|               561.0|       2672106.0|                 4454947.0|               544056.0|                   191382.0|             309573.0|                 26939.0|     4252539.0|                         0.0|                              97248.0|   7493570.0|            NULL|        NULL|                      2545254.0|                                     NULL|                                 NULL|                     1775834.0|                                    NULL|                                NULL|                                             NULL|                              NULL|                                 3179753.0|                                       NULL|                                        125043.0|                   NULL|                       NULL|                          NULL|           NULL|                   127189.0|          NULL|                   NULL|                                           NULL|                                 NULL|                          NULL|\n",
      "|2000|Janeiro|   AM|1.1679405E7|       0.0|  1507146.0|    1791471.0|    27796.0|         4414483.0|  1800346.0|             700623.0|             90828.0|     1.0058713E7|               1.0174718E7|              1241708.0|                  3580022.0|            1029164.0|                843881.0|       40171.0|                         0.0|                             832562.0| 4.4000981E7|            NULL|        NULL|                    1.1671871E7|                                     NULL|                                 NULL|                     7652859.0|                                    NULL|                                NULL|                                             NULL|                              NULL|                                 4072567.0|                                       NULL|                                        161647.0|                   NULL|                       NULL|                          NULL|           NULL|                   187988.0|          NULL|                   NULL|                                           NULL|                                 NULL|                          NULL|\n",
      "|2000|Janeiro|   AP|    24267.0|       0.0|   424862.0|       1419.0|      321.0|           22333.0|    12165.0|             139226.0|             44135.0|        586572.0|                 1444486.0|               205031.0|                     5825.0|              34602.0|                  6999.0|        6477.0|                         0.0|                                  0.0|   1682102.0|            NULL|        NULL|                       574124.0|                                     NULL|                                 NULL|                      346964.0|                                    NULL|                                NULL|                                             NULL|                              NULL|                                 3981691.0|                                       NULL|                                         38738.0|                   NULL|                       NULL|                          NULL|           NULL|                    10769.0|          NULL|                   NULL|                                           NULL|                                 NULL|                          NULL|\n",
      "|2000|Janeiro|   BA|1.0476457E7|      13.0|  5542123.0|  1.1533707E7|        0.0|         7496476.0|2.3743858E7|            2498647.0|            177378.0|     2.5695696E7|               2.7277025E7|            1.3374802E7|                  2302766.0|            2022200.0|               1218485.0|     2446535.0|                         0.0|                          1.1923442E7| 8.1027229E7|            NULL|        NULL|                    2.3138894E7|                                     NULL|                                 NULL|                   1.5699282E7|                                    NULL|                                NULL|                                             NULL|                              NULL|                               1.7001662E7|                                       NULL|                                        687022.0|                   NULL|                       NULL|                          NULL|           NULL|                   536498.0|          NULL|                   NULL|                                           NULL|                                 NULL|                          NULL|\n",
      "|2000|Janeiro|   CE|  5576921.0|       0.0|  4535653.0|    3148254.0|        0.0|         1734529.0|  3716458.0|            1971500.0|             59874.0|     1.3247447E7|                1.594049E7|              6311419.0|                   948600.0|            1941958.0|                745659.0|      114393.0|                         0.0|                            4547426.0| 3.6892799E7|            NULL|        NULL|                      8743377.0|                                     NULL|                                 NULL|                     6505382.0|                                    NULL|                                NULL|                                             NULL|                              NULL|                                 8618224.0|                                       NULL|                                        506146.0|                   NULL|                       NULL|                          NULL|           NULL|                   143952.0|          NULL|                   NULL|                                           NULL|                                 NULL|                          NULL|\n",
      "|2000|Janeiro|   DF|  2254341.0|      43.0|  3197500.0|    2777942.0|        0.0|         2079272.0|  2433339.0|            3067374.0|           3913461.0|      7.158268E7|              2.57391352E8|           1.24316928E8|                  7145075.0|          3.5581549E7|             2.2472279E7|       64578.0|                         0.0|                         2.40726401E8|1.41910257E8|            NULL|        NULL|                    6.1028823E7|                                     NULL|                                 NULL|                   2.7194137E7|                                    NULL|                                NULL|                                             NULL|                              NULL|                               7.4389957E7|                                       NULL|                                        534320.0|                   NULL|                       NULL|                          NULL|           NULL|                3.3937318E7|          NULL|                   NULL|                                           NULL|                                 NULL|                          NULL|\n",
      "|2000|Janeiro|   ES|3.1950799E7|       0.0|  3598736.0|      20408.0|  1503039.0|        2.684043E7|  4036463.0|            1620843.0|              2542.0|     2.9105465E7|                 9380778.0|            1.0515327E7|                  4717282.0|            1703727.0|                491261.0|     1563052.0|                         0.0|                              28681.0| 4.9157907E7|            NULL|        NULL|                    1.3289266E7|                                     NULL|                                 NULL|                   1.2890143E7|                                    NULL|                                NULL|                                             NULL|                              NULL|                                 6038251.0|                                       NULL|                                       2164901.0|                   NULL|                       NULL|                          NULL|           NULL|                   382985.0|          NULL|                   NULL|                                           NULL|                                 NULL|                          NULL|\n",
      "|2000|Janeiro|   GO|  3747911.0|       0.0|  3236092.0|    5064141.0|  1091185.0|          986314.0|  2654994.0|            1401385.0|             45754.0|     1.8823998E7|               1.3094463E7|              6275215.0|                   132749.0|            1043647.0|                638840.0|     2269467.0|                         0.0|                            3912150.0| 4.7986002E7|            NULL|        NULL|                     1.356919E7|                                     NULL|                                 NULL|                     8180079.0|                                    NULL|                                NULL|                                             NULL|                              NULL|                                 7394364.0|                                       NULL|                                        658643.0|                   NULL|                       NULL|                          NULL|           NULL|                   403579.0|          NULL|                   NULL|                                           NULL|                                 NULL|                          NULL|\n",
      "|2000|Janeiro|   MA|  1714749.0|      69.0|  1124738.0|    4061569.0|        0.0|          206691.0|   484436.0|             479170.0|              4832.0|       3251185.0|                 4149532.0|               781569.0|                     1130.0|             289120.0|                 86071.0|      593391.0|                         0.0|                             612313.0|   9654439.0|            NULL|        NULL|                      5104547.0|                                     NULL|                                 NULL|                     2283622.0|                                    NULL|                                NULL|                                             NULL|                              NULL|                                 2966912.0|                                       NULL|                                        120868.0|                   NULL|                       NULL|                          NULL|           NULL|                   121337.0|          NULL|                   NULL|                                           NULL|                                 NULL|                          NULL|\n",
      "|2000|Janeiro|   MG|3.5549181E7|      57.0|1.5511142E7|  1.2111623E7|2.9305691E7|       1.5049305E7|3.8667924E7|          1.1038328E7|           3416372.0|     8.3378349E7|               7.3410958E7|            7.7963069E7|                1.1600682E7|          1.5573355E7|               3835234.0|     5262680.0|                         0.0|                          1.8475116E7|1.73737137E8|            NULL|        NULL|                    4.4074747E7|                                     NULL|                                 NULL|                   4.1904953E7|                                    NULL|                                NULL|                                             NULL|                              NULL|                               3.2234994E7|                                       NULL|                                       1880050.0|                   NULL|                       NULL|                          NULL|           NULL|                  1190058.0|          NULL|                   NULL|                                           NULL|                                 NULL|                          NULL|\n",
      "|2000|Janeiro|   MS|   437668.0|       0.0|   899850.0|     268111.0|        0.0|          365983.0|   626188.0|            1926537.0|              7972.0|       3983857.0|                 4331201.0|               797218.0|                    26225.0|             194378.0|                 52490.0|     1376859.0|                         0.0|                             210638.0| 1.3141747E7|            NULL|        NULL|                      3865681.0|                                     NULL|                                 NULL|                     2249894.0|                                    NULL|                                NULL|                                             NULL|                              NULL|                                 4298541.0|                                       NULL|                                        136823.0|                   NULL|                       NULL|                          NULL|           NULL|                   227936.0|          NULL|                   NULL|                                           NULL|                                 NULL|                          NULL|\n",
      "|2000|Janeiro|   MT|   302002.0|       0.0|  1837228.0|    2734966.0|        0.0|           98807.0|   322126.0|             537577.0|              5356.0|       5998492.0|                 6702247.0|               506327.0|                   287788.0|             518377.0|                122986.0|     5965591.0|                         0.0|                             622603.0| 1.4454666E7|            NULL|        NULL|                      5290254.0|                                     NULL|                                 NULL|                     3544619.0|                                    NULL|                                NULL|                                             NULL|                              NULL|                                 4516488.0|                                       NULL|                                        255856.0|                   NULL|                       NULL|                          NULL|           NULL|                   286198.0|          NULL|                   NULL|                                           NULL|                                 NULL|                          NULL|\n",
      "|2000|Janeiro|   PA|  1321715.0|       0.0|  2506107.0|    1255572.0|        0.0|          771308.0|   842141.0|             885476.0|           1687010.0|     1.0397922E7|                 9891932.0|              1452409.0|                   271488.0|             689009.0|                293485.0|      892163.0|                         0.0|                            2996773.0| 1.7597074E7|            NULL|        NULL|                      5839339.0|                                     NULL|                                 NULL|                     5853614.0|                                    NULL|                                NULL|                                             NULL|                              NULL|                                 9415007.0|                                       NULL|                                        314129.0|                   NULL|                       NULL|                          NULL|           NULL|                   158348.0|          NULL|                   NULL|                                           NULL|                                 NULL|                          NULL|\n",
      "|2000|Janeiro|   PB|  1351422.0|       0.0|  1971817.0|    5556557.0|        0.0|          763383.0|  1729472.0|             531092.0|              6819.0|       8455014.0|                 9164933.0|              1315192.0|                   215491.0|             193623.0|                113133.0|       38801.0|                         0.0|                             186368.0| 1.1047735E7|            NULL|        NULL|                      3084360.0|                                     NULL|                                 NULL|                     2936019.0|                                    NULL|                                NULL|                                             NULL|                              NULL|                               1.0933455E7|                                       NULL|                                        194863.0|                   NULL|                       NULL|                          NULL|           NULL|                4.9780562E7|          NULL|                   NULL|                                           NULL|                                 NULL|                          NULL|\n",
      "|2000|Janeiro|   PE|  6268803.0|      13.0|  6167644.0|    5650794.0|        0.0|         2688235.0|  8230496.0|            1679485.0|            245392.0|     1.5783042E7|               2.6054337E7|            3.8164839E7|                   983356.0|            2266139.0|                519577.0|     7442780.0|                         0.0|                            2893853.0| 5.1098148E7|            NULL|        NULL|                    1.4322361E7|                                     NULL|                                 NULL|                     8608550.0|                                    NULL|                                NULL|                                             NULL|                              NULL|                               1.5511663E7|                                       NULL|                                        796051.0|                   NULL|                       NULL|                          NULL|           NULL|                   312474.0|          NULL|                   NULL|                                           NULL|                                 NULL|                          NULL|\n",
      "|2000|Janeiro|   PI|   382374.0|       0.0|  1001688.0|    2261830.0|        0.0|           88220.0|   261477.0|             291999.0|             16605.0|       4285628.0|                 3839267.0|              1119727.0|                    58819.0|             165302.0|                 30629.0|      469071.0|                         0.0|                             182915.0|   8970699.0|            NULL|        NULL|                      3232042.0|                                     NULL|                                 NULL|                     2280136.0|                                    NULL|                                NULL|                                             NULL|                              NULL|                                 3823880.0|                                       NULL|                                         99030.0|                   NULL|                       NULL|                          NULL|           NULL|                    73288.0|          NULL|                   NULL|                                           NULL|                                 NULL|                          NULL|\n",
      "|2000|Janeiro|   PR|4.5984119E7|       0.0|1.0114872E7|    5045577.0|1.2768408E7|       2.3702615E7|2.6596165E7|            5748682.0|           3925211.0|     6.0829302E7|                3.987565E7|            5.4801093E7|                  5692244.0|            3876963.0|               9880454.0|     1398281.0|                         0.0|                          7.3908984E7|1.34479291E8|            NULL|        NULL|                    2.9738452E7|                                     NULL|                                 NULL|                   2.6556999E7|                                    NULL|                                NULL|                                             NULL|                              NULL|                               1.0729415E7|                                       NULL|                                       1127493.0|                   NULL|                       NULL|                          NULL|           NULL|                   881395.0|          NULL|                   NULL|                                           NULL|                                 NULL|                          NULL|\n",
      "|2000|Janeiro|   RJ|5.4679975E7|     110.0|2.4542326E7|  3.0839175E7|     4605.0|       2.8145513E7|4.7564082E7|          3.6256377E7|         1.9404254E7|    1.81047892E8|              2.47291061E8|           2.90260344E8|                 5.812162E7|                  0.0|             1.2710303E7|      164156.0|                         0.0|                          3.5680049E7|8.73100045E8|            NULL|        NULL|                   2.00959432E8|                                     NULL|                                 NULL|                   7.3286433E7|                                    NULL|                                NULL|                                             NULL|                              NULL|                               7.0462373E7|                                       NULL|                                       4118315.0|                   NULL|                       NULL|                          NULL|           NULL|                1.2538119E7|          NULL|                   NULL|                                           NULL|                                 NULL|                          NULL|\n",
      "|2000|Janeiro|   RN|   997074.0|       0.0|  1849649.0|    1973085.0|        0.0|          586673.0|   150429.0|             493904.0|              4783.0|       3791527.0|                 9790539.0|              3138513.0|                   201215.0|             452018.0|                 11143.0|      232929.0|                         0.0|                              65459.0| 1.3165671E7|            NULL|        NULL|                      2998136.0|                                     NULL|                                 NULL|                     2869106.0|                                    NULL|                                NULL|                                             NULL|                              NULL|                                 7668904.0|                                       NULL|                                        176400.0|                   NULL|                       NULL|                          NULL|           NULL|                    41888.0|          NULL|                   NULL|                                           NULL|                                 NULL|                          NULL|\n",
      "+----+-------+-----+-----------+----------+-----------+-------------+-----------+------------------+-----------+---------------------+--------------------+----------------+--------------------------+-----------------------+---------------------------+---------------------+------------------------+--------------+----------------------------+-------------------------------------+------------+----------------+------------+-------------------------------+-----------------------------------------+-------------------------------------+------------------------------+----------------------------------------+------------------------------------+-------------------------------------------------+----------------------------------+------------------------------------------+-------------------------------------------+------------------------------------------------+-----------------------+---------------------------+------------------------------+---------------+---------------------------+--------------+-----------------------+-----------------------------------------------+-------------------------------------+------------------------------+\n",
      "only showing top 20 rows\n",
      "\n"
     ]
    }
   ],
   "source": [
    "collection_state_df.show()"
   ]
  },
  {
   "cell_type": "code",
   "execution_count": 19,
   "metadata": {},
   "outputs": [],
   "source": [
    "def create_spark_dataframe_from_pandas(df: pd.DataFrame, schema: StructType = None) -> DataFrame:\n",
    "    \"\"\"\n",
    "    Create a Spark DataFrame from a Pandas DataFrame.\n",
    "\n",
    "    Parameters\n",
    "    ----------\n",
    "    df: pd.DataFrame\n",
    "        The Pandas DataFrame that will be converted to a Spark DataFrame.\n",
    "    schema: StructType, optional\n",
    "        The schema to apply to the Spark DataFrame. If not provided, the schema will be inferred.\n",
    "        \n",
    "    Returns\n",
    "    -------\n",
    "    spark.DataFrame\n",
    "        A Spark DataFrame created from the Pandas DataFrame.\n",
    "    \"\"\"\n",
    "    try:\n",
    "        return spark.createDataFrame(data=df, schema=schema) if schema else spark.createDataFrame(data=df) \n",
    "    except Exception as e:\n",
    "        etl_logger.error(f\"Error occurred while loading DataFrame: {e}\")\n",
    "        return None"
   ]
  },
  {
   "cell_type": "code",
   "execution_count": 20,
   "metadata": {},
   "outputs": [],
   "source": [
    "population_states_df = create_spark_dataframe_from_pandas(df=population_states_df, schema=population_states_schema)\n",
    "inflation_df = create_spark_dataframe_from_pandas(df=inflation_df, schema=inflation_schema)"
   ]
  },
  {
   "cell_type": "code",
   "execution_count": 21,
   "metadata": {},
   "outputs": [
    {
     "name": "stdout",
     "output_type": "stream",
     "text": [
      "root\n",
      " |-- year: integer (nullable = true)\n",
      " |-- month: string (nullable = true)\n",
      " |-- state: string (nullable = true)\n",
      " |-- import_tax: double (nullable = true)\n",
      " |-- export_tax: double (nullable = true)\n",
      " |-- ipi_tobacco: double (nullable = true)\n",
      " |-- ipi_beverages: double (nullable = true)\n",
      " |-- ipi_auto: double (nullable = true)\n",
      " |-- ipi_linked_imports: double (nullable = true)\n",
      " |-- ipi_others: double (nullable = true)\n",
      " |-- income_tax_individual: double (nullable = true)\n",
      " |-- income_tax_financial: double (nullable = true)\n",
      " |-- income_tax_other: double (nullable = true)\n",
      " |-- withholding_tax_employment: double (nullable = true)\n",
      " |-- withholding_tax_capital: double (nullable = true)\n",
      " |-- withholding_tax_remittances: double (nullable = true)\n",
      " |-- withholding_tax_other: double (nullable = true)\n",
      " |-- tax_financial_operations: double (nullable = true)\n",
      " |-- rural_land_tax: double (nullable = true)\n",
      " |-- provisional_tax_transactions: double (nullable = true)\n",
      " |-- provisional_contribution_transactions: double (nullable = true)\n",
      " |-- cofins: double (nullable = true)\n",
      " |-- cofins_financial: double (nullable = true)\n",
      " |-- cofins_other: double (nullable = true)\n",
      " |-- contribution_social_integration: double (nullable = true)\n",
      " |-- contribution_social_integration_financial: double (nullable = true)\n",
      " |-- contribution_social_integration_other: double (nullable = true)\n",
      " |-- social_contribution_net_profit: double (nullable = true)\n",
      " |-- social_contribution_net_profit_financial: double (nullable = true)\n",
      " |-- social_contribution_net_profit_other: double (nullable = true)\n",
      " |-- intervention_economic_domain_non_deductible_fuels: double (nullable = true)\n",
      " |-- intervention_economic_domain_fuels: double (nullable = true)\n",
      " |-- contribution_security_plan_public_servants: double (nullable = true)\n",
      " |-- contributions_security_plan_public_servants: double (nullable = true)\n",
      " |-- contributions_special_fund_inspection_activities: double (nullable = true)\n",
      " |-- fiscal_recovery_program: double (nullable = true)\n",
      " |-- installment_payment_program: double (nullable = true)\n",
      " |-- withholding_tax_law_article_30: double (nullable = true)\n",
      " |-- unified_payment: double (nullable = true)\n",
      " |-- other_administered_revenues: double (nullable = true)\n",
      " |-- other_revenues: double (nullable = true)\n",
      " |-- social_security_revenue: double (nullable = true)\n",
      " |-- social_security_revenue_individual_contributors: double (nullable = true)\n",
      " |-- social_security_revenue_other_sources: double (nullable = true)\n",
      " |-- administered_by_other_agencies: double (nullable = true)\n",
      "\n",
      "root\n",
      " |-- state_uf: string (nullable = true)\n",
      " |-- year: integer (nullable = true)\n",
      " |-- population_state: integer (nullable = true)\n",
      " |-- economically_active_population: integer (nullable = true)\n",
      "\n",
      "root\n",
      " |-- year: integer (nullable = true)\n",
      " |-- month: integer (nullable = true)\n",
      " |-- index: float (nullable = true)\n",
      " |-- monthly_variation: float (nullable = true)\n",
      " |-- quarterly_variation: float (nullable = true)\n",
      " |-- semiannual_variation: float (nullable = true)\n",
      " |-- annual_variation: float (nullable = true)\n",
      " |-- twelve_months_variation: float (nullable = true)\n",
      "\n"
     ]
    }
   ],
   "source": [
    "collection_state_df.printSchema()\n",
    "population_states_df.printSchema()\n",
    "inflation_df.printSchema()"
   ]
  },
  {
   "cell_type": "code",
   "execution_count": 22,
   "metadata": {},
   "outputs": [
    {
     "name": "stdout",
     "output_type": "stream",
     "text": [
      "+----+-------+-----+-----------+----------+-----------+-------------+-----------+------------------+-----------+---------------------+--------------------+----------------+--------------------------+-----------------------+---------------------------+---------------------+------------------------+--------------+----------------------------+-------------------------------------+------------+----------------+------------+-------------------------------+-----------------------------------------+-------------------------------------+------------------------------+----------------------------------------+------------------------------------+-------------------------------------------------+----------------------------------+------------------------------------------+-------------------------------------------+------------------------------------------------+-----------------------+---------------------------+------------------------------+---------------+---------------------------+--------------+-----------------------+-----------------------------------------------+-------------------------------------+------------------------------+\n",
      "|year|  month|state| import_tax|export_tax|ipi_tobacco|ipi_beverages|   ipi_auto|ipi_linked_imports| ipi_others|income_tax_individual|income_tax_financial|income_tax_other|withholding_tax_employment|withholding_tax_capital|withholding_tax_remittances|withholding_tax_other|tax_financial_operations|rural_land_tax|provisional_tax_transactions|provisional_contribution_transactions|      cofins|cofins_financial|cofins_other|contribution_social_integration|contribution_social_integration_financial|contribution_social_integration_other|social_contribution_net_profit|social_contribution_net_profit_financial|social_contribution_net_profit_other|intervention_economic_domain_non_deductible_fuels|intervention_economic_domain_fuels|contribution_security_plan_public_servants|contributions_security_plan_public_servants|contributions_special_fund_inspection_activities|fiscal_recovery_program|installment_payment_program|withholding_tax_law_article_30|unified_payment|other_administered_revenues|other_revenues|social_security_revenue|social_security_revenue_individual_contributors|social_security_revenue_other_sources|administered_by_other_agencies|\n",
      "+----+-------+-----+-----------+----------+-----------+-------------+-----------+------------------+-----------+---------------------+--------------------+----------------+--------------------------+-----------------------+---------------------------+---------------------+------------------------+--------------+----------------------------+-------------------------------------+------------+----------------+------------+-------------------------------+-----------------------------------------+-------------------------------------+------------------------------+----------------------------------------+------------------------------------+-------------------------------------------------+----------------------------------+------------------------------------------+-------------------------------------------+------------------------------------------------+-----------------------+---------------------------+------------------------------+---------------+---------------------------+--------------+-----------------------+-----------------------------------------------+-------------------------------------+------------------------------+\n",
      "|2000|Janeiro|   AC|      231.0|       0.0|   292096.0|          0.0|        0.0|             167.0|     1558.0|             177197.0|               643.0|        676835.0|                 1084940.0|                27652.0|                      570.0|              30894.0|                  1220.0|       28447.0|                         0.0|                                103.0|   1770475.0|            NULL|        NULL|                       387364.0|                                     NULL|                                 NULL|                      392830.0|                                    NULL|                                NULL|                                             NULL|                              NULL|                                 1243858.0|                                       NULL|                                         28329.0|                   NULL|                       NULL|                          NULL|           NULL|                    20911.0|          NULL|                   NULL|                                           NULL|                                 NULL|                          NULL|\n",
      "|2000|Janeiro|   AL|   475088.0|   33873.0|  1329338.0|     812470.0|        0.0|          141735.0|  3676847.0|             460804.0|               561.0|       2672106.0|                 4454947.0|               544056.0|                   191382.0|             309573.0|                 26939.0|     4252539.0|                         0.0|                              97248.0|   7493570.0|            NULL|        NULL|                      2545254.0|                                     NULL|                                 NULL|                     1775834.0|                                    NULL|                                NULL|                                             NULL|                              NULL|                                 3179753.0|                                       NULL|                                        125043.0|                   NULL|                       NULL|                          NULL|           NULL|                   127189.0|          NULL|                   NULL|                                           NULL|                                 NULL|                          NULL|\n",
      "|2000|Janeiro|   AM|1.1679405E7|       0.0|  1507146.0|    1791471.0|    27796.0|         4414483.0|  1800346.0|             700623.0|             90828.0|     1.0058713E7|               1.0174718E7|              1241708.0|                  3580022.0|            1029164.0|                843881.0|       40171.0|                         0.0|                             832562.0| 4.4000981E7|            NULL|        NULL|                    1.1671871E7|                                     NULL|                                 NULL|                     7652859.0|                                    NULL|                                NULL|                                             NULL|                              NULL|                                 4072567.0|                                       NULL|                                        161647.0|                   NULL|                       NULL|                          NULL|           NULL|                   187988.0|          NULL|                   NULL|                                           NULL|                                 NULL|                          NULL|\n",
      "|2000|Janeiro|   AP|    24267.0|       0.0|   424862.0|       1419.0|      321.0|           22333.0|    12165.0|             139226.0|             44135.0|        586572.0|                 1444486.0|               205031.0|                     5825.0|              34602.0|                  6999.0|        6477.0|                         0.0|                                  0.0|   1682102.0|            NULL|        NULL|                       574124.0|                                     NULL|                                 NULL|                      346964.0|                                    NULL|                                NULL|                                             NULL|                              NULL|                                 3981691.0|                                       NULL|                                         38738.0|                   NULL|                       NULL|                          NULL|           NULL|                    10769.0|          NULL|                   NULL|                                           NULL|                                 NULL|                          NULL|\n",
      "|2000|Janeiro|   BA|1.0476457E7|      13.0|  5542123.0|  1.1533707E7|        0.0|         7496476.0|2.3743858E7|            2498647.0|            177378.0|     2.5695696E7|               2.7277025E7|            1.3374802E7|                  2302766.0|            2022200.0|               1218485.0|     2446535.0|                         0.0|                          1.1923442E7| 8.1027229E7|            NULL|        NULL|                    2.3138894E7|                                     NULL|                                 NULL|                   1.5699282E7|                                    NULL|                                NULL|                                             NULL|                              NULL|                               1.7001662E7|                                       NULL|                                        687022.0|                   NULL|                       NULL|                          NULL|           NULL|                   536498.0|          NULL|                   NULL|                                           NULL|                                 NULL|                          NULL|\n",
      "|2000|Janeiro|   CE|  5576921.0|       0.0|  4535653.0|    3148254.0|        0.0|         1734529.0|  3716458.0|            1971500.0|             59874.0|     1.3247447E7|                1.594049E7|              6311419.0|                   948600.0|            1941958.0|                745659.0|      114393.0|                         0.0|                            4547426.0| 3.6892799E7|            NULL|        NULL|                      8743377.0|                                     NULL|                                 NULL|                     6505382.0|                                    NULL|                                NULL|                                             NULL|                              NULL|                                 8618224.0|                                       NULL|                                        506146.0|                   NULL|                       NULL|                          NULL|           NULL|                   143952.0|          NULL|                   NULL|                                           NULL|                                 NULL|                          NULL|\n",
      "|2000|Janeiro|   DF|  2254341.0|      43.0|  3197500.0|    2777942.0|        0.0|         2079272.0|  2433339.0|            3067374.0|           3913461.0|      7.158268E7|              2.57391352E8|           1.24316928E8|                  7145075.0|          3.5581549E7|             2.2472279E7|       64578.0|                         0.0|                         2.40726401E8|1.41910257E8|            NULL|        NULL|                    6.1028823E7|                                     NULL|                                 NULL|                   2.7194137E7|                                    NULL|                                NULL|                                             NULL|                              NULL|                               7.4389957E7|                                       NULL|                                        534320.0|                   NULL|                       NULL|                          NULL|           NULL|                3.3937318E7|          NULL|                   NULL|                                           NULL|                                 NULL|                          NULL|\n",
      "|2000|Janeiro|   ES|3.1950799E7|       0.0|  3598736.0|      20408.0|  1503039.0|        2.684043E7|  4036463.0|            1620843.0|              2542.0|     2.9105465E7|                 9380778.0|            1.0515327E7|                  4717282.0|            1703727.0|                491261.0|     1563052.0|                         0.0|                              28681.0| 4.9157907E7|            NULL|        NULL|                    1.3289266E7|                                     NULL|                                 NULL|                   1.2890143E7|                                    NULL|                                NULL|                                             NULL|                              NULL|                                 6038251.0|                                       NULL|                                       2164901.0|                   NULL|                       NULL|                          NULL|           NULL|                   382985.0|          NULL|                   NULL|                                           NULL|                                 NULL|                          NULL|\n",
      "|2000|Janeiro|   GO|  3747911.0|       0.0|  3236092.0|    5064141.0|  1091185.0|          986314.0|  2654994.0|            1401385.0|             45754.0|     1.8823998E7|               1.3094463E7|              6275215.0|                   132749.0|            1043647.0|                638840.0|     2269467.0|                         0.0|                            3912150.0| 4.7986002E7|            NULL|        NULL|                     1.356919E7|                                     NULL|                                 NULL|                     8180079.0|                                    NULL|                                NULL|                                             NULL|                              NULL|                                 7394364.0|                                       NULL|                                        658643.0|                   NULL|                       NULL|                          NULL|           NULL|                   403579.0|          NULL|                   NULL|                                           NULL|                                 NULL|                          NULL|\n",
      "|2000|Janeiro|   MA|  1714749.0|      69.0|  1124738.0|    4061569.0|        0.0|          206691.0|   484436.0|             479170.0|              4832.0|       3251185.0|                 4149532.0|               781569.0|                     1130.0|             289120.0|                 86071.0|      593391.0|                         0.0|                             612313.0|   9654439.0|            NULL|        NULL|                      5104547.0|                                     NULL|                                 NULL|                     2283622.0|                                    NULL|                                NULL|                                             NULL|                              NULL|                                 2966912.0|                                       NULL|                                        120868.0|                   NULL|                       NULL|                          NULL|           NULL|                   121337.0|          NULL|                   NULL|                                           NULL|                                 NULL|                          NULL|\n",
      "|2000|Janeiro|   MG|3.5549181E7|      57.0|1.5511142E7|  1.2111623E7|2.9305691E7|       1.5049305E7|3.8667924E7|          1.1038328E7|           3416372.0|     8.3378349E7|               7.3410958E7|            7.7963069E7|                1.1600682E7|          1.5573355E7|               3835234.0|     5262680.0|                         0.0|                          1.8475116E7|1.73737137E8|            NULL|        NULL|                    4.4074747E7|                                     NULL|                                 NULL|                   4.1904953E7|                                    NULL|                                NULL|                                             NULL|                              NULL|                               3.2234994E7|                                       NULL|                                       1880050.0|                   NULL|                       NULL|                          NULL|           NULL|                  1190058.0|          NULL|                   NULL|                                           NULL|                                 NULL|                          NULL|\n",
      "|2000|Janeiro|   MS|   437668.0|       0.0|   899850.0|     268111.0|        0.0|          365983.0|   626188.0|            1926537.0|              7972.0|       3983857.0|                 4331201.0|               797218.0|                    26225.0|             194378.0|                 52490.0|     1376859.0|                         0.0|                             210638.0| 1.3141747E7|            NULL|        NULL|                      3865681.0|                                     NULL|                                 NULL|                     2249894.0|                                    NULL|                                NULL|                                             NULL|                              NULL|                                 4298541.0|                                       NULL|                                        136823.0|                   NULL|                       NULL|                          NULL|           NULL|                   227936.0|          NULL|                   NULL|                                           NULL|                                 NULL|                          NULL|\n",
      "|2000|Janeiro|   MT|   302002.0|       0.0|  1837228.0|    2734966.0|        0.0|           98807.0|   322126.0|             537577.0|              5356.0|       5998492.0|                 6702247.0|               506327.0|                   287788.0|             518377.0|                122986.0|     5965591.0|                         0.0|                             622603.0| 1.4454666E7|            NULL|        NULL|                      5290254.0|                                     NULL|                                 NULL|                     3544619.0|                                    NULL|                                NULL|                                             NULL|                              NULL|                                 4516488.0|                                       NULL|                                        255856.0|                   NULL|                       NULL|                          NULL|           NULL|                   286198.0|          NULL|                   NULL|                                           NULL|                                 NULL|                          NULL|\n",
      "|2000|Janeiro|   PA|  1321715.0|       0.0|  2506107.0|    1255572.0|        0.0|          771308.0|   842141.0|             885476.0|           1687010.0|     1.0397922E7|                 9891932.0|              1452409.0|                   271488.0|             689009.0|                293485.0|      892163.0|                         0.0|                            2996773.0| 1.7597074E7|            NULL|        NULL|                      5839339.0|                                     NULL|                                 NULL|                     5853614.0|                                    NULL|                                NULL|                                             NULL|                              NULL|                                 9415007.0|                                       NULL|                                        314129.0|                   NULL|                       NULL|                          NULL|           NULL|                   158348.0|          NULL|                   NULL|                                           NULL|                                 NULL|                          NULL|\n",
      "|2000|Janeiro|   PB|  1351422.0|       0.0|  1971817.0|    5556557.0|        0.0|          763383.0|  1729472.0|             531092.0|              6819.0|       8455014.0|                 9164933.0|              1315192.0|                   215491.0|             193623.0|                113133.0|       38801.0|                         0.0|                             186368.0| 1.1047735E7|            NULL|        NULL|                      3084360.0|                                     NULL|                                 NULL|                     2936019.0|                                    NULL|                                NULL|                                             NULL|                              NULL|                               1.0933455E7|                                       NULL|                                        194863.0|                   NULL|                       NULL|                          NULL|           NULL|                4.9780562E7|          NULL|                   NULL|                                           NULL|                                 NULL|                          NULL|\n",
      "|2000|Janeiro|   PE|  6268803.0|      13.0|  6167644.0|    5650794.0|        0.0|         2688235.0|  8230496.0|            1679485.0|            245392.0|     1.5783042E7|               2.6054337E7|            3.8164839E7|                   983356.0|            2266139.0|                519577.0|     7442780.0|                         0.0|                            2893853.0| 5.1098148E7|            NULL|        NULL|                    1.4322361E7|                                     NULL|                                 NULL|                     8608550.0|                                    NULL|                                NULL|                                             NULL|                              NULL|                               1.5511663E7|                                       NULL|                                        796051.0|                   NULL|                       NULL|                          NULL|           NULL|                   312474.0|          NULL|                   NULL|                                           NULL|                                 NULL|                          NULL|\n",
      "|2000|Janeiro|   PI|   382374.0|       0.0|  1001688.0|    2261830.0|        0.0|           88220.0|   261477.0|             291999.0|             16605.0|       4285628.0|                 3839267.0|              1119727.0|                    58819.0|             165302.0|                 30629.0|      469071.0|                         0.0|                             182915.0|   8970699.0|            NULL|        NULL|                      3232042.0|                                     NULL|                                 NULL|                     2280136.0|                                    NULL|                                NULL|                                             NULL|                              NULL|                                 3823880.0|                                       NULL|                                         99030.0|                   NULL|                       NULL|                          NULL|           NULL|                    73288.0|          NULL|                   NULL|                                           NULL|                                 NULL|                          NULL|\n",
      "|2000|Janeiro|   PR|4.5984119E7|       0.0|1.0114872E7|    5045577.0|1.2768408E7|       2.3702615E7|2.6596165E7|            5748682.0|           3925211.0|     6.0829302E7|                3.987565E7|            5.4801093E7|                  5692244.0|            3876963.0|               9880454.0|     1398281.0|                         0.0|                          7.3908984E7|1.34479291E8|            NULL|        NULL|                    2.9738452E7|                                     NULL|                                 NULL|                   2.6556999E7|                                    NULL|                                NULL|                                             NULL|                              NULL|                               1.0729415E7|                                       NULL|                                       1127493.0|                   NULL|                       NULL|                          NULL|           NULL|                   881395.0|          NULL|                   NULL|                                           NULL|                                 NULL|                          NULL|\n",
      "|2000|Janeiro|   RJ|5.4679975E7|     110.0|2.4542326E7|  3.0839175E7|     4605.0|       2.8145513E7|4.7564082E7|          3.6256377E7|         1.9404254E7|    1.81047892E8|              2.47291061E8|           2.90260344E8|                 5.812162E7|                  0.0|             1.2710303E7|      164156.0|                         0.0|                          3.5680049E7|8.73100045E8|            NULL|        NULL|                   2.00959432E8|                                     NULL|                                 NULL|                   7.3286433E7|                                    NULL|                                NULL|                                             NULL|                              NULL|                               7.0462373E7|                                       NULL|                                       4118315.0|                   NULL|                       NULL|                          NULL|           NULL|                1.2538119E7|          NULL|                   NULL|                                           NULL|                                 NULL|                          NULL|\n",
      "|2000|Janeiro|   RN|   997074.0|       0.0|  1849649.0|    1973085.0|        0.0|          586673.0|   150429.0|             493904.0|              4783.0|       3791527.0|                 9790539.0|              3138513.0|                   201215.0|             452018.0|                 11143.0|      232929.0|                         0.0|                              65459.0| 1.3165671E7|            NULL|        NULL|                      2998136.0|                                     NULL|                                 NULL|                     2869106.0|                                    NULL|                                NULL|                                             NULL|                              NULL|                                 7668904.0|                                       NULL|                                        176400.0|                   NULL|                       NULL|                          NULL|           NULL|                    41888.0|          NULL|                   NULL|                                           NULL|                                 NULL|                          NULL|\n",
      "+----+-------+-----+-----------+----------+-----------+-------------+-----------+------------------+-----------+---------------------+--------------------+----------------+--------------------------+-----------------------+---------------------------+---------------------+------------------------+--------------+----------------------------+-------------------------------------+------------+----------------+------------+-------------------------------+-----------------------------------------+-------------------------------------+------------------------------+----------------------------------------+------------------------------------+-------------------------------------------------+----------------------------------+------------------------------------------+-------------------------------------------+------------------------------------------------+-----------------------+---------------------------+------------------------------+---------------+---------------------------+--------------+-----------------------+-----------------------------------------------+-------------------------------------+------------------------------+\n",
      "only showing top 20 rows\n",
      "\n"
     ]
    }
   ],
   "source": [
    "collection_state_df.show()"
   ]
  },
  {
   "cell_type": "code",
   "execution_count": 23,
   "metadata": {},
   "outputs": [],
   "source": [
    "# Caching all dataframes\n",
    "collection_state_df = collection_state_df.cache()\n",
    "population_states_df = population_states_df.cache()\n",
    "inflation_df = inflation_df.cache()"
   ]
  },
  {
   "cell_type": "markdown",
   "metadata": {},
   "source": [
    "# 4 - Transforming"
   ]
  },
  {
   "cell_type": "markdown",
   "metadata": {},
   "source": [
    "## 4.1 - Validate and Cleanse Data"
   ]
  },
  {
   "cell_type": "markdown",
   "metadata": {},
   "source": [
    "### 4.1.1 - Joining tables (population_states and collection_state)"
   ]
  },
  {
   "cell_type": "code",
   "execution_count": 24,
   "metadata": {},
   "outputs": [],
   "source": [
    "# Alias for the tables\n",
    "collection_state_df = collection_state_df.alias(\"cs\")\n",
    "population_states_df = population_states_df.alias(\"ps\")"
   ]
  },
  {
   "cell_type": "code",
   "execution_count": 25,
   "metadata": {},
   "outputs": [],
   "source": [
    "# Joining collection with population\n",
    "collection_population_condition = (\n",
    "    (F.col(\"ps.year\") == F.col(\"cs.year\")) &\n",
    "    (F.col(\"ps.state_uf\") == F.col(\"cs.state\"))\n",
    ")\n",
    "collection_population_state_df: DataFrame = collection_state_df.join(\n",
    "    other=population_states_df,\n",
    "    on=collection_population_condition,\n",
    "    how=\"left\"\n",
    ").select(\n",
    "    \"cs.*\",\n",
    "    \"ps.population_state\",\n",
    "    \"ps.economically_active_population\"\n",
    ")"
   ]
  },
  {
   "cell_type": "code",
   "execution_count": 26,
   "metadata": {},
   "outputs": [
    {
     "name": "stdout",
     "output_type": "stream",
     "text": [
      "+----+-------+-----+-----------+----------+-----------+-------------+-----------+------------------+-----------+---------------------+--------------------+----------------+--------------------------+-----------------------+---------------------------+---------------------+------------------------+--------------+----------------------------+-------------------------------------+------------+----------------+------------+-------------------------------+-----------------------------------------+-------------------------------------+------------------------------+----------------------------------------+------------------------------------+-------------------------------------------------+----------------------------------+------------------------------------------+-------------------------------------------+------------------------------------------------+-----------------------+---------------------------+------------------------------+---------------+---------------------------+--------------+-----------------------+-----------------------------------------------+-------------------------------------+------------------------------+----------------+------------------------------+\n",
      "|year|  month|state| import_tax|export_tax|ipi_tobacco|ipi_beverages|   ipi_auto|ipi_linked_imports| ipi_others|income_tax_individual|income_tax_financial|income_tax_other|withholding_tax_employment|withholding_tax_capital|withholding_tax_remittances|withholding_tax_other|tax_financial_operations|rural_land_tax|provisional_tax_transactions|provisional_contribution_transactions|      cofins|cofins_financial|cofins_other|contribution_social_integration|contribution_social_integration_financial|contribution_social_integration_other|social_contribution_net_profit|social_contribution_net_profit_financial|social_contribution_net_profit_other|intervention_economic_domain_non_deductible_fuels|intervention_economic_domain_fuels|contribution_security_plan_public_servants|contributions_security_plan_public_servants|contributions_special_fund_inspection_activities|fiscal_recovery_program|installment_payment_program|withholding_tax_law_article_30|unified_payment|other_administered_revenues|other_revenues|social_security_revenue|social_security_revenue_individual_contributors|social_security_revenue_other_sources|administered_by_other_agencies|population_state|economically_active_population|\n",
      "+----+-------+-----+-----------+----------+-----------+-------------+-----------+------------------+-----------+---------------------+--------------------+----------------+--------------------------+-----------------------+---------------------------+---------------------+------------------------+--------------+----------------------------+-------------------------------------+------------+----------------+------------+-------------------------------+-----------------------------------------+-------------------------------------+------------------------------+----------------------------------------+------------------------------------+-------------------------------------------------+----------------------------------+------------------------------------------+-------------------------------------------+------------------------------------------------+-----------------------+---------------------------+------------------------------+---------------+---------------------------+--------------+-----------------------+-----------------------------------------------+-------------------------------------+------------------------------+----------------+------------------------------+\n",
      "|2000|Janeiro|   ES|3.1950799E7|       0.0|  3598736.0|      20408.0|  1503039.0|        2.684043E7|  4036463.0|            1620843.0|              2542.0|     2.9105465E7|                 9380778.0|            1.0515327E7|                  4717282.0|            1703727.0|                491261.0|     1563052.0|                         0.0|                              28681.0| 4.9157907E7|            NULL|        NULL|                    1.3289266E7|                                     NULL|                                 NULL|                   1.2890143E7|                                    NULL|                                NULL|                                             NULL|                              NULL|                                 6038251.0|                                       NULL|                                       2164901.0|                   NULL|                       NULL|                          NULL|           NULL|                   382985.0|          NULL|                   NULL|                                           NULL|                                 NULL|                          NULL|         3097497|                          NULL|\n",
      "|2000|Janeiro|   AC|      231.0|       0.0|   292096.0|          0.0|        0.0|             167.0|     1558.0|             177197.0|               643.0|        676835.0|                 1084940.0|                27652.0|                      570.0|              30894.0|                  1220.0|       28447.0|                         0.0|                                103.0|   1770475.0|            NULL|        NULL|                       387364.0|                                     NULL|                                 NULL|                      392830.0|                                    NULL|                                NULL|                                             NULL|                              NULL|                                 1243858.0|                                       NULL|                                         28329.0|                   NULL|                       NULL|                          NULL|           NULL|                    20911.0|          NULL|                   NULL|                                           NULL|                                 NULL|                          NULL|          557882|                          NULL|\n",
      "|2000|Janeiro|   DF|  2254341.0|      43.0|  3197500.0|    2777942.0|        0.0|         2079272.0|  2433339.0|            3067374.0|           3913461.0|      7.158268E7|              2.57391352E8|           1.24316928E8|                  7145075.0|          3.5581549E7|             2.2472279E7|       64578.0|                         0.0|                         2.40726401E8|1.41910257E8|            NULL|        NULL|                    6.1028823E7|                                     NULL|                                 NULL|                   2.7194137E7|                                    NULL|                                NULL|                                             NULL|                              NULL|                               7.4389957E7|                                       NULL|                                        534320.0|                   NULL|                       NULL|                          NULL|           NULL|                3.3937318E7|          NULL|                   NULL|                                           NULL|                                 NULL|                          NULL|         2051146|                          NULL|\n",
      "|2000|Janeiro|   MT|   302002.0|       0.0|  1837228.0|    2734966.0|        0.0|           98807.0|   322126.0|             537577.0|              5356.0|       5998492.0|                 6702247.0|               506327.0|                   287788.0|             518377.0|                122986.0|     5965591.0|                         0.0|                             622603.0| 1.4454666E7|            NULL|        NULL|                      5290254.0|                                     NULL|                                 NULL|                     3544619.0|                                    NULL|                                NULL|                                             NULL|                              NULL|                                 4516488.0|                                       NULL|                                        255856.0|                   NULL|                       NULL|                          NULL|           NULL|                   286198.0|          NULL|                   NULL|                                           NULL|                                 NULL|                          NULL|         2505245|                          NULL|\n",
      "|2000|Janeiro|   PA|  1321715.0|       0.0|  2506107.0|    1255572.0|        0.0|          771308.0|   842141.0|             885476.0|           1687010.0|     1.0397922E7|                 9891932.0|              1452409.0|                   271488.0|             689009.0|                293485.0|      892163.0|                         0.0|                            2996773.0| 1.7597074E7|            NULL|        NULL|                      5839339.0|                                     NULL|                                 NULL|                     5853614.0|                                    NULL|                                NULL|                                             NULL|                              NULL|                                 9415007.0|                                       NULL|                                        314129.0|                   NULL|                       NULL|                          NULL|           NULL|                   158348.0|          NULL|                   NULL|                                           NULL|                                 NULL|                          NULL|         6195965|                          NULL|\n",
      "|2000|Janeiro|   CE|  5576921.0|       0.0|  4535653.0|    3148254.0|        0.0|         1734529.0|  3716458.0|            1971500.0|             59874.0|     1.3247447E7|                1.594049E7|              6311419.0|                   948600.0|            1941958.0|                745659.0|      114393.0|                         0.0|                            4547426.0| 3.6892799E7|            NULL|        NULL|                      8743377.0|                                     NULL|                                 NULL|                     6505382.0|                                    NULL|                                NULL|                                             NULL|                              NULL|                                 8618224.0|                                       NULL|                                        506146.0|                   NULL|                       NULL|                          NULL|           NULL|                   143952.0|          NULL|                   NULL|                                           NULL|                                 NULL|                          NULL|         7431597|                          NULL|\n",
      "|2000|Janeiro|   RO|    10184.0|       0.0|   604552.0|          0.0|        0.0|            6453.0|    26622.0|             703484.0|                 0.0|       2405470.0|                 7955556.0|               377430.0|                     2316.0|              75311.0|                  7432.0|     3955659.0|                         0.0|                              39126.0|   6446545.0|            NULL|        NULL|                      3227568.0|                                     NULL|                                 NULL|                     1569921.0|                                    NULL|                                NULL|                                             NULL|                              NULL|                                 9979258.0|                                       NULL|                                         64964.0|                   NULL|                       NULL|                          NULL|           NULL|                    35417.0|          NULL|                   NULL|                                           NULL|                                 NULL|                          NULL|         1380952|                          NULL|\n",
      "|2000|Janeiro|   GO|  3747911.0|       0.0|  3236092.0|    5064141.0|  1091185.0|          986314.0|  2654994.0|            1401385.0|             45754.0|     1.8823998E7|               1.3094463E7|              6275215.0|                   132749.0|            1043647.0|                638840.0|     2269467.0|                         0.0|                            3912150.0| 4.7986002E7|            NULL|        NULL|                     1.356919E7|                                     NULL|                                 NULL|                     8180079.0|                                    NULL|                                NULL|                                             NULL|                              NULL|                                 7394364.0|                                       NULL|                                        658643.0|                   NULL|                       NULL|                          NULL|           NULL|                   403579.0|          NULL|                   NULL|                                           NULL|                                 NULL|                          NULL|         5004196|                          NULL|\n",
      "|2000|Janeiro|   PB|  1351422.0|       0.0|  1971817.0|    5556557.0|        0.0|          763383.0|  1729472.0|             531092.0|              6819.0|       8455014.0|                 9164933.0|              1315192.0|                   215491.0|             193623.0|                113133.0|       38801.0|                         0.0|                             186368.0| 1.1047735E7|            NULL|        NULL|                      3084360.0|                                     NULL|                                 NULL|                     2936019.0|                                    NULL|                                NULL|                                             NULL|                              NULL|                               1.0933455E7|                                       NULL|                                        194863.0|                   NULL|                       NULL|                          NULL|           NULL|                4.9780562E7|          NULL|                   NULL|                                           NULL|                                 NULL|                          NULL|         3444794|                          NULL|\n",
      "|2000|Janeiro|   MG|3.5549181E7|      57.0|1.5511142E7|  1.2111623E7|2.9305691E7|       1.5049305E7|3.8667924E7|          1.1038328E7|           3416372.0|     8.3378349E7|               7.3410958E7|            7.7963069E7|                1.1600682E7|          1.5573355E7|               3835234.0|     5262680.0|                         0.0|                          1.8475116E7|1.73737137E8|            NULL|        NULL|                    4.4074747E7|                                     NULL|                                 NULL|                   4.1904953E7|                                    NULL|                                NULL|                                             NULL|                              NULL|                               3.2234994E7|                                       NULL|                                       1880050.0|                   NULL|                       NULL|                          NULL|           NULL|                  1190058.0|          NULL|                   NULL|                                           NULL|                                 NULL|                          NULL|        17905135|                          NULL|\n",
      "|2000|Janeiro|   PI|   382374.0|       0.0|  1001688.0|    2261830.0|        0.0|           88220.0|   261477.0|             291999.0|             16605.0|       4285628.0|                 3839267.0|              1119727.0|                    58819.0|             165302.0|                 30629.0|      469071.0|                         0.0|                             182915.0|   8970699.0|            NULL|        NULL|                      3232042.0|                                     NULL|                                 NULL|                     2280136.0|                                    NULL|                                NULL|                                             NULL|                              NULL|                                 3823880.0|                                       NULL|                                         99030.0|                   NULL|                       NULL|                          NULL|           NULL|                    73288.0|          NULL|                   NULL|                                           NULL|                                 NULL|                          NULL|         2843427|                          NULL|\n",
      "|2000|Janeiro|   AM|1.1679405E7|       0.0|  1507146.0|    1791471.0|    27796.0|         4414483.0|  1800346.0|             700623.0|             90828.0|     1.0058713E7|               1.0174718E7|              1241708.0|                  3580022.0|            1029164.0|                843881.0|       40171.0|                         0.0|                             832562.0| 4.4000981E7|            NULL|        NULL|                    1.1671871E7|                                     NULL|                                 NULL|                     7652859.0|                                    NULL|                                NULL|                                             NULL|                              NULL|                                 4072567.0|                                       NULL|                                        161647.0|                   NULL|                       NULL|                          NULL|           NULL|                   187988.0|          NULL|                   NULL|                                           NULL|                                 NULL|                          NULL|         2817253|                          NULL|\n",
      "|2000|Janeiro|   BA|1.0476457E7|      13.0|  5542123.0|  1.1533707E7|        0.0|         7496476.0|2.3743858E7|            2498647.0|            177378.0|     2.5695696E7|               2.7277025E7|            1.3374802E7|                  2302766.0|            2022200.0|               1218485.0|     2446535.0|                         0.0|                          1.1923442E7| 8.1027229E7|            NULL|        NULL|                    2.3138894E7|                                     NULL|                                 NULL|                   1.5699282E7|                                    NULL|                                NULL|                                             NULL|                              NULL|                               1.7001662E7|                                       NULL|                                        687022.0|                   NULL|                       NULL|                          NULL|           NULL|                   536498.0|          NULL|                   NULL|                                           NULL|                                 NULL|                          NULL|        13085768|                          NULL|\n",
      "|2000|Janeiro|   RJ|5.4679975E7|     110.0|2.4542326E7|  3.0839175E7|     4605.0|       2.8145513E7|4.7564082E7|          3.6256377E7|         1.9404254E7|    1.81047892E8|              2.47291061E8|           2.90260344E8|                 5.812162E7|                  0.0|             1.2710303E7|      164156.0|                         0.0|                          3.5680049E7|8.73100045E8|            NULL|        NULL|                   2.00959432E8|                                     NULL|                                 NULL|                   7.3286433E7|                                    NULL|                                NULL|                                             NULL|                              NULL|                               7.0462373E7|                                       NULL|                                       4118315.0|                   NULL|                       NULL|                          NULL|           NULL|                1.2538119E7|          NULL|                   NULL|                                           NULL|                                 NULL|                          NULL|        14392106|                          NULL|\n",
      "|2000|Janeiro|   PE|  6268803.0|      13.0|  6167644.0|    5650794.0|        0.0|         2688235.0|  8230496.0|            1679485.0|            245392.0|     1.5783042E7|               2.6054337E7|            3.8164839E7|                   983356.0|            2266139.0|                519577.0|     7442780.0|                         0.0|                            2893853.0| 5.1098148E7|            NULL|        NULL|                    1.4322361E7|                                     NULL|                                 NULL|                     8608550.0|                                    NULL|                                NULL|                                             NULL|                              NULL|                               1.5511663E7|                                       NULL|                                        796051.0|                   NULL|                       NULL|                          NULL|           NULL|                   312474.0|          NULL|                   NULL|                                           NULL|                                 NULL|                          NULL|         7929153|                          NULL|\n",
      "|2000|Janeiro|   AL|   475088.0|   33873.0|  1329338.0|     812470.0|        0.0|          141735.0|  3676847.0|             460804.0|               561.0|       2672106.0|                 4454947.0|               544056.0|                   191382.0|             309573.0|                 26939.0|     4252539.0|                         0.0|                              97248.0|   7493570.0|            NULL|        NULL|                      2545254.0|                                     NULL|                                 NULL|                     1775834.0|                                    NULL|                                NULL|                                             NULL|                              NULL|                                 3179753.0|                                       NULL|                                        125043.0|                   NULL|                       NULL|                          NULL|           NULL|                   127189.0|          NULL|                   NULL|                                           NULL|                                 NULL|                          NULL|         2827856|                          NULL|\n",
      "|2000|Janeiro|   MS|   437668.0|       0.0|   899850.0|     268111.0|        0.0|          365983.0|   626188.0|            1926537.0|              7972.0|       3983857.0|                 4331201.0|               797218.0|                    26225.0|             194378.0|                 52490.0|     1376859.0|                         0.0|                             210638.0| 1.3141747E7|            NULL|        NULL|                      3865681.0|                                     NULL|                                 NULL|                     2249894.0|                                    NULL|                                NULL|                                             NULL|                              NULL|                                 4298541.0|                                       NULL|                                        136823.0|                   NULL|                       NULL|                          NULL|           NULL|                   227936.0|          NULL|                   NULL|                                           NULL|                                 NULL|                          NULL|         2078070|                          NULL|\n",
      "|2000|Janeiro|   RN|   997074.0|       0.0|  1849649.0|    1973085.0|        0.0|          586673.0|   150429.0|             493904.0|              4783.0|       3791527.0|                 9790539.0|              3138513.0|                   201215.0|             452018.0|                 11143.0|      232929.0|                         0.0|                              65459.0| 1.3165671E7|            NULL|        NULL|                      2998136.0|                                     NULL|                                 NULL|                     2869106.0|                                    NULL|                                NULL|                                             NULL|                              NULL|                                 7668904.0|                                       NULL|                                        176400.0|                   NULL|                       NULL|                          NULL|           NULL|                    41888.0|          NULL|                   NULL|                                           NULL|                                 NULL|                          NULL|         2777509|                          NULL|\n",
      "|2000|Janeiro|   AP|    24267.0|       0.0|   424862.0|       1419.0|      321.0|           22333.0|    12165.0|             139226.0|             44135.0|        586572.0|                 1444486.0|               205031.0|                     5825.0|              34602.0|                  6999.0|        6477.0|                         0.0|                                  0.0|   1682102.0|            NULL|        NULL|                       574124.0|                                     NULL|                                 NULL|                      346964.0|                                    NULL|                                NULL|                                             NULL|                              NULL|                                 3981691.0|                                       NULL|                                         38738.0|                   NULL|                       NULL|                          NULL|           NULL|                    10769.0|          NULL|                   NULL|                                           NULL|                                 NULL|                          NULL|          477032|                          NULL|\n",
      "|2000|Janeiro|   MA|  1714749.0|      69.0|  1124738.0|    4061569.0|        0.0|          206691.0|   484436.0|             479170.0|              4832.0|       3251185.0|                 4149532.0|               781569.0|                     1130.0|             289120.0|                 86071.0|      593391.0|                         0.0|                             612313.0|   9654439.0|            NULL|        NULL|                      5104547.0|                                     NULL|                                 NULL|                     2283622.0|                                    NULL|                                NULL|                                             NULL|                              NULL|                                 2966912.0|                                       NULL|                                        120868.0|                   NULL|                       NULL|                          NULL|           NULL|                   121337.0|          NULL|                   NULL|                                           NULL|                                 NULL|                          NULL|         5657553|                          NULL|\n",
      "+----+-------+-----+-----------+----------+-----------+-------------+-----------+------------------+-----------+---------------------+--------------------+----------------+--------------------------+-----------------------+---------------------------+---------------------+------------------------+--------------+----------------------------+-------------------------------------+------------+----------------+------------+-------------------------------+-----------------------------------------+-------------------------------------+------------------------------+----------------------------------------+------------------------------------+-------------------------------------------------+----------------------------------+------------------------------------------+-------------------------------------------+------------------------------------------------+-----------------------+---------------------------+------------------------------+---------------+---------------------------+--------------+-----------------------+-----------------------------------------------+-------------------------------------+------------------------------+----------------+------------------------------+\n",
      "only showing top 20 rows\n",
      "\n"
     ]
    }
   ],
   "source": [
    "collection_population_state_df.show()"
   ]
  },
  {
   "cell_type": "markdown",
   "metadata": {},
   "source": [
    "### 4.1.2 - Solving ASCII problem"
   ]
  },
  {
   "cell_type": "code",
   "execution_count": 27,
   "metadata": {},
   "outputs": [],
   "source": [
    "# We have a non ASCII character (ç), that is from Portuguese language so we need to translate\n",
    "special_char = \"�\"\n",
    "\n",
    "correct_char = \"c\"\n",
    "\n",
    "collection_population_state_df = collection_population_state_df.withColumn(\"month\", F.translate(F.col(\"month\"), special_char, correct_char))"
   ]
  },
  {
   "cell_type": "code",
   "execution_count": 28,
   "metadata": {},
   "outputs": [],
   "source": [
    "# Changing months names from Portuguese to English and normalizing\n",
    "collection_population_state_df = collection_population_state_df.withColumn(\n",
    "    \"month\",\n",
    "    F.when(F.col(\"month\") == \"Janeiro\", \"january\")\n",
    "    .when(F.col(\"month\") == \"Fevereiro\", \"february\")\n",
    "    .when(F.col(\"month\") == \"Marco\", \"march\")\n",
    "    .when(F.col(\"month\") == \"Abril\", \"april\")\n",
    "    .when(F.col(\"month\") == \"Maio\", \"may\")\n",
    "    .when(F.col(\"month\") == \"Junho\", \"june\")\n",
    "    .when(F.col(\"month\") == \"Julho\", \"july\")\n",
    "    .when(F.col(\"month\") == \"Agosto\", \"august\")\n",
    "    .when(F.col(\"month\") == \"Setembro\", \"september\")\n",
    "    .when(F.col(\"month\") == \"Outubro\", \"october\")\n",
    "    .when(F.col(\"month\") == \"Novembro\", \"november\")\n",
    "    .when(F.col(\"month\") == \"Dezembro\", \"december\")\n",
    "    .otherwise(F.col(\"month\"))\n",
    ")"
   ]
  },
  {
   "cell_type": "code",
   "execution_count": 29,
   "metadata": {},
   "outputs": [
    {
     "name": "stdout",
     "output_type": "stream",
     "text": [
      "+----+-------+-----+-----------+----------+-----------+-------------+-----------+------------------+-----------+---------------------+--------------------+----------------+--------------------------+-----------------------+---------------------------+---------------------+------------------------+--------------+----------------------------+-------------------------------------+------------+----------------+------------+-------------------------------+-----------------------------------------+-------------------------------------+------------------------------+----------------------------------------+------------------------------------+-------------------------------------------------+----------------------------------+------------------------------------------+-------------------------------------------+------------------------------------------------+-----------------------+---------------------------+------------------------------+---------------+---------------------------+--------------+-----------------------+-----------------------------------------------+-------------------------------------+------------------------------+----------------+------------------------------+\n",
      "|year|  month|state| import_tax|export_tax|ipi_tobacco|ipi_beverages|   ipi_auto|ipi_linked_imports| ipi_others|income_tax_individual|income_tax_financial|income_tax_other|withholding_tax_employment|withholding_tax_capital|withholding_tax_remittances|withholding_tax_other|tax_financial_operations|rural_land_tax|provisional_tax_transactions|provisional_contribution_transactions|      cofins|cofins_financial|cofins_other|contribution_social_integration|contribution_social_integration_financial|contribution_social_integration_other|social_contribution_net_profit|social_contribution_net_profit_financial|social_contribution_net_profit_other|intervention_economic_domain_non_deductible_fuels|intervention_economic_domain_fuels|contribution_security_plan_public_servants|contributions_security_plan_public_servants|contributions_special_fund_inspection_activities|fiscal_recovery_program|installment_payment_program|withholding_tax_law_article_30|unified_payment|other_administered_revenues|other_revenues|social_security_revenue|social_security_revenue_individual_contributors|social_security_revenue_other_sources|administered_by_other_agencies|population_state|economically_active_population|\n",
      "+----+-------+-----+-----------+----------+-----------+-------------+-----------+------------------+-----------+---------------------+--------------------+----------------+--------------------------+-----------------------+---------------------------+---------------------+------------------------+--------------+----------------------------+-------------------------------------+------------+----------------+------------+-------------------------------+-----------------------------------------+-------------------------------------+------------------------------+----------------------------------------+------------------------------------+-------------------------------------------------+----------------------------------+------------------------------------------+-------------------------------------------+------------------------------------------------+-----------------------+---------------------------+------------------------------+---------------+---------------------------+--------------+-----------------------+-----------------------------------------------+-------------------------------------+------------------------------+----------------+------------------------------+\n",
      "|2000|january|   AC|      231.0|       0.0|   292096.0|          0.0|        0.0|             167.0|     1558.0|             177197.0|               643.0|        676835.0|                 1084940.0|                27652.0|                      570.0|              30894.0|                  1220.0|       28447.0|                         0.0|                                103.0|   1770475.0|            NULL|        NULL|                       387364.0|                                     NULL|                                 NULL|                      392830.0|                                    NULL|                                NULL|                                             NULL|                              NULL|                                 1243858.0|                                       NULL|                                         28329.0|                   NULL|                       NULL|                          NULL|           NULL|                    20911.0|          NULL|                   NULL|                                           NULL|                                 NULL|                          NULL|          557882|                          NULL|\n",
      "|2000|january|   AL|   475088.0|   33873.0|  1329338.0|     812470.0|        0.0|          141735.0|  3676847.0|             460804.0|               561.0|       2672106.0|                 4454947.0|               544056.0|                   191382.0|             309573.0|                 26939.0|     4252539.0|                         0.0|                              97248.0|   7493570.0|            NULL|        NULL|                      2545254.0|                                     NULL|                                 NULL|                     1775834.0|                                    NULL|                                NULL|                                             NULL|                              NULL|                                 3179753.0|                                       NULL|                                        125043.0|                   NULL|                       NULL|                          NULL|           NULL|                   127189.0|          NULL|                   NULL|                                           NULL|                                 NULL|                          NULL|         2827856|                          NULL|\n",
      "|2000|january|   AM|1.1679405E7|       0.0|  1507146.0|    1791471.0|    27796.0|         4414483.0|  1800346.0|             700623.0|             90828.0|     1.0058713E7|               1.0174718E7|              1241708.0|                  3580022.0|            1029164.0|                843881.0|       40171.0|                         0.0|                             832562.0| 4.4000981E7|            NULL|        NULL|                    1.1671871E7|                                     NULL|                                 NULL|                     7652859.0|                                    NULL|                                NULL|                                             NULL|                              NULL|                                 4072567.0|                                       NULL|                                        161647.0|                   NULL|                       NULL|                          NULL|           NULL|                   187988.0|          NULL|                   NULL|                                           NULL|                                 NULL|                          NULL|         2817253|                          NULL|\n",
      "|2000|january|   AP|    24267.0|       0.0|   424862.0|       1419.0|      321.0|           22333.0|    12165.0|             139226.0|             44135.0|        586572.0|                 1444486.0|               205031.0|                     5825.0|              34602.0|                  6999.0|        6477.0|                         0.0|                                  0.0|   1682102.0|            NULL|        NULL|                       574124.0|                                     NULL|                                 NULL|                      346964.0|                                    NULL|                                NULL|                                             NULL|                              NULL|                                 3981691.0|                                       NULL|                                         38738.0|                   NULL|                       NULL|                          NULL|           NULL|                    10769.0|          NULL|                   NULL|                                           NULL|                                 NULL|                          NULL|          477032|                          NULL|\n",
      "|2000|january|   BA|1.0476457E7|      13.0|  5542123.0|  1.1533707E7|        0.0|         7496476.0|2.3743858E7|            2498647.0|            177378.0|     2.5695696E7|               2.7277025E7|            1.3374802E7|                  2302766.0|            2022200.0|               1218485.0|     2446535.0|                         0.0|                          1.1923442E7| 8.1027229E7|            NULL|        NULL|                    2.3138894E7|                                     NULL|                                 NULL|                   1.5699282E7|                                    NULL|                                NULL|                                             NULL|                              NULL|                               1.7001662E7|                                       NULL|                                        687022.0|                   NULL|                       NULL|                          NULL|           NULL|                   536498.0|          NULL|                   NULL|                                           NULL|                                 NULL|                          NULL|        13085768|                          NULL|\n",
      "|2000|january|   CE|  5576921.0|       0.0|  4535653.0|    3148254.0|        0.0|         1734529.0|  3716458.0|            1971500.0|             59874.0|     1.3247447E7|                1.594049E7|              6311419.0|                   948600.0|            1941958.0|                745659.0|      114393.0|                         0.0|                            4547426.0| 3.6892799E7|            NULL|        NULL|                      8743377.0|                                     NULL|                                 NULL|                     6505382.0|                                    NULL|                                NULL|                                             NULL|                              NULL|                                 8618224.0|                                       NULL|                                        506146.0|                   NULL|                       NULL|                          NULL|           NULL|                   143952.0|          NULL|                   NULL|                                           NULL|                                 NULL|                          NULL|         7431597|                          NULL|\n",
      "|2000|january|   DF|  2254341.0|      43.0|  3197500.0|    2777942.0|        0.0|         2079272.0|  2433339.0|            3067374.0|           3913461.0|      7.158268E7|              2.57391352E8|           1.24316928E8|                  7145075.0|          3.5581549E7|             2.2472279E7|       64578.0|                         0.0|                         2.40726401E8|1.41910257E8|            NULL|        NULL|                    6.1028823E7|                                     NULL|                                 NULL|                   2.7194137E7|                                    NULL|                                NULL|                                             NULL|                              NULL|                               7.4389957E7|                                       NULL|                                        534320.0|                   NULL|                       NULL|                          NULL|           NULL|                3.3937318E7|          NULL|                   NULL|                                           NULL|                                 NULL|                          NULL|         2051146|                          NULL|\n",
      "|2000|january|   ES|3.1950799E7|       0.0|  3598736.0|      20408.0|  1503039.0|        2.684043E7|  4036463.0|            1620843.0|              2542.0|     2.9105465E7|                 9380778.0|            1.0515327E7|                  4717282.0|            1703727.0|                491261.0|     1563052.0|                         0.0|                              28681.0| 4.9157907E7|            NULL|        NULL|                    1.3289266E7|                                     NULL|                                 NULL|                   1.2890143E7|                                    NULL|                                NULL|                                             NULL|                              NULL|                                 6038251.0|                                       NULL|                                       2164901.0|                   NULL|                       NULL|                          NULL|           NULL|                   382985.0|          NULL|                   NULL|                                           NULL|                                 NULL|                          NULL|         3097497|                          NULL|\n",
      "|2000|january|   GO|  3747911.0|       0.0|  3236092.0|    5064141.0|  1091185.0|          986314.0|  2654994.0|            1401385.0|             45754.0|     1.8823998E7|               1.3094463E7|              6275215.0|                   132749.0|            1043647.0|                638840.0|     2269467.0|                         0.0|                            3912150.0| 4.7986002E7|            NULL|        NULL|                     1.356919E7|                                     NULL|                                 NULL|                     8180079.0|                                    NULL|                                NULL|                                             NULL|                              NULL|                                 7394364.0|                                       NULL|                                        658643.0|                   NULL|                       NULL|                          NULL|           NULL|                   403579.0|          NULL|                   NULL|                                           NULL|                                 NULL|                          NULL|         5004196|                          NULL|\n",
      "|2000|january|   MA|  1714749.0|      69.0|  1124738.0|    4061569.0|        0.0|          206691.0|   484436.0|             479170.0|              4832.0|       3251185.0|                 4149532.0|               781569.0|                     1130.0|             289120.0|                 86071.0|      593391.0|                         0.0|                             612313.0|   9654439.0|            NULL|        NULL|                      5104547.0|                                     NULL|                                 NULL|                     2283622.0|                                    NULL|                                NULL|                                             NULL|                              NULL|                                 2966912.0|                                       NULL|                                        120868.0|                   NULL|                       NULL|                          NULL|           NULL|                   121337.0|          NULL|                   NULL|                                           NULL|                                 NULL|                          NULL|         5657553|                          NULL|\n",
      "|2000|january|   MG|3.5549181E7|      57.0|1.5511142E7|  1.2111623E7|2.9305691E7|       1.5049305E7|3.8667924E7|          1.1038328E7|           3416372.0|     8.3378349E7|               7.3410958E7|            7.7963069E7|                1.1600682E7|          1.5573355E7|               3835234.0|     5262680.0|                         0.0|                          1.8475116E7|1.73737137E8|            NULL|        NULL|                    4.4074747E7|                                     NULL|                                 NULL|                   4.1904953E7|                                    NULL|                                NULL|                                             NULL|                              NULL|                               3.2234994E7|                                       NULL|                                       1880050.0|                   NULL|                       NULL|                          NULL|           NULL|                  1190058.0|          NULL|                   NULL|                                           NULL|                                 NULL|                          NULL|        17905135|                          NULL|\n",
      "|2000|january|   MS|   437668.0|       0.0|   899850.0|     268111.0|        0.0|          365983.0|   626188.0|            1926537.0|              7972.0|       3983857.0|                 4331201.0|               797218.0|                    26225.0|             194378.0|                 52490.0|     1376859.0|                         0.0|                             210638.0| 1.3141747E7|            NULL|        NULL|                      3865681.0|                                     NULL|                                 NULL|                     2249894.0|                                    NULL|                                NULL|                                             NULL|                              NULL|                                 4298541.0|                                       NULL|                                        136823.0|                   NULL|                       NULL|                          NULL|           NULL|                   227936.0|          NULL|                   NULL|                                           NULL|                                 NULL|                          NULL|         2078070|                          NULL|\n",
      "|2000|january|   MT|   302002.0|       0.0|  1837228.0|    2734966.0|        0.0|           98807.0|   322126.0|             537577.0|              5356.0|       5998492.0|                 6702247.0|               506327.0|                   287788.0|             518377.0|                122986.0|     5965591.0|                         0.0|                             622603.0| 1.4454666E7|            NULL|        NULL|                      5290254.0|                                     NULL|                                 NULL|                     3544619.0|                                    NULL|                                NULL|                                             NULL|                              NULL|                                 4516488.0|                                       NULL|                                        255856.0|                   NULL|                       NULL|                          NULL|           NULL|                   286198.0|          NULL|                   NULL|                                           NULL|                                 NULL|                          NULL|         2505245|                          NULL|\n",
      "|2000|january|   PA|  1321715.0|       0.0|  2506107.0|    1255572.0|        0.0|          771308.0|   842141.0|             885476.0|           1687010.0|     1.0397922E7|                 9891932.0|              1452409.0|                   271488.0|             689009.0|                293485.0|      892163.0|                         0.0|                            2996773.0| 1.7597074E7|            NULL|        NULL|                      5839339.0|                                     NULL|                                 NULL|                     5853614.0|                                    NULL|                                NULL|                                             NULL|                              NULL|                                 9415007.0|                                       NULL|                                        314129.0|                   NULL|                       NULL|                          NULL|           NULL|                   158348.0|          NULL|                   NULL|                                           NULL|                                 NULL|                          NULL|         6195965|                          NULL|\n",
      "|2000|january|   PB|  1351422.0|       0.0|  1971817.0|    5556557.0|        0.0|          763383.0|  1729472.0|             531092.0|              6819.0|       8455014.0|                 9164933.0|              1315192.0|                   215491.0|             193623.0|                113133.0|       38801.0|                         0.0|                             186368.0| 1.1047735E7|            NULL|        NULL|                      3084360.0|                                     NULL|                                 NULL|                     2936019.0|                                    NULL|                                NULL|                                             NULL|                              NULL|                               1.0933455E7|                                       NULL|                                        194863.0|                   NULL|                       NULL|                          NULL|           NULL|                4.9780562E7|          NULL|                   NULL|                                           NULL|                                 NULL|                          NULL|         3444794|                          NULL|\n",
      "|2000|january|   PE|  6268803.0|      13.0|  6167644.0|    5650794.0|        0.0|         2688235.0|  8230496.0|            1679485.0|            245392.0|     1.5783042E7|               2.6054337E7|            3.8164839E7|                   983356.0|            2266139.0|                519577.0|     7442780.0|                         0.0|                            2893853.0| 5.1098148E7|            NULL|        NULL|                    1.4322361E7|                                     NULL|                                 NULL|                     8608550.0|                                    NULL|                                NULL|                                             NULL|                              NULL|                               1.5511663E7|                                       NULL|                                        796051.0|                   NULL|                       NULL|                          NULL|           NULL|                   312474.0|          NULL|                   NULL|                                           NULL|                                 NULL|                          NULL|         7929153|                          NULL|\n",
      "|2000|january|   PI|   382374.0|       0.0|  1001688.0|    2261830.0|        0.0|           88220.0|   261477.0|             291999.0|             16605.0|       4285628.0|                 3839267.0|              1119727.0|                    58819.0|             165302.0|                 30629.0|      469071.0|                         0.0|                             182915.0|   8970699.0|            NULL|        NULL|                      3232042.0|                                     NULL|                                 NULL|                     2280136.0|                                    NULL|                                NULL|                                             NULL|                              NULL|                                 3823880.0|                                       NULL|                                         99030.0|                   NULL|                       NULL|                          NULL|           NULL|                    73288.0|          NULL|                   NULL|                                           NULL|                                 NULL|                          NULL|         2843427|                          NULL|\n",
      "|2000|january|   PR|4.5984119E7|       0.0|1.0114872E7|    5045577.0|1.2768408E7|       2.3702615E7|2.6596165E7|            5748682.0|           3925211.0|     6.0829302E7|                3.987565E7|            5.4801093E7|                  5692244.0|            3876963.0|               9880454.0|     1398281.0|                         0.0|                          7.3908984E7|1.34479291E8|            NULL|        NULL|                    2.9738452E7|                                     NULL|                                 NULL|                   2.6556999E7|                                    NULL|                                NULL|                                             NULL|                              NULL|                               1.0729415E7|                                       NULL|                                       1127493.0|                   NULL|                       NULL|                          NULL|           NULL|                   881395.0|          NULL|                   NULL|                                           NULL|                                 NULL|                          NULL|         9564643|                          NULL|\n",
      "|2000|january|   RJ|5.4679975E7|     110.0|2.4542326E7|  3.0839175E7|     4605.0|       2.8145513E7|4.7564082E7|          3.6256377E7|         1.9404254E7|    1.81047892E8|              2.47291061E8|           2.90260344E8|                 5.812162E7|                  0.0|             1.2710303E7|      164156.0|                         0.0|                          3.5680049E7|8.73100045E8|            NULL|        NULL|                   2.00959432E8|                                     NULL|                                 NULL|                   7.3286433E7|                                    NULL|                                NULL|                                             NULL|                              NULL|                               7.0462373E7|                                       NULL|                                       4118315.0|                   NULL|                       NULL|                          NULL|           NULL|                1.2538119E7|          NULL|                   NULL|                                           NULL|                                 NULL|                          NULL|        14392106|                          NULL|\n",
      "|2000|january|   RN|   997074.0|       0.0|  1849649.0|    1973085.0|        0.0|          586673.0|   150429.0|             493904.0|              4783.0|       3791527.0|                 9790539.0|              3138513.0|                   201215.0|             452018.0|                 11143.0|      232929.0|                         0.0|                              65459.0| 1.3165671E7|            NULL|        NULL|                      2998136.0|                                     NULL|                                 NULL|                     2869106.0|                                    NULL|                                NULL|                                             NULL|                              NULL|                                 7668904.0|                                       NULL|                                        176400.0|                   NULL|                       NULL|                          NULL|           NULL|                    41888.0|          NULL|                   NULL|                                           NULL|                                 NULL|                          NULL|         2777509|                          NULL|\n",
      "+----+-------+-----+-----------+----------+-----------+-------------+-----------+------------------+-----------+---------------------+--------------------+----------------+--------------------------+-----------------------+---------------------------+---------------------+------------------------+--------------+----------------------------+-------------------------------------+------------+----------------+------------+-------------------------------+-----------------------------------------+-------------------------------------+------------------------------+----------------------------------------+------------------------------------+-------------------------------------------------+----------------------------------+------------------------------------------+-------------------------------------------+------------------------------------------------+-----------------------+---------------------------+------------------------------+---------------+---------------------------+--------------+-----------------------+-----------------------------------------------+-------------------------------------+------------------------------+----------------+------------------------------+\n",
      "only showing top 20 rows\n",
      "\n"
     ]
    }
   ],
   "source": [
    "collection_population_state_df.show()"
   ]
  },
  {
   "cell_type": "markdown",
   "metadata": {},
   "source": [
    "### 4.1.3 - Checking count grouped by month"
   ]
  },
  {
   "cell_type": "code",
   "execution_count": 30,
   "metadata": {},
   "outputs": [
    {
     "name": "stdout",
     "output_type": "stream",
     "text": [
      "+---------+-----+\n",
      "|    month|count|\n",
      "+---------+-----+\n",
      "|  october|  648|\n",
      "|     NULL|    1|\n",
      "|      may|  675|\n",
      "|september|  648|\n",
      "|   august|  648|\n",
      "|    april|  675|\n",
      "| november|  648|\n",
      "|     july|  648|\n",
      "|  january|  675|\n",
      "| february|  675|\n",
      "|    march|  675|\n",
      "|     june|  675|\n",
      "| december|  648|\n",
      "+---------+-----+\n",
      "\n"
     ]
    }
   ],
   "source": [
    "months_counts_names = collection_population_state_df.groupBy(\"month\").count()\n",
    "months_counts_names.show()"
   ]
  },
  {
   "cell_type": "code",
   "execution_count": 31,
   "metadata": {},
   "outputs": [
    {
     "name": "stdout",
     "output_type": "stream",
     "text": [
      "+----+-----+-----+----------+----------+-----------+-------------+--------+------------------+----------+---------------------+--------------------+----------------+--------------------------+-----------------------+---------------------------+---------------------+------------------------+--------------+----------------------------+-------------------------------------+------+----------------+------------+-------------------------------+-----------------------------------------+-------------------------------------+------------------------------+----------------------------------------+------------------------------------+-------------------------------------------------+----------------------------------+------------------------------------------+-------------------------------------------+------------------------------------------------+-----------------------+---------------------------+------------------------------+---------------+---------------------------+--------------+-----------------------+-----------------------------------------------+-------------------------------------+------------------------------+----------------+------------------------------+\n",
      "|year|month|state|import_tax|export_tax|ipi_tobacco|ipi_beverages|ipi_auto|ipi_linked_imports|ipi_others|income_tax_individual|income_tax_financial|income_tax_other|withholding_tax_employment|withholding_tax_capital|withholding_tax_remittances|withholding_tax_other|tax_financial_operations|rural_land_tax|provisional_tax_transactions|provisional_contribution_transactions|cofins|cofins_financial|cofins_other|contribution_social_integration|contribution_social_integration_financial|contribution_social_integration_other|social_contribution_net_profit|social_contribution_net_profit_financial|social_contribution_net_profit_other|intervention_economic_domain_non_deductible_fuels|intervention_economic_domain_fuels|contribution_security_plan_public_servants|contributions_security_plan_public_servants|contributions_special_fund_inspection_activities|fiscal_recovery_program|installment_payment_program|withholding_tax_law_article_30|unified_payment|other_administered_revenues|other_revenues|social_security_revenue|social_security_revenue_individual_contributors|social_security_revenue_other_sources|administered_by_other_agencies|population_state|economically_active_population|\n",
      "+----+-----+-----+----------+----------+-----------+-------------+--------+------------------+----------+---------------------+--------------------+----------------+--------------------------+-----------------------+---------------------------+---------------------+------------------------+--------------+----------------------------+-------------------------------------+------+----------------+------------+-------------------------------+-----------------------------------------+-------------------------------------+------------------------------+----------------------------------------+------------------------------------+-------------------------------------------------+----------------------------------+------------------------------------------+-------------------------------------------+------------------------------------------------+-----------------------+---------------------------+------------------------------+---------------+---------------------------+--------------+-----------------------+-----------------------------------------------+-------------------------------------+------------------------------+----------------+------------------------------+\n",
      "|NULL| NULL| NULL|      NULL|      NULL|       NULL|         NULL|    NULL|              NULL|      NULL|                 NULL|                NULL|            NULL|                      NULL|                   NULL|                       NULL|                 NULL|                    NULL|          NULL|                        NULL|                                 NULL|  NULL|            NULL|        NULL|                           NULL|                                     NULL|                                 NULL|                          NULL|                                    NULL|                                NULL|                                             NULL|                              NULL|                                      NULL|                                       NULL|                                            NULL|                   NULL|                       NULL|                          NULL|           NULL|                       NULL|          NULL|                   NULL|                                           NULL|                                 NULL|                          NULL|            NULL|                          NULL|\n",
      "+----+-----+-----+----------+----------+-----------+-------------+--------+------------------+----------+---------------------+--------------------+----------------+--------------------------+-----------------------+---------------------------+---------------------+------------------------+--------------+----------------------------+-------------------------------------+------+----------------+------------+-------------------------------+-----------------------------------------+-------------------------------------+------------------------------+----------------------------------------+------------------------------------+-------------------------------------------------+----------------------------------+------------------------------------------+-------------------------------------------+------------------------------------------------+-----------------------+---------------------------+------------------------------+---------------+---------------------------+--------------+-----------------------+-----------------------------------------------+-------------------------------------+------------------------------+----------------+------------------------------+\n",
      "\n"
     ]
    },
    {
     "data": {
      "text/plain": [
       "7939"
      ]
     },
     "execution_count": 31,
     "metadata": {},
     "output_type": "execute_result"
    }
   ],
   "source": [
    "# Let's see this NULL month line\n",
    "collection_population_state_df.filter(F.col(\"month\").isNull()).show()\n",
    "collection_population_state_df.count()"
   ]
  },
  {
   "cell_type": "code",
   "execution_count": 32,
   "metadata": {},
   "outputs": [
    {
     "data": {
      "text/plain": [
       "7938"
      ]
     },
     "execution_count": 32,
     "metadata": {},
     "output_type": "execute_result"
    }
   ],
   "source": [
    "# Dropping lines with year and month with null\n",
    "collection_population_state_df = collection_population_state_df.dropna(subset=[\"year\", \"month\"])\n",
    "collection_population_state_df.count()"
   ]
  },
  {
   "cell_type": "markdown",
   "metadata": {},
   "source": [
    "### 4.1.4 - Adding month in numeric representation"
   ]
  },
  {
   "cell_type": "code",
   "execution_count": 33,
   "metadata": {},
   "outputs": [],
   "source": [
    "months = {\n",
    "    \"january\": 1,\n",
    "    \"february\": 2,\n",
    "    \"march\": 3,\n",
    "    \"april\": 4,\n",
    "    \"may\": 5,\n",
    "    \"june\": 6,\n",
    "    \"july\": 7,\n",
    "    \"august\": 8,\n",
    "    \"september\": 9,\n",
    "    \"october\": 10,\n",
    "    \"november\": 11,\n",
    "    \"december\": 12\n",
    "}"
   ]
  },
  {
   "cell_type": "code",
   "execution_count": 34,
   "metadata": {},
   "outputs": [],
   "source": [
    "collection_population_state_df = collection_population_state_df.withColumn(\n",
    "    \"month_numeric\",\n",
    "    F.when(F.col(\"month\") == \"january\", F.lit(months[\"january\"]))\n",
    "    .when(F.col(\"month\") == \"february\", F.lit(months[\"february\"]))\n",
    "    .when(F.col(\"month\") == \"march\", F.lit(months[\"march\"]))\n",
    "    .when(F.col(\"month\") == \"april\", F.lit(months[\"april\"]))\n",
    "    .when(F.col(\"month\") == \"may\", F.lit(months[\"may\"]))\n",
    "    .when(F.col(\"month\") == \"june\", F.lit(months[\"june\"]))\n",
    "    .when(F.col(\"month\") == \"july\", F.lit(months[\"july\"]))\n",
    "    .when(F.col(\"month\") == \"august\", F.lit(months[\"august\"]))\n",
    "    .when(F.col(\"month\") == \"september\", F.lit(months[\"september\"]))\n",
    "    .when(F.col(\"month\") == \"october\", F.lit(months[\"october\"]))\n",
    "    .when(F.col(\"month\") == \"november\", F.lit(months[\"november\"]))\n",
    "    .when(F.col(\"month\") == \"december\", F.lit(months[\"december\"]))\n",
    "    .otherwise(None)\n",
    ")"
   ]
  },
  {
   "cell_type": "markdown",
   "metadata": {},
   "source": [
    "### 4.1.5 - Checking count grouped by month in numeric representation"
   ]
  },
  {
   "cell_type": "code",
   "execution_count": 35,
   "metadata": {},
   "outputs": [
    {
     "name": "stdout",
     "output_type": "stream",
     "text": [
      "+-------------+-----+\n",
      "|month_numeric|count|\n",
      "+-------------+-----+\n",
      "|           12|  648|\n",
      "|            1|  675|\n",
      "|            6|  675|\n",
      "|            3|  675|\n",
      "|            5|  675|\n",
      "|            9|  648|\n",
      "|            4|  675|\n",
      "|            8|  648|\n",
      "|            7|  648|\n",
      "|           10|  648|\n",
      "|           11|  648|\n",
      "|            2|  675|\n",
      "+-------------+-----+\n",
      "\n"
     ]
    }
   ],
   "source": [
    "numeric_month_count = collection_population_state_df.groupBy(\"month_numeric\").count()\n",
    "numeric_month_count.show()"
   ]
  },
  {
   "cell_type": "markdown",
   "metadata": {},
   "source": [
    "### 4.1.6 - Joining tables (collection_state and inflation_df)"
   ]
  },
  {
   "cell_type": "markdown",
   "metadata": {},
   "source": [
    "#### 4.1.6.1 - Tables alias"
   ]
  },
  {
   "cell_type": "code",
   "execution_count": 36,
   "metadata": {},
   "outputs": [],
   "source": [
    "collection_population_state_df = collection_population_state_df.alias(\"cs\")\n",
    "inflation_df = inflation_df.alias(\"inf\")"
   ]
  },
  {
   "cell_type": "markdown",
   "metadata": {},
   "source": [
    "### 4.1.6.1 - Joining both tables with alias"
   ]
  },
  {
   "cell_type": "code",
   "execution_count": 37,
   "metadata": {},
   "outputs": [],
   "source": [
    "collection_inflation_condition = (\n",
    "    (F.col(\"cs.year\") == F.col(\"inf.year\")) &\n",
    "    (F.col(\"cs.month_numeric\") == F.col(\"inf.month\"))\n",
    ")\n",
    "collection_population_state_df = collection_population_state_df.join(\n",
    "    other=inflation_df,\n",
    "    on=collection_inflation_condition,\n",
    "    how=\"left\"\n",
    ").select(\n",
    "    \"cs.*\",\n",
    "    \"inf.index\",\n",
    "    \"inf.monthly_variation\",\n",
    "    \"inf.quarterly_variation\",\n",
    "    \"inf.semiannual_variation\",\n",
    "    \"inf.annual_variation\"\n",
    ")"
   ]
  },
  {
   "cell_type": "code",
   "execution_count": 38,
   "metadata": {},
   "outputs": [
    {
     "name": "stdout",
     "output_type": "stream",
     "text": [
      "+----+-------+-----+-----------+----------+-----------+-------------+-----------+------------------+-----------+---------------------+--------------------+----------------+--------------------------+-----------------------+---------------------------+---------------------+------------------------+--------------+----------------------------+-------------------------------------+------------+----------------+------------+-------------------------------+-----------------------------------------+-------------------------------------+------------------------------+----------------------------------------+------------------------------------+-------------------------------------------------+----------------------------------+------------------------------------------+-------------------------------------------+------------------------------------------------+-----------------------+---------------------------+------------------------------+---------------+---------------------------+--------------+-----------------------+-----------------------------------------------+-------------------------------------+------------------------------+----------------+------------------------------+-------------+-------+-----------------+-------------------+--------------------+----------------+\n",
      "|year|  month|state| import_tax|export_tax|ipi_tobacco|ipi_beverages|   ipi_auto|ipi_linked_imports| ipi_others|income_tax_individual|income_tax_financial|income_tax_other|withholding_tax_employment|withholding_tax_capital|withholding_tax_remittances|withholding_tax_other|tax_financial_operations|rural_land_tax|provisional_tax_transactions|provisional_contribution_transactions|      cofins|cofins_financial|cofins_other|contribution_social_integration|contribution_social_integration_financial|contribution_social_integration_other|social_contribution_net_profit|social_contribution_net_profit_financial|social_contribution_net_profit_other|intervention_economic_domain_non_deductible_fuels|intervention_economic_domain_fuels|contribution_security_plan_public_servants|contributions_security_plan_public_servants|contributions_special_fund_inspection_activities|fiscal_recovery_program|installment_payment_program|withholding_tax_law_article_30|unified_payment|other_administered_revenues|other_revenues|social_security_revenue|social_security_revenue_individual_contributors|social_security_revenue_other_sources|administered_by_other_agencies|population_state|economically_active_population|month_numeric|  index|monthly_variation|quarterly_variation|semiannual_variation|annual_variation|\n",
      "+----+-------+-----+-----------+----------+-----------+-------------+-----------+------------------+-----------+---------------------+--------------------+----------------+--------------------------+-----------------------+---------------------------+---------------------+------------------------+--------------+----------------------------+-------------------------------------+------------+----------------+------------+-------------------------------+-----------------------------------------+-------------------------------------+------------------------------+----------------------------------------+------------------------------------+-------------------------------------------------+----------------------------------+------------------------------------------+-------------------------------------------+------------------------------------------------+-----------------------+---------------------------+------------------------------+---------------+---------------------------+--------------+-----------------------+-----------------------------------------------+-------------------------------------+------------------------------+----------------+------------------------------+-------------+-------+-----------------+-------------------+--------------------+----------------+\n",
      "|2000|january|   AC|      231.0|       0.0|   292096.0|          0.0|        0.0|             167.0|     1558.0|             177197.0|               643.0|        676835.0|                 1084940.0|                27652.0|                      570.0|              30894.0|                  1220.0|       28447.0|                         0.0|                                103.0|   1770475.0|            NULL|        NULL|                       387364.0|                                     NULL|                                 NULL|                      392830.0|                                    NULL|                                NULL|                                             NULL|                              NULL|                                 1243858.0|                                       NULL|                                         28329.0|                   NULL|                       NULL|                          NULL|           NULL|                    20911.0|          NULL|                   NULL|                                           NULL|                                 NULL|                          NULL|          557882|                          NULL|            1|1598.24|             0.61|               2.31|                4.26|            0.61|\n",
      "|2000|january|   AL|   475088.0|   33873.0|  1329338.0|     812470.0|        0.0|          141735.0|  3676847.0|             460804.0|               561.0|       2672106.0|                 4454947.0|               544056.0|                   191382.0|             309573.0|                 26939.0|     4252539.0|                         0.0|                              97248.0|   7493570.0|            NULL|        NULL|                      2545254.0|                                     NULL|                                 NULL|                     1775834.0|                                    NULL|                                NULL|                                             NULL|                              NULL|                                 3179753.0|                                       NULL|                                        125043.0|                   NULL|                       NULL|                          NULL|           NULL|                   127189.0|          NULL|                   NULL|                                           NULL|                                 NULL|                          NULL|         2827856|                          NULL|            1|1598.24|             0.61|               2.31|                4.26|            0.61|\n",
      "|2000|january|   AM|1.1679405E7|       0.0|  1507146.0|    1791471.0|    27796.0|         4414483.0|  1800346.0|             700623.0|             90828.0|     1.0058713E7|               1.0174718E7|              1241708.0|                  3580022.0|            1029164.0|                843881.0|       40171.0|                         0.0|                             832562.0| 4.4000981E7|            NULL|        NULL|                    1.1671871E7|                                     NULL|                                 NULL|                     7652859.0|                                    NULL|                                NULL|                                             NULL|                              NULL|                                 4072567.0|                                       NULL|                                        161647.0|                   NULL|                       NULL|                          NULL|           NULL|                   187988.0|          NULL|                   NULL|                                           NULL|                                 NULL|                          NULL|         2817253|                          NULL|            1|1598.24|             0.61|               2.31|                4.26|            0.61|\n",
      "|2000|january|   AP|    24267.0|       0.0|   424862.0|       1419.0|      321.0|           22333.0|    12165.0|             139226.0|             44135.0|        586572.0|                 1444486.0|               205031.0|                     5825.0|              34602.0|                  6999.0|        6477.0|                         0.0|                                  0.0|   1682102.0|            NULL|        NULL|                       574124.0|                                     NULL|                                 NULL|                      346964.0|                                    NULL|                                NULL|                                             NULL|                              NULL|                                 3981691.0|                                       NULL|                                         38738.0|                   NULL|                       NULL|                          NULL|           NULL|                    10769.0|          NULL|                   NULL|                                           NULL|                                 NULL|                          NULL|          477032|                          NULL|            1|1598.24|             0.61|               2.31|                4.26|            0.61|\n",
      "|2000|january|   BA|1.0476457E7|      13.0|  5542123.0|  1.1533707E7|        0.0|         7496476.0|2.3743858E7|            2498647.0|            177378.0|     2.5695696E7|               2.7277025E7|            1.3374802E7|                  2302766.0|            2022200.0|               1218485.0|     2446535.0|                         0.0|                          1.1923442E7| 8.1027229E7|            NULL|        NULL|                    2.3138894E7|                                     NULL|                                 NULL|                   1.5699282E7|                                    NULL|                                NULL|                                             NULL|                              NULL|                               1.7001662E7|                                       NULL|                                        687022.0|                   NULL|                       NULL|                          NULL|           NULL|                   536498.0|          NULL|                   NULL|                                           NULL|                                 NULL|                          NULL|        13085768|                          NULL|            1|1598.24|             0.61|               2.31|                4.26|            0.61|\n",
      "|2000|january|   CE|  5576921.0|       0.0|  4535653.0|    3148254.0|        0.0|         1734529.0|  3716458.0|            1971500.0|             59874.0|     1.3247447E7|                1.594049E7|              6311419.0|                   948600.0|            1941958.0|                745659.0|      114393.0|                         0.0|                            4547426.0| 3.6892799E7|            NULL|        NULL|                      8743377.0|                                     NULL|                                 NULL|                     6505382.0|                                    NULL|                                NULL|                                             NULL|                              NULL|                                 8618224.0|                                       NULL|                                        506146.0|                   NULL|                       NULL|                          NULL|           NULL|                   143952.0|          NULL|                   NULL|                                           NULL|                                 NULL|                          NULL|         7431597|                          NULL|            1|1598.24|             0.61|               2.31|                4.26|            0.61|\n",
      "|2000|january|   DF|  2254341.0|      43.0|  3197500.0|    2777942.0|        0.0|         2079272.0|  2433339.0|            3067374.0|           3913461.0|      7.158268E7|              2.57391352E8|           1.24316928E8|                  7145075.0|          3.5581549E7|             2.2472279E7|       64578.0|                         0.0|                         2.40726401E8|1.41910257E8|            NULL|        NULL|                    6.1028823E7|                                     NULL|                                 NULL|                   2.7194137E7|                                    NULL|                                NULL|                                             NULL|                              NULL|                               7.4389957E7|                                       NULL|                                        534320.0|                   NULL|                       NULL|                          NULL|           NULL|                3.3937318E7|          NULL|                   NULL|                                           NULL|                                 NULL|                          NULL|         2051146|                          NULL|            1|1598.24|             0.61|               2.31|                4.26|            0.61|\n",
      "|2000|january|   ES|3.1950799E7|       0.0|  3598736.0|      20408.0|  1503039.0|        2.684043E7|  4036463.0|            1620843.0|              2542.0|     2.9105465E7|                 9380778.0|            1.0515327E7|                  4717282.0|            1703727.0|                491261.0|     1563052.0|                         0.0|                              28681.0| 4.9157907E7|            NULL|        NULL|                    1.3289266E7|                                     NULL|                                 NULL|                   1.2890143E7|                                    NULL|                                NULL|                                             NULL|                              NULL|                                 6038251.0|                                       NULL|                                       2164901.0|                   NULL|                       NULL|                          NULL|           NULL|                   382985.0|          NULL|                   NULL|                                           NULL|                                 NULL|                          NULL|         3097497|                          NULL|            1|1598.24|             0.61|               2.31|                4.26|            0.61|\n",
      "|2000|january|   GO|  3747911.0|       0.0|  3236092.0|    5064141.0|  1091185.0|          986314.0|  2654994.0|            1401385.0|             45754.0|     1.8823998E7|               1.3094463E7|              6275215.0|                   132749.0|            1043647.0|                638840.0|     2269467.0|                         0.0|                            3912150.0| 4.7986002E7|            NULL|        NULL|                     1.356919E7|                                     NULL|                                 NULL|                     8180079.0|                                    NULL|                                NULL|                                             NULL|                              NULL|                                 7394364.0|                                       NULL|                                        658643.0|                   NULL|                       NULL|                          NULL|           NULL|                   403579.0|          NULL|                   NULL|                                           NULL|                                 NULL|                          NULL|         5004196|                          NULL|            1|1598.24|             0.61|               2.31|                4.26|            0.61|\n",
      "|2000|january|   MA|  1714749.0|      69.0|  1124738.0|    4061569.0|        0.0|          206691.0|   484436.0|             479170.0|              4832.0|       3251185.0|                 4149532.0|               781569.0|                     1130.0|             289120.0|                 86071.0|      593391.0|                         0.0|                             612313.0|   9654439.0|            NULL|        NULL|                      5104547.0|                                     NULL|                                 NULL|                     2283622.0|                                    NULL|                                NULL|                                             NULL|                              NULL|                                 2966912.0|                                       NULL|                                        120868.0|                   NULL|                       NULL|                          NULL|           NULL|                   121337.0|          NULL|                   NULL|                                           NULL|                                 NULL|                          NULL|         5657553|                          NULL|            1|1598.24|             0.61|               2.31|                4.26|            0.61|\n",
      "|2000|january|   MG|3.5549181E7|      57.0|1.5511142E7|  1.2111623E7|2.9305691E7|       1.5049305E7|3.8667924E7|          1.1038328E7|           3416372.0|     8.3378349E7|               7.3410958E7|            7.7963069E7|                1.1600682E7|          1.5573355E7|               3835234.0|     5262680.0|                         0.0|                          1.8475116E7|1.73737137E8|            NULL|        NULL|                    4.4074747E7|                                     NULL|                                 NULL|                   4.1904953E7|                                    NULL|                                NULL|                                             NULL|                              NULL|                               3.2234994E7|                                       NULL|                                       1880050.0|                   NULL|                       NULL|                          NULL|           NULL|                  1190058.0|          NULL|                   NULL|                                           NULL|                                 NULL|                          NULL|        17905135|                          NULL|            1|1598.24|             0.61|               2.31|                4.26|            0.61|\n",
      "|2000|january|   MS|   437668.0|       0.0|   899850.0|     268111.0|        0.0|          365983.0|   626188.0|            1926537.0|              7972.0|       3983857.0|                 4331201.0|               797218.0|                    26225.0|             194378.0|                 52490.0|     1376859.0|                         0.0|                             210638.0| 1.3141747E7|            NULL|        NULL|                      3865681.0|                                     NULL|                                 NULL|                     2249894.0|                                    NULL|                                NULL|                                             NULL|                              NULL|                                 4298541.0|                                       NULL|                                        136823.0|                   NULL|                       NULL|                          NULL|           NULL|                   227936.0|          NULL|                   NULL|                                           NULL|                                 NULL|                          NULL|         2078070|                          NULL|            1|1598.24|             0.61|               2.31|                4.26|            0.61|\n",
      "|2000|january|   MT|   302002.0|       0.0|  1837228.0|    2734966.0|        0.0|           98807.0|   322126.0|             537577.0|              5356.0|       5998492.0|                 6702247.0|               506327.0|                   287788.0|             518377.0|                122986.0|     5965591.0|                         0.0|                             622603.0| 1.4454666E7|            NULL|        NULL|                      5290254.0|                                     NULL|                                 NULL|                     3544619.0|                                    NULL|                                NULL|                                             NULL|                              NULL|                                 4516488.0|                                       NULL|                                        255856.0|                   NULL|                       NULL|                          NULL|           NULL|                   286198.0|          NULL|                   NULL|                                           NULL|                                 NULL|                          NULL|         2505245|                          NULL|            1|1598.24|             0.61|               2.31|                4.26|            0.61|\n",
      "|2000|january|   PA|  1321715.0|       0.0|  2506107.0|    1255572.0|        0.0|          771308.0|   842141.0|             885476.0|           1687010.0|     1.0397922E7|                 9891932.0|              1452409.0|                   271488.0|             689009.0|                293485.0|      892163.0|                         0.0|                            2996773.0| 1.7597074E7|            NULL|        NULL|                      5839339.0|                                     NULL|                                 NULL|                     5853614.0|                                    NULL|                                NULL|                                             NULL|                              NULL|                                 9415007.0|                                       NULL|                                        314129.0|                   NULL|                       NULL|                          NULL|           NULL|                   158348.0|          NULL|                   NULL|                                           NULL|                                 NULL|                          NULL|         6195965|                          NULL|            1|1598.24|             0.61|               2.31|                4.26|            0.61|\n",
      "|2000|january|   PB|  1351422.0|       0.0|  1971817.0|    5556557.0|        0.0|          763383.0|  1729472.0|             531092.0|              6819.0|       8455014.0|                 9164933.0|              1315192.0|                   215491.0|             193623.0|                113133.0|       38801.0|                         0.0|                             186368.0| 1.1047735E7|            NULL|        NULL|                      3084360.0|                                     NULL|                                 NULL|                     2936019.0|                                    NULL|                                NULL|                                             NULL|                              NULL|                               1.0933455E7|                                       NULL|                                        194863.0|                   NULL|                       NULL|                          NULL|           NULL|                4.9780562E7|          NULL|                   NULL|                                           NULL|                                 NULL|                          NULL|         3444794|                          NULL|            1|1598.24|             0.61|               2.31|                4.26|            0.61|\n",
      "|2000|january|   PE|  6268803.0|      13.0|  6167644.0|    5650794.0|        0.0|         2688235.0|  8230496.0|            1679485.0|            245392.0|     1.5783042E7|               2.6054337E7|            3.8164839E7|                   983356.0|            2266139.0|                519577.0|     7442780.0|                         0.0|                            2893853.0| 5.1098148E7|            NULL|        NULL|                    1.4322361E7|                                     NULL|                                 NULL|                     8608550.0|                                    NULL|                                NULL|                                             NULL|                              NULL|                               1.5511663E7|                                       NULL|                                        796051.0|                   NULL|                       NULL|                          NULL|           NULL|                   312474.0|          NULL|                   NULL|                                           NULL|                                 NULL|                          NULL|         7929153|                          NULL|            1|1598.24|             0.61|               2.31|                4.26|            0.61|\n",
      "|2000|january|   PI|   382374.0|       0.0|  1001688.0|    2261830.0|        0.0|           88220.0|   261477.0|             291999.0|             16605.0|       4285628.0|                 3839267.0|              1119727.0|                    58819.0|             165302.0|                 30629.0|      469071.0|                         0.0|                             182915.0|   8970699.0|            NULL|        NULL|                      3232042.0|                                     NULL|                                 NULL|                     2280136.0|                                    NULL|                                NULL|                                             NULL|                              NULL|                                 3823880.0|                                       NULL|                                         99030.0|                   NULL|                       NULL|                          NULL|           NULL|                    73288.0|          NULL|                   NULL|                                           NULL|                                 NULL|                          NULL|         2843427|                          NULL|            1|1598.24|             0.61|               2.31|                4.26|            0.61|\n",
      "|2000|january|   PR|4.5984119E7|       0.0|1.0114872E7|    5045577.0|1.2768408E7|       2.3702615E7|2.6596165E7|            5748682.0|           3925211.0|     6.0829302E7|                3.987565E7|            5.4801093E7|                  5692244.0|            3876963.0|               9880454.0|     1398281.0|                         0.0|                          7.3908984E7|1.34479291E8|            NULL|        NULL|                    2.9738452E7|                                     NULL|                                 NULL|                   2.6556999E7|                                    NULL|                                NULL|                                             NULL|                              NULL|                               1.0729415E7|                                       NULL|                                       1127493.0|                   NULL|                       NULL|                          NULL|           NULL|                   881395.0|          NULL|                   NULL|                                           NULL|                                 NULL|                          NULL|         9564643|                          NULL|            1|1598.24|             0.61|               2.31|                4.26|            0.61|\n",
      "|2000|january|   RJ|5.4679975E7|     110.0|2.4542326E7|  3.0839175E7|     4605.0|       2.8145513E7|4.7564082E7|          3.6256377E7|         1.9404254E7|    1.81047892E8|              2.47291061E8|           2.90260344E8|                 5.812162E7|                  0.0|             1.2710303E7|      164156.0|                         0.0|                          3.5680049E7|8.73100045E8|            NULL|        NULL|                   2.00959432E8|                                     NULL|                                 NULL|                   7.3286433E7|                                    NULL|                                NULL|                                             NULL|                              NULL|                               7.0462373E7|                                       NULL|                                       4118315.0|                   NULL|                       NULL|                          NULL|           NULL|                1.2538119E7|          NULL|                   NULL|                                           NULL|                                 NULL|                          NULL|        14392106|                          NULL|            1|1598.24|             0.61|               2.31|                4.26|            0.61|\n",
      "|2000|january|   RN|   997074.0|       0.0|  1849649.0|    1973085.0|        0.0|          586673.0|   150429.0|             493904.0|              4783.0|       3791527.0|                 9790539.0|              3138513.0|                   201215.0|             452018.0|                 11143.0|      232929.0|                         0.0|                              65459.0| 1.3165671E7|            NULL|        NULL|                      2998136.0|                                     NULL|                                 NULL|                     2869106.0|                                    NULL|                                NULL|                                             NULL|                              NULL|                                 7668904.0|                                       NULL|                                        176400.0|                   NULL|                       NULL|                          NULL|           NULL|                    41888.0|          NULL|                   NULL|                                           NULL|                                 NULL|                          NULL|         2777509|                          NULL|            1|1598.24|             0.61|               2.31|                4.26|            0.61|\n",
      "+----+-------+-----+-----------+----------+-----------+-------------+-----------+------------------+-----------+---------------------+--------------------+----------------+--------------------------+-----------------------+---------------------------+---------------------+------------------------+--------------+----------------------------+-------------------------------------+------------+----------------+------------+-------------------------------+-----------------------------------------+-------------------------------------+------------------------------+----------------------------------------+------------------------------------+-------------------------------------------------+----------------------------------+------------------------------------------+-------------------------------------------+------------------------------------------------+-----------------------+---------------------------+------------------------------+---------------+---------------------------+--------------+-----------------------+-----------------------------------------------+-------------------------------------+------------------------------+----------------+------------------------------+-------------+-------+-----------------+-------------------+--------------------+----------------+\n",
      "only showing top 20 rows\n",
      "\n"
     ]
    }
   ],
   "source": [
    "collection_population_state_df.show()"
   ]
  },
  {
   "cell_type": "markdown",
   "metadata": {},
   "source": [
    "### 4.1.7 - Removing duplicates"
   ]
  },
  {
   "cell_type": "code",
   "execution_count": 39,
   "metadata": {},
   "outputs": [
    {
     "data": {
      "text/plain": [
       "DataFrame[year: int, month: string, state: string, import_tax: double, export_tax: double, ipi_tobacco: double, ipi_beverages: double, ipi_auto: double, ipi_linked_imports: double, ipi_others: double, income_tax_individual: double, income_tax_financial: double, income_tax_other: double, withholding_tax_employment: double, withholding_tax_capital: double, withholding_tax_remittances: double, withholding_tax_other: double, tax_financial_operations: double, rural_land_tax: double, provisional_tax_transactions: double, provisional_contribution_transactions: double, cofins: double, cofins_financial: double, cofins_other: double, contribution_social_integration: double, contribution_social_integration_financial: double, contribution_social_integration_other: double, social_contribution_net_profit: double, social_contribution_net_profit_financial: double, social_contribution_net_profit_other: double, intervention_economic_domain_non_deductible_fuels: double, intervention_economic_domain_fuels: double, contribution_security_plan_public_servants: double, contributions_security_plan_public_servants: double, contributions_special_fund_inspection_activities: double, fiscal_recovery_program: double, installment_payment_program: double, withholding_tax_law_article_30: double, unified_payment: double, other_administered_revenues: double, other_revenues: double, social_security_revenue: double, social_security_revenue_individual_contributors: double, social_security_revenue_other_sources: double, administered_by_other_agencies: double, population_state: int, economically_active_population: int, month_numeric: int, index: float, monthly_variation: float, quarterly_variation: float, semiannual_variation: float, annual_variation: float]"
      ]
     },
     "execution_count": 39,
     "metadata": {},
     "output_type": "execute_result"
    }
   ],
   "source": [
    "collection_population_state_df.dropDuplicates()"
   ]
  },
  {
   "cell_type": "markdown",
   "metadata": {},
   "source": [
    "### 4.1.8 - Handling missing values "
   ]
  },
  {
   "cell_type": "code",
   "execution_count": 40,
   "metadata": {},
   "outputs": [],
   "source": [
    "def fill_values_na_with_zero_or_drop(df: DataFrame) -> DataFrame:\n",
    "    \"\"\"\n",
    "    Fill NA values with zero for numeric columns and drop rows with NA values \n",
    "    in string columns.\n",
    "\n",
    "    Parameters\n",
    "    ----------\n",
    "    df : DataFrame\n",
    "        The Spark DataFrame to process.\n",
    "\n",
    "    Returns\n",
    "    -------\n",
    "    DataFrame\n",
    "        The processed DataFrame with NA values handled according to column types.\n",
    "    \"\"\"\n",
    "    numeric_cols = [col for col, dtype in df.dtypes if isinstance(df.schema[col].dataType, NumericType)]\n",
    "    string_cols = [col for col, dtype in df.dtypes if isinstance(df.schema[col].dataType, StringType)]\n",
    "    \n",
    "    # Fill NA values with 0 for numeric columns\n",
    "    if numeric_cols:\n",
    "        df = df.fillna(0, subset=numeric_cols)\n",
    "    \n",
    "    # Drop rows with NA values in string columns\n",
    "    if string_cols:\n",
    "        df = df.dropna(subset=string_cols)\n",
    "    \n",
    "    return df"
   ]
  },
  {
   "cell_type": "code",
   "execution_count": 41,
   "metadata": {},
   "outputs": [],
   "source": [
    "collection_population_state_df = fill_values_na_with_zero_or_drop(df = collection_population_state_df)"
   ]
  },
  {
   "cell_type": "code",
   "execution_count": 42,
   "metadata": {},
   "outputs": [
    {
     "name": "stdout",
     "output_type": "stream",
     "text": [
      "+----+-------+-----+-----------+----------+-----------+-------------+-----------+------------------+-----------+---------------------+--------------------+----------------+--------------------------+-----------------------+---------------------------+---------------------+------------------------+--------------+----------------------------+-------------------------------------+------------+----------------+------------+-------------------------------+-----------------------------------------+-------------------------------------+------------------------------+----------------------------------------+------------------------------------+-------------------------------------------------+----------------------------------+------------------------------------------+-------------------------------------------+------------------------------------------------+-----------------------+---------------------------+------------------------------+---------------+---------------------------+--------------+-----------------------+-----------------------------------------------+-------------------------------------+------------------------------+----------------+------------------------------+-------------+-------+-----------------+-------------------+--------------------+----------------+\n",
      "|year|  month|state| import_tax|export_tax|ipi_tobacco|ipi_beverages|   ipi_auto|ipi_linked_imports| ipi_others|income_tax_individual|income_tax_financial|income_tax_other|withholding_tax_employment|withholding_tax_capital|withholding_tax_remittances|withholding_tax_other|tax_financial_operations|rural_land_tax|provisional_tax_transactions|provisional_contribution_transactions|      cofins|cofins_financial|cofins_other|contribution_social_integration|contribution_social_integration_financial|contribution_social_integration_other|social_contribution_net_profit|social_contribution_net_profit_financial|social_contribution_net_profit_other|intervention_economic_domain_non_deductible_fuels|intervention_economic_domain_fuels|contribution_security_plan_public_servants|contributions_security_plan_public_servants|contributions_special_fund_inspection_activities|fiscal_recovery_program|installment_payment_program|withholding_tax_law_article_30|unified_payment|other_administered_revenues|other_revenues|social_security_revenue|social_security_revenue_individual_contributors|social_security_revenue_other_sources|administered_by_other_agencies|population_state|economically_active_population|month_numeric|  index|monthly_variation|quarterly_variation|semiannual_variation|annual_variation|\n",
      "+----+-------+-----+-----------+----------+-----------+-------------+-----------+------------------+-----------+---------------------+--------------------+----------------+--------------------------+-----------------------+---------------------------+---------------------+------------------------+--------------+----------------------------+-------------------------------------+------------+----------------+------------+-------------------------------+-----------------------------------------+-------------------------------------+------------------------------+----------------------------------------+------------------------------------+-------------------------------------------------+----------------------------------+------------------------------------------+-------------------------------------------+------------------------------------------------+-----------------------+---------------------------+------------------------------+---------------+---------------------------+--------------+-----------------------+-----------------------------------------------+-------------------------------------+------------------------------+----------------+------------------------------+-------------+-------+-----------------+-------------------+--------------------+----------------+\n",
      "|2000|january|   AC|      231.0|       0.0|   292096.0|          0.0|        0.0|             167.0|     1558.0|             177197.0|               643.0|        676835.0|                 1084940.0|                27652.0|                      570.0|              30894.0|                  1220.0|       28447.0|                         0.0|                                103.0|   1770475.0|             0.0|         0.0|                       387364.0|                                      0.0|                                  0.0|                      392830.0|                                     0.0|                                 0.0|                                              0.0|                               0.0|                                 1243858.0|                                        0.0|                                         28329.0|                    0.0|                        0.0|                           0.0|            0.0|                    20911.0|           0.0|                    0.0|                                            0.0|                                  0.0|                           0.0|          557882|                             0|            1|1598.24|             0.61|               2.31|                4.26|            0.61|\n",
      "|2000|january|   AL|   475088.0|   33873.0|  1329338.0|     812470.0|        0.0|          141735.0|  3676847.0|             460804.0|               561.0|       2672106.0|                 4454947.0|               544056.0|                   191382.0|             309573.0|                 26939.0|     4252539.0|                         0.0|                              97248.0|   7493570.0|             0.0|         0.0|                      2545254.0|                                      0.0|                                  0.0|                     1775834.0|                                     0.0|                                 0.0|                                              0.0|                               0.0|                                 3179753.0|                                        0.0|                                        125043.0|                    0.0|                        0.0|                           0.0|            0.0|                   127189.0|           0.0|                    0.0|                                            0.0|                                  0.0|                           0.0|         2827856|                             0|            1|1598.24|             0.61|               2.31|                4.26|            0.61|\n",
      "|2000|january|   AM|1.1679405E7|       0.0|  1507146.0|    1791471.0|    27796.0|         4414483.0|  1800346.0|             700623.0|             90828.0|     1.0058713E7|               1.0174718E7|              1241708.0|                  3580022.0|            1029164.0|                843881.0|       40171.0|                         0.0|                             832562.0| 4.4000981E7|             0.0|         0.0|                    1.1671871E7|                                      0.0|                                  0.0|                     7652859.0|                                     0.0|                                 0.0|                                              0.0|                               0.0|                                 4072567.0|                                        0.0|                                        161647.0|                    0.0|                        0.0|                           0.0|            0.0|                   187988.0|           0.0|                    0.0|                                            0.0|                                  0.0|                           0.0|         2817253|                             0|            1|1598.24|             0.61|               2.31|                4.26|            0.61|\n",
      "|2000|january|   AP|    24267.0|       0.0|   424862.0|       1419.0|      321.0|           22333.0|    12165.0|             139226.0|             44135.0|        586572.0|                 1444486.0|               205031.0|                     5825.0|              34602.0|                  6999.0|        6477.0|                         0.0|                                  0.0|   1682102.0|             0.0|         0.0|                       574124.0|                                      0.0|                                  0.0|                      346964.0|                                     0.0|                                 0.0|                                              0.0|                               0.0|                                 3981691.0|                                        0.0|                                         38738.0|                    0.0|                        0.0|                           0.0|            0.0|                    10769.0|           0.0|                    0.0|                                            0.0|                                  0.0|                           0.0|          477032|                             0|            1|1598.24|             0.61|               2.31|                4.26|            0.61|\n",
      "|2000|january|   BA|1.0476457E7|      13.0|  5542123.0|  1.1533707E7|        0.0|         7496476.0|2.3743858E7|            2498647.0|            177378.0|     2.5695696E7|               2.7277025E7|            1.3374802E7|                  2302766.0|            2022200.0|               1218485.0|     2446535.0|                         0.0|                          1.1923442E7| 8.1027229E7|             0.0|         0.0|                    2.3138894E7|                                      0.0|                                  0.0|                   1.5699282E7|                                     0.0|                                 0.0|                                              0.0|                               0.0|                               1.7001662E7|                                        0.0|                                        687022.0|                    0.0|                        0.0|                           0.0|            0.0|                   536498.0|           0.0|                    0.0|                                            0.0|                                  0.0|                           0.0|        13085768|                             0|            1|1598.24|             0.61|               2.31|                4.26|            0.61|\n",
      "|2000|january|   CE|  5576921.0|       0.0|  4535653.0|    3148254.0|        0.0|         1734529.0|  3716458.0|            1971500.0|             59874.0|     1.3247447E7|                1.594049E7|              6311419.0|                   948600.0|            1941958.0|                745659.0|      114393.0|                         0.0|                            4547426.0| 3.6892799E7|             0.0|         0.0|                      8743377.0|                                      0.0|                                  0.0|                     6505382.0|                                     0.0|                                 0.0|                                              0.0|                               0.0|                                 8618224.0|                                        0.0|                                        506146.0|                    0.0|                        0.0|                           0.0|            0.0|                   143952.0|           0.0|                    0.0|                                            0.0|                                  0.0|                           0.0|         7431597|                             0|            1|1598.24|             0.61|               2.31|                4.26|            0.61|\n",
      "|2000|january|   DF|  2254341.0|      43.0|  3197500.0|    2777942.0|        0.0|         2079272.0|  2433339.0|            3067374.0|           3913461.0|      7.158268E7|              2.57391352E8|           1.24316928E8|                  7145075.0|          3.5581549E7|             2.2472279E7|       64578.0|                         0.0|                         2.40726401E8|1.41910257E8|             0.0|         0.0|                    6.1028823E7|                                      0.0|                                  0.0|                   2.7194137E7|                                     0.0|                                 0.0|                                              0.0|                               0.0|                               7.4389957E7|                                        0.0|                                        534320.0|                    0.0|                        0.0|                           0.0|            0.0|                3.3937318E7|           0.0|                    0.0|                                            0.0|                                  0.0|                           0.0|         2051146|                             0|            1|1598.24|             0.61|               2.31|                4.26|            0.61|\n",
      "|2000|january|   ES|3.1950799E7|       0.0|  3598736.0|      20408.0|  1503039.0|        2.684043E7|  4036463.0|            1620843.0|              2542.0|     2.9105465E7|                 9380778.0|            1.0515327E7|                  4717282.0|            1703727.0|                491261.0|     1563052.0|                         0.0|                              28681.0| 4.9157907E7|             0.0|         0.0|                    1.3289266E7|                                      0.0|                                  0.0|                   1.2890143E7|                                     0.0|                                 0.0|                                              0.0|                               0.0|                                 6038251.0|                                        0.0|                                       2164901.0|                    0.0|                        0.0|                           0.0|            0.0|                   382985.0|           0.0|                    0.0|                                            0.0|                                  0.0|                           0.0|         3097497|                             0|            1|1598.24|             0.61|               2.31|                4.26|            0.61|\n",
      "|2000|january|   GO|  3747911.0|       0.0|  3236092.0|    5064141.0|  1091185.0|          986314.0|  2654994.0|            1401385.0|             45754.0|     1.8823998E7|               1.3094463E7|              6275215.0|                   132749.0|            1043647.0|                638840.0|     2269467.0|                         0.0|                            3912150.0| 4.7986002E7|             0.0|         0.0|                     1.356919E7|                                      0.0|                                  0.0|                     8180079.0|                                     0.0|                                 0.0|                                              0.0|                               0.0|                                 7394364.0|                                        0.0|                                        658643.0|                    0.0|                        0.0|                           0.0|            0.0|                   403579.0|           0.0|                    0.0|                                            0.0|                                  0.0|                           0.0|         5004196|                             0|            1|1598.24|             0.61|               2.31|                4.26|            0.61|\n",
      "|2000|january|   MA|  1714749.0|      69.0|  1124738.0|    4061569.0|        0.0|          206691.0|   484436.0|             479170.0|              4832.0|       3251185.0|                 4149532.0|               781569.0|                     1130.0|             289120.0|                 86071.0|      593391.0|                         0.0|                             612313.0|   9654439.0|             0.0|         0.0|                      5104547.0|                                      0.0|                                  0.0|                     2283622.0|                                     0.0|                                 0.0|                                              0.0|                               0.0|                                 2966912.0|                                        0.0|                                        120868.0|                    0.0|                        0.0|                           0.0|            0.0|                   121337.0|           0.0|                    0.0|                                            0.0|                                  0.0|                           0.0|         5657553|                             0|            1|1598.24|             0.61|               2.31|                4.26|            0.61|\n",
      "|2000|january|   MG|3.5549181E7|      57.0|1.5511142E7|  1.2111623E7|2.9305691E7|       1.5049305E7|3.8667924E7|          1.1038328E7|           3416372.0|     8.3378349E7|               7.3410958E7|            7.7963069E7|                1.1600682E7|          1.5573355E7|               3835234.0|     5262680.0|                         0.0|                          1.8475116E7|1.73737137E8|             0.0|         0.0|                    4.4074747E7|                                      0.0|                                  0.0|                   4.1904953E7|                                     0.0|                                 0.0|                                              0.0|                               0.0|                               3.2234994E7|                                        0.0|                                       1880050.0|                    0.0|                        0.0|                           0.0|            0.0|                  1190058.0|           0.0|                    0.0|                                            0.0|                                  0.0|                           0.0|        17905135|                             0|            1|1598.24|             0.61|               2.31|                4.26|            0.61|\n",
      "|2000|january|   MS|   437668.0|       0.0|   899850.0|     268111.0|        0.0|          365983.0|   626188.0|            1926537.0|              7972.0|       3983857.0|                 4331201.0|               797218.0|                    26225.0|             194378.0|                 52490.0|     1376859.0|                         0.0|                             210638.0| 1.3141747E7|             0.0|         0.0|                      3865681.0|                                      0.0|                                  0.0|                     2249894.0|                                     0.0|                                 0.0|                                              0.0|                               0.0|                                 4298541.0|                                        0.0|                                        136823.0|                    0.0|                        0.0|                           0.0|            0.0|                   227936.0|           0.0|                    0.0|                                            0.0|                                  0.0|                           0.0|         2078070|                             0|            1|1598.24|             0.61|               2.31|                4.26|            0.61|\n",
      "|2000|january|   MT|   302002.0|       0.0|  1837228.0|    2734966.0|        0.0|           98807.0|   322126.0|             537577.0|              5356.0|       5998492.0|                 6702247.0|               506327.0|                   287788.0|             518377.0|                122986.0|     5965591.0|                         0.0|                             622603.0| 1.4454666E7|             0.0|         0.0|                      5290254.0|                                      0.0|                                  0.0|                     3544619.0|                                     0.0|                                 0.0|                                              0.0|                               0.0|                                 4516488.0|                                        0.0|                                        255856.0|                    0.0|                        0.0|                           0.0|            0.0|                   286198.0|           0.0|                    0.0|                                            0.0|                                  0.0|                           0.0|         2505245|                             0|            1|1598.24|             0.61|               2.31|                4.26|            0.61|\n",
      "|2000|january|   PA|  1321715.0|       0.0|  2506107.0|    1255572.0|        0.0|          771308.0|   842141.0|             885476.0|           1687010.0|     1.0397922E7|                 9891932.0|              1452409.0|                   271488.0|             689009.0|                293485.0|      892163.0|                         0.0|                            2996773.0| 1.7597074E7|             0.0|         0.0|                      5839339.0|                                      0.0|                                  0.0|                     5853614.0|                                     0.0|                                 0.0|                                              0.0|                               0.0|                                 9415007.0|                                        0.0|                                        314129.0|                    0.0|                        0.0|                           0.0|            0.0|                   158348.0|           0.0|                    0.0|                                            0.0|                                  0.0|                           0.0|         6195965|                             0|            1|1598.24|             0.61|               2.31|                4.26|            0.61|\n",
      "|2000|january|   PB|  1351422.0|       0.0|  1971817.0|    5556557.0|        0.0|          763383.0|  1729472.0|             531092.0|              6819.0|       8455014.0|                 9164933.0|              1315192.0|                   215491.0|             193623.0|                113133.0|       38801.0|                         0.0|                             186368.0| 1.1047735E7|             0.0|         0.0|                      3084360.0|                                      0.0|                                  0.0|                     2936019.0|                                     0.0|                                 0.0|                                              0.0|                               0.0|                               1.0933455E7|                                        0.0|                                        194863.0|                    0.0|                        0.0|                           0.0|            0.0|                4.9780562E7|           0.0|                    0.0|                                            0.0|                                  0.0|                           0.0|         3444794|                             0|            1|1598.24|             0.61|               2.31|                4.26|            0.61|\n",
      "|2000|january|   PE|  6268803.0|      13.0|  6167644.0|    5650794.0|        0.0|         2688235.0|  8230496.0|            1679485.0|            245392.0|     1.5783042E7|               2.6054337E7|            3.8164839E7|                   983356.0|            2266139.0|                519577.0|     7442780.0|                         0.0|                            2893853.0| 5.1098148E7|             0.0|         0.0|                    1.4322361E7|                                      0.0|                                  0.0|                     8608550.0|                                     0.0|                                 0.0|                                              0.0|                               0.0|                               1.5511663E7|                                        0.0|                                        796051.0|                    0.0|                        0.0|                           0.0|            0.0|                   312474.0|           0.0|                    0.0|                                            0.0|                                  0.0|                           0.0|         7929153|                             0|            1|1598.24|             0.61|               2.31|                4.26|            0.61|\n",
      "|2000|january|   PI|   382374.0|       0.0|  1001688.0|    2261830.0|        0.0|           88220.0|   261477.0|             291999.0|             16605.0|       4285628.0|                 3839267.0|              1119727.0|                    58819.0|             165302.0|                 30629.0|      469071.0|                         0.0|                             182915.0|   8970699.0|             0.0|         0.0|                      3232042.0|                                      0.0|                                  0.0|                     2280136.0|                                     0.0|                                 0.0|                                              0.0|                               0.0|                                 3823880.0|                                        0.0|                                         99030.0|                    0.0|                        0.0|                           0.0|            0.0|                    73288.0|           0.0|                    0.0|                                            0.0|                                  0.0|                           0.0|         2843427|                             0|            1|1598.24|             0.61|               2.31|                4.26|            0.61|\n",
      "|2000|january|   PR|4.5984119E7|       0.0|1.0114872E7|    5045577.0|1.2768408E7|       2.3702615E7|2.6596165E7|            5748682.0|           3925211.0|     6.0829302E7|                3.987565E7|            5.4801093E7|                  5692244.0|            3876963.0|               9880454.0|     1398281.0|                         0.0|                          7.3908984E7|1.34479291E8|             0.0|         0.0|                    2.9738452E7|                                      0.0|                                  0.0|                   2.6556999E7|                                     0.0|                                 0.0|                                              0.0|                               0.0|                               1.0729415E7|                                        0.0|                                       1127493.0|                    0.0|                        0.0|                           0.0|            0.0|                   881395.0|           0.0|                    0.0|                                            0.0|                                  0.0|                           0.0|         9564643|                             0|            1|1598.24|             0.61|               2.31|                4.26|            0.61|\n",
      "|2000|january|   RJ|5.4679975E7|     110.0|2.4542326E7|  3.0839175E7|     4605.0|       2.8145513E7|4.7564082E7|          3.6256377E7|         1.9404254E7|    1.81047892E8|              2.47291061E8|           2.90260344E8|                 5.812162E7|                  0.0|             1.2710303E7|      164156.0|                         0.0|                          3.5680049E7|8.73100045E8|             0.0|         0.0|                   2.00959432E8|                                      0.0|                                  0.0|                   7.3286433E7|                                     0.0|                                 0.0|                                              0.0|                               0.0|                               7.0462373E7|                                        0.0|                                       4118315.0|                    0.0|                        0.0|                           0.0|            0.0|                1.2538119E7|           0.0|                    0.0|                                            0.0|                                  0.0|                           0.0|        14392106|                             0|            1|1598.24|             0.61|               2.31|                4.26|            0.61|\n",
      "|2000|january|   RN|   997074.0|       0.0|  1849649.0|    1973085.0|        0.0|          586673.0|   150429.0|             493904.0|              4783.0|       3791527.0|                 9790539.0|              3138513.0|                   201215.0|             452018.0|                 11143.0|      232929.0|                         0.0|                              65459.0| 1.3165671E7|             0.0|         0.0|                      2998136.0|                                      0.0|                                  0.0|                     2869106.0|                                     0.0|                                 0.0|                                              0.0|                               0.0|                                 7668904.0|                                        0.0|                                        176400.0|                    0.0|                        0.0|                           0.0|            0.0|                    41888.0|           0.0|                    0.0|                                            0.0|                                  0.0|                           0.0|         2777509|                             0|            1|1598.24|             0.61|               2.31|                4.26|            0.61|\n",
      "+----+-------+-----+-----------+----------+-----------+-------------+-----------+------------------+-----------+---------------------+--------------------+----------------+--------------------------+-----------------------+---------------------------+---------------------+------------------------+--------------+----------------------------+-------------------------------------+------------+----------------+------------+-------------------------------+-----------------------------------------+-------------------------------------+------------------------------+----------------------------------------+------------------------------------+-------------------------------------------------+----------------------------------+------------------------------------------+-------------------------------------------+------------------------------------------------+-----------------------+---------------------------+------------------------------+---------------+---------------------------+--------------+-----------------------+-----------------------------------------------+-------------------------------------+------------------------------+----------------+------------------------------+-------------+-------+-----------------+-------------------+--------------------+----------------+\n",
      "only showing top 20 rows\n",
      "\n"
     ]
    }
   ],
   "source": [
    "collection_population_state_df.show()"
   ]
  },
  {
   "cell_type": "markdown",
   "metadata": {},
   "source": [
    "## 4.2 - Adding some columns"
   ]
  },
  {
   "cell_type": "markdown",
   "metadata": {},
   "source": [
    "### 4.2.1 - Regions in Brazil"
   ]
  },
  {
   "cell_type": "code",
   "execution_count": 43,
   "metadata": {},
   "outputs": [],
   "source": [
    "regions_uf = {\n",
    "    \"north\": (\"AC\", \"AP\", \"AM\", \"PA\", \"RO\", \"RR\", \"TO\"),\n",
    "    \"north_east\": (\"AL\", \"BA\", \"CE\", \"MA\", \"PB\", \"PE\", \"PI\", \"RN\", \"SE\"),\n",
    "    \"midwest\": (\"DF\", \"GO\", \"MT\", \"MS\"),\n",
    "    \"south\": (\"PR\", \"RS\", \"SC\"),\n",
    "    \"south_east\": (\"ES\", \"MG\", \"RJ\", \"SP\")\n",
    "}"
   ]
  },
  {
   "cell_type": "code",
   "execution_count": 44,
   "metadata": {},
   "outputs": [],
   "source": [
    "from typing import Dict, List\n",
    "\n",
    "def add_region_column(df: DataFrame, regions_uf: Dict[str, List[str]]) -> DataFrame:\n",
    "    \"\"\"\n",
    "    Adds a 'region' column to the given DataFrame based on the 'state' column and the provided mapping of states to regions.\n",
    "\n",
    "    Parameters\n",
    "    ----------\n",
    "    df : DataFrame\n",
    "        The Spark DataFrame to which the 'region' column will be added.\n",
    "    regions_uf : dict\n",
    "        A dictionary where keys are region names (strings) and values are lists of state codes (strings) that belong to each region.\n",
    "\n",
    "    Returns\n",
    "    -------\n",
    "    DataFrame\n",
    "        A new DataFrame with an additional column 'region'. The 'region' column is populated based on the 'state' column and the mapping provided.\n",
    "        States not found in the mapping will be assigned the value 'unknown'.\n",
    "    \"\"\"\n",
    "    # Initialize the conditions for the 'when' function\n",
    "    conditions = None\n",
    "\n",
    "    # Iterate through the regions and their states to build conditions\n",
    "    for region, states in regions_uf.items():\n",
    "        if conditions is None:\n",
    "            conditions = F.when(F.col(\"state\").isin(*states), F.lit(region))\n",
    "        else:\n",
    "            conditions = conditions.when(F.col(\"state\").isin(*states), F.lit(region))\n",
    "    \n",
    "    # Use 'otherwise' to set the default value\n",
    "    df = df.withColumn(\n",
    "        \"region\",\n",
    "        conditions.otherwise(F.lit(\"unknown\"))\n",
    "    )\n",
    "\n",
    "    return df"
   ]
  },
  {
   "cell_type": "code",
   "execution_count": 45,
   "metadata": {},
   "outputs": [],
   "source": [
    "collection_population_state_df = add_region_column(df=collection_population_state_df, regions_uf=regions_uf)"
   ]
  },
  {
   "cell_type": "code",
   "execution_count": 46,
   "metadata": {},
   "outputs": [
    {
     "name": "stdout",
     "output_type": "stream",
     "text": [
      "+----+-------+-----+-----------+----------+-----------+-------------+-----------+------------------+-----------+---------------------+--------------------+----------------+--------------------------+-----------------------+---------------------------+---------------------+------------------------+--------------+----------------------------+-------------------------------------+------------+----------------+------------+-------------------------------+-----------------------------------------+-------------------------------------+------------------------------+----------------------------------------+------------------------------------+-------------------------------------------------+----------------------------------+------------------------------------------+-------------------------------------------+------------------------------------------------+-----------------------+---------------------------+------------------------------+---------------+---------------------------+--------------+-----------------------+-----------------------------------------------+-------------------------------------+------------------------------+----------------+------------------------------+-------------+-------+-----------------+-------------------+--------------------+----------------+----------+\n",
      "|year|  month|state| import_tax|export_tax|ipi_tobacco|ipi_beverages|   ipi_auto|ipi_linked_imports| ipi_others|income_tax_individual|income_tax_financial|income_tax_other|withholding_tax_employment|withholding_tax_capital|withholding_tax_remittances|withholding_tax_other|tax_financial_operations|rural_land_tax|provisional_tax_transactions|provisional_contribution_transactions|      cofins|cofins_financial|cofins_other|contribution_social_integration|contribution_social_integration_financial|contribution_social_integration_other|social_contribution_net_profit|social_contribution_net_profit_financial|social_contribution_net_profit_other|intervention_economic_domain_non_deductible_fuels|intervention_economic_domain_fuels|contribution_security_plan_public_servants|contributions_security_plan_public_servants|contributions_special_fund_inspection_activities|fiscal_recovery_program|installment_payment_program|withholding_tax_law_article_30|unified_payment|other_administered_revenues|other_revenues|social_security_revenue|social_security_revenue_individual_contributors|social_security_revenue_other_sources|administered_by_other_agencies|population_state|economically_active_population|month_numeric|  index|monthly_variation|quarterly_variation|semiannual_variation|annual_variation|    region|\n",
      "+----+-------+-----+-----------+----------+-----------+-------------+-----------+------------------+-----------+---------------------+--------------------+----------------+--------------------------+-----------------------+---------------------------+---------------------+------------------------+--------------+----------------------------+-------------------------------------+------------+----------------+------------+-------------------------------+-----------------------------------------+-------------------------------------+------------------------------+----------------------------------------+------------------------------------+-------------------------------------------------+----------------------------------+------------------------------------------+-------------------------------------------+------------------------------------------------+-----------------------+---------------------------+------------------------------+---------------+---------------------------+--------------+-----------------------+-----------------------------------------------+-------------------------------------+------------------------------+----------------+------------------------------+-------------+-------+-----------------+-------------------+--------------------+----------------+----------+\n",
      "|2000|january|   AC|      231.0|       0.0|   292096.0|          0.0|        0.0|             167.0|     1558.0|             177197.0|               643.0|        676835.0|                 1084940.0|                27652.0|                      570.0|              30894.0|                  1220.0|       28447.0|                         0.0|                                103.0|   1770475.0|             0.0|         0.0|                       387364.0|                                      0.0|                                  0.0|                      392830.0|                                     0.0|                                 0.0|                                              0.0|                               0.0|                                 1243858.0|                                        0.0|                                         28329.0|                    0.0|                        0.0|                           0.0|            0.0|                    20911.0|           0.0|                    0.0|                                            0.0|                                  0.0|                           0.0|          557882|                             0|            1|1598.24|             0.61|               2.31|                4.26|            0.61|     north|\n",
      "|2000|january|   AL|   475088.0|   33873.0|  1329338.0|     812470.0|        0.0|          141735.0|  3676847.0|             460804.0|               561.0|       2672106.0|                 4454947.0|               544056.0|                   191382.0|             309573.0|                 26939.0|     4252539.0|                         0.0|                              97248.0|   7493570.0|             0.0|         0.0|                      2545254.0|                                      0.0|                                  0.0|                     1775834.0|                                     0.0|                                 0.0|                                              0.0|                               0.0|                                 3179753.0|                                        0.0|                                        125043.0|                    0.0|                        0.0|                           0.0|            0.0|                   127189.0|           0.0|                    0.0|                                            0.0|                                  0.0|                           0.0|         2827856|                             0|            1|1598.24|             0.61|               2.31|                4.26|            0.61|north_east|\n",
      "|2000|january|   AM|1.1679405E7|       0.0|  1507146.0|    1791471.0|    27796.0|         4414483.0|  1800346.0|             700623.0|             90828.0|     1.0058713E7|               1.0174718E7|              1241708.0|                  3580022.0|            1029164.0|                843881.0|       40171.0|                         0.0|                             832562.0| 4.4000981E7|             0.0|         0.0|                    1.1671871E7|                                      0.0|                                  0.0|                     7652859.0|                                     0.0|                                 0.0|                                              0.0|                               0.0|                                 4072567.0|                                        0.0|                                        161647.0|                    0.0|                        0.0|                           0.0|            0.0|                   187988.0|           0.0|                    0.0|                                            0.0|                                  0.0|                           0.0|         2817253|                             0|            1|1598.24|             0.61|               2.31|                4.26|            0.61|     north|\n",
      "|2000|january|   AP|    24267.0|       0.0|   424862.0|       1419.0|      321.0|           22333.0|    12165.0|             139226.0|             44135.0|        586572.0|                 1444486.0|               205031.0|                     5825.0|              34602.0|                  6999.0|        6477.0|                         0.0|                                  0.0|   1682102.0|             0.0|         0.0|                       574124.0|                                      0.0|                                  0.0|                      346964.0|                                     0.0|                                 0.0|                                              0.0|                               0.0|                                 3981691.0|                                        0.0|                                         38738.0|                    0.0|                        0.0|                           0.0|            0.0|                    10769.0|           0.0|                    0.0|                                            0.0|                                  0.0|                           0.0|          477032|                             0|            1|1598.24|             0.61|               2.31|                4.26|            0.61|     north|\n",
      "|2000|january|   BA|1.0476457E7|      13.0|  5542123.0|  1.1533707E7|        0.0|         7496476.0|2.3743858E7|            2498647.0|            177378.0|     2.5695696E7|               2.7277025E7|            1.3374802E7|                  2302766.0|            2022200.0|               1218485.0|     2446535.0|                         0.0|                          1.1923442E7| 8.1027229E7|             0.0|         0.0|                    2.3138894E7|                                      0.0|                                  0.0|                   1.5699282E7|                                     0.0|                                 0.0|                                              0.0|                               0.0|                               1.7001662E7|                                        0.0|                                        687022.0|                    0.0|                        0.0|                           0.0|            0.0|                   536498.0|           0.0|                    0.0|                                            0.0|                                  0.0|                           0.0|        13085768|                             0|            1|1598.24|             0.61|               2.31|                4.26|            0.61|north_east|\n",
      "|2000|january|   CE|  5576921.0|       0.0|  4535653.0|    3148254.0|        0.0|         1734529.0|  3716458.0|            1971500.0|             59874.0|     1.3247447E7|                1.594049E7|              6311419.0|                   948600.0|            1941958.0|                745659.0|      114393.0|                         0.0|                            4547426.0| 3.6892799E7|             0.0|         0.0|                      8743377.0|                                      0.0|                                  0.0|                     6505382.0|                                     0.0|                                 0.0|                                              0.0|                               0.0|                                 8618224.0|                                        0.0|                                        506146.0|                    0.0|                        0.0|                           0.0|            0.0|                   143952.0|           0.0|                    0.0|                                            0.0|                                  0.0|                           0.0|         7431597|                             0|            1|1598.24|             0.61|               2.31|                4.26|            0.61|north_east|\n",
      "|2000|january|   DF|  2254341.0|      43.0|  3197500.0|    2777942.0|        0.0|         2079272.0|  2433339.0|            3067374.0|           3913461.0|      7.158268E7|              2.57391352E8|           1.24316928E8|                  7145075.0|          3.5581549E7|             2.2472279E7|       64578.0|                         0.0|                         2.40726401E8|1.41910257E8|             0.0|         0.0|                    6.1028823E7|                                      0.0|                                  0.0|                   2.7194137E7|                                     0.0|                                 0.0|                                              0.0|                               0.0|                               7.4389957E7|                                        0.0|                                        534320.0|                    0.0|                        0.0|                           0.0|            0.0|                3.3937318E7|           0.0|                    0.0|                                            0.0|                                  0.0|                           0.0|         2051146|                             0|            1|1598.24|             0.61|               2.31|                4.26|            0.61|   midwest|\n",
      "|2000|january|   ES|3.1950799E7|       0.0|  3598736.0|      20408.0|  1503039.0|        2.684043E7|  4036463.0|            1620843.0|              2542.0|     2.9105465E7|                 9380778.0|            1.0515327E7|                  4717282.0|            1703727.0|                491261.0|     1563052.0|                         0.0|                              28681.0| 4.9157907E7|             0.0|         0.0|                    1.3289266E7|                                      0.0|                                  0.0|                   1.2890143E7|                                     0.0|                                 0.0|                                              0.0|                               0.0|                                 6038251.0|                                        0.0|                                       2164901.0|                    0.0|                        0.0|                           0.0|            0.0|                   382985.0|           0.0|                    0.0|                                            0.0|                                  0.0|                           0.0|         3097497|                             0|            1|1598.24|             0.61|               2.31|                4.26|            0.61|south_east|\n",
      "|2000|january|   GO|  3747911.0|       0.0|  3236092.0|    5064141.0|  1091185.0|          986314.0|  2654994.0|            1401385.0|             45754.0|     1.8823998E7|               1.3094463E7|              6275215.0|                   132749.0|            1043647.0|                638840.0|     2269467.0|                         0.0|                            3912150.0| 4.7986002E7|             0.0|         0.0|                     1.356919E7|                                      0.0|                                  0.0|                     8180079.0|                                     0.0|                                 0.0|                                              0.0|                               0.0|                                 7394364.0|                                        0.0|                                        658643.0|                    0.0|                        0.0|                           0.0|            0.0|                   403579.0|           0.0|                    0.0|                                            0.0|                                  0.0|                           0.0|         5004196|                             0|            1|1598.24|             0.61|               2.31|                4.26|            0.61|   midwest|\n",
      "|2000|january|   MA|  1714749.0|      69.0|  1124738.0|    4061569.0|        0.0|          206691.0|   484436.0|             479170.0|              4832.0|       3251185.0|                 4149532.0|               781569.0|                     1130.0|             289120.0|                 86071.0|      593391.0|                         0.0|                             612313.0|   9654439.0|             0.0|         0.0|                      5104547.0|                                      0.0|                                  0.0|                     2283622.0|                                     0.0|                                 0.0|                                              0.0|                               0.0|                                 2966912.0|                                        0.0|                                        120868.0|                    0.0|                        0.0|                           0.0|            0.0|                   121337.0|           0.0|                    0.0|                                            0.0|                                  0.0|                           0.0|         5657553|                             0|            1|1598.24|             0.61|               2.31|                4.26|            0.61|north_east|\n",
      "|2000|january|   MG|3.5549181E7|      57.0|1.5511142E7|  1.2111623E7|2.9305691E7|       1.5049305E7|3.8667924E7|          1.1038328E7|           3416372.0|     8.3378349E7|               7.3410958E7|            7.7963069E7|                1.1600682E7|          1.5573355E7|               3835234.0|     5262680.0|                         0.0|                          1.8475116E7|1.73737137E8|             0.0|         0.0|                    4.4074747E7|                                      0.0|                                  0.0|                   4.1904953E7|                                     0.0|                                 0.0|                                              0.0|                               0.0|                               3.2234994E7|                                        0.0|                                       1880050.0|                    0.0|                        0.0|                           0.0|            0.0|                  1190058.0|           0.0|                    0.0|                                            0.0|                                  0.0|                           0.0|        17905135|                             0|            1|1598.24|             0.61|               2.31|                4.26|            0.61|south_east|\n",
      "|2000|january|   MS|   437668.0|       0.0|   899850.0|     268111.0|        0.0|          365983.0|   626188.0|            1926537.0|              7972.0|       3983857.0|                 4331201.0|               797218.0|                    26225.0|             194378.0|                 52490.0|     1376859.0|                         0.0|                             210638.0| 1.3141747E7|             0.0|         0.0|                      3865681.0|                                      0.0|                                  0.0|                     2249894.0|                                     0.0|                                 0.0|                                              0.0|                               0.0|                                 4298541.0|                                        0.0|                                        136823.0|                    0.0|                        0.0|                           0.0|            0.0|                   227936.0|           0.0|                    0.0|                                            0.0|                                  0.0|                           0.0|         2078070|                             0|            1|1598.24|             0.61|               2.31|                4.26|            0.61|   midwest|\n",
      "|2000|january|   MT|   302002.0|       0.0|  1837228.0|    2734966.0|        0.0|           98807.0|   322126.0|             537577.0|              5356.0|       5998492.0|                 6702247.0|               506327.0|                   287788.0|             518377.0|                122986.0|     5965591.0|                         0.0|                             622603.0| 1.4454666E7|             0.0|         0.0|                      5290254.0|                                      0.0|                                  0.0|                     3544619.0|                                     0.0|                                 0.0|                                              0.0|                               0.0|                                 4516488.0|                                        0.0|                                        255856.0|                    0.0|                        0.0|                           0.0|            0.0|                   286198.0|           0.0|                    0.0|                                            0.0|                                  0.0|                           0.0|         2505245|                             0|            1|1598.24|             0.61|               2.31|                4.26|            0.61|   midwest|\n",
      "|2000|january|   PA|  1321715.0|       0.0|  2506107.0|    1255572.0|        0.0|          771308.0|   842141.0|             885476.0|           1687010.0|     1.0397922E7|                 9891932.0|              1452409.0|                   271488.0|             689009.0|                293485.0|      892163.0|                         0.0|                            2996773.0| 1.7597074E7|             0.0|         0.0|                      5839339.0|                                      0.0|                                  0.0|                     5853614.0|                                     0.0|                                 0.0|                                              0.0|                               0.0|                                 9415007.0|                                        0.0|                                        314129.0|                    0.0|                        0.0|                           0.0|            0.0|                   158348.0|           0.0|                    0.0|                                            0.0|                                  0.0|                           0.0|         6195965|                             0|            1|1598.24|             0.61|               2.31|                4.26|            0.61|     north|\n",
      "|2000|january|   PB|  1351422.0|       0.0|  1971817.0|    5556557.0|        0.0|          763383.0|  1729472.0|             531092.0|              6819.0|       8455014.0|                 9164933.0|              1315192.0|                   215491.0|             193623.0|                113133.0|       38801.0|                         0.0|                             186368.0| 1.1047735E7|             0.0|         0.0|                      3084360.0|                                      0.0|                                  0.0|                     2936019.0|                                     0.0|                                 0.0|                                              0.0|                               0.0|                               1.0933455E7|                                        0.0|                                        194863.0|                    0.0|                        0.0|                           0.0|            0.0|                4.9780562E7|           0.0|                    0.0|                                            0.0|                                  0.0|                           0.0|         3444794|                             0|            1|1598.24|             0.61|               2.31|                4.26|            0.61|north_east|\n",
      "|2000|january|   PE|  6268803.0|      13.0|  6167644.0|    5650794.0|        0.0|         2688235.0|  8230496.0|            1679485.0|            245392.0|     1.5783042E7|               2.6054337E7|            3.8164839E7|                   983356.0|            2266139.0|                519577.0|     7442780.0|                         0.0|                            2893853.0| 5.1098148E7|             0.0|         0.0|                    1.4322361E7|                                      0.0|                                  0.0|                     8608550.0|                                     0.0|                                 0.0|                                              0.0|                               0.0|                               1.5511663E7|                                        0.0|                                        796051.0|                    0.0|                        0.0|                           0.0|            0.0|                   312474.0|           0.0|                    0.0|                                            0.0|                                  0.0|                           0.0|         7929153|                             0|            1|1598.24|             0.61|               2.31|                4.26|            0.61|north_east|\n",
      "|2000|january|   PI|   382374.0|       0.0|  1001688.0|    2261830.0|        0.0|           88220.0|   261477.0|             291999.0|             16605.0|       4285628.0|                 3839267.0|              1119727.0|                    58819.0|             165302.0|                 30629.0|      469071.0|                         0.0|                             182915.0|   8970699.0|             0.0|         0.0|                      3232042.0|                                      0.0|                                  0.0|                     2280136.0|                                     0.0|                                 0.0|                                              0.0|                               0.0|                                 3823880.0|                                        0.0|                                         99030.0|                    0.0|                        0.0|                           0.0|            0.0|                    73288.0|           0.0|                    0.0|                                            0.0|                                  0.0|                           0.0|         2843427|                             0|            1|1598.24|             0.61|               2.31|                4.26|            0.61|north_east|\n",
      "|2000|january|   PR|4.5984119E7|       0.0|1.0114872E7|    5045577.0|1.2768408E7|       2.3702615E7|2.6596165E7|            5748682.0|           3925211.0|     6.0829302E7|                3.987565E7|            5.4801093E7|                  5692244.0|            3876963.0|               9880454.0|     1398281.0|                         0.0|                          7.3908984E7|1.34479291E8|             0.0|         0.0|                    2.9738452E7|                                      0.0|                                  0.0|                   2.6556999E7|                                     0.0|                                 0.0|                                              0.0|                               0.0|                               1.0729415E7|                                        0.0|                                       1127493.0|                    0.0|                        0.0|                           0.0|            0.0|                   881395.0|           0.0|                    0.0|                                            0.0|                                  0.0|                           0.0|         9564643|                             0|            1|1598.24|             0.61|               2.31|                4.26|            0.61|     south|\n",
      "|2000|january|   RJ|5.4679975E7|     110.0|2.4542326E7|  3.0839175E7|     4605.0|       2.8145513E7|4.7564082E7|          3.6256377E7|         1.9404254E7|    1.81047892E8|              2.47291061E8|           2.90260344E8|                 5.812162E7|                  0.0|             1.2710303E7|      164156.0|                         0.0|                          3.5680049E7|8.73100045E8|             0.0|         0.0|                   2.00959432E8|                                      0.0|                                  0.0|                   7.3286433E7|                                     0.0|                                 0.0|                                              0.0|                               0.0|                               7.0462373E7|                                        0.0|                                       4118315.0|                    0.0|                        0.0|                           0.0|            0.0|                1.2538119E7|           0.0|                    0.0|                                            0.0|                                  0.0|                           0.0|        14392106|                             0|            1|1598.24|             0.61|               2.31|                4.26|            0.61|south_east|\n",
      "|2000|january|   RN|   997074.0|       0.0|  1849649.0|    1973085.0|        0.0|          586673.0|   150429.0|             493904.0|              4783.0|       3791527.0|                 9790539.0|              3138513.0|                   201215.0|             452018.0|                 11143.0|      232929.0|                         0.0|                              65459.0| 1.3165671E7|             0.0|         0.0|                      2998136.0|                                      0.0|                                  0.0|                     2869106.0|                                     0.0|                                 0.0|                                              0.0|                               0.0|                                 7668904.0|                                        0.0|                                        176400.0|                    0.0|                        0.0|                           0.0|            0.0|                    41888.0|           0.0|                    0.0|                                            0.0|                                  0.0|                           0.0|         2777509|                             0|            1|1598.24|             0.61|               2.31|                4.26|            0.61|north_east|\n",
      "+----+-------+-----+-----------+----------+-----------+-------------+-----------+------------------+-----------+---------------------+--------------------+----------------+--------------------------+-----------------------+---------------------------+---------------------+------------------------+--------------+----------------------------+-------------------------------------+------------+----------------+------------+-------------------------------+-----------------------------------------+-------------------------------------+------------------------------+----------------------------------------+------------------------------------+-------------------------------------------------+----------------------------------+------------------------------------------+-------------------------------------------+------------------------------------------------+-----------------------+---------------------------+------------------------------+---------------+---------------------------+--------------+-----------------------+-----------------------------------------------+-------------------------------------+------------------------------+----------------+------------------------------+-------------+-------+-----------------+-------------------+--------------------+----------------+----------+\n",
      "only showing top 20 rows\n",
      "\n"
     ]
    }
   ],
   "source": [
    "collection_population_state_df.show()"
   ]
  },
  {
   "cell_type": "markdown",
   "metadata": {},
   "source": [
    "### 4.2.2 - Adding 'id' column, this will be our surrogate key"
   ]
  },
  {
   "cell_type": "code",
   "execution_count": 47,
   "metadata": {},
   "outputs": [],
   "source": [
    "def add_id_column(df: DataFrame, order_by: str) -> DataFrame:\n",
    "    \"\"\"\n",
    "    Adds a sequential 'id' column to the DataFrame based on the specified ordering column.\n",
    "\n",
    "    Parameters\n",
    "    ----------\n",
    "    df : DataFrame\n",
    "        The Spark DataFrame to which the 'id' column will be added.\n",
    "    order_by : str\n",
    "        The column name by which the DataFrame should be ordered to generate the sequential 'id' values.\n",
    "\n",
    "    Returns\n",
    "    -------\n",
    "    DataFrame\n",
    "        A new DataFrame with an additional 'id' column. The 'id' column contains sequential integers based on the specified order.\n",
    "        The resulting DataFrame will have 'id' as the first column, followed by the original columns.\n",
    "        \"\"\"\n",
    "    window_spec = Window.orderBy(order_by)\n",
    "\n",
    "    # Add the ID column and reorder columns\n",
    "    df = df.withColumn(\"id\", F.row_number().over(window_spec))\n",
    "    id_first_columns = [\"id\"] + [col for col in df.columns if col != \"id\"]\n",
    "    df = df.select(*id_first_columns)\n",
    "\n",
    "    return df"
   ]
  },
  {
   "cell_type": "code",
   "execution_count": 48,
   "metadata": {},
   "outputs": [],
   "source": [
    "collection_population_state_df = add_id_column(df=collection_population_state_df, order_by=\"year\")"
   ]
  },
  {
   "cell_type": "markdown",
   "metadata": {},
   "source": [
    "### 4.2.3 - Moving region column to be near of the state column"
   ]
  },
  {
   "cell_type": "code",
   "execution_count": 49,
   "metadata": {},
   "outputs": [
    {
     "name": "stdout",
     "output_type": "stream",
     "text": [
      "['id', 'year', 'month', 'state', 'region', 'import_tax', 'export_tax', 'ipi_tobacco', 'ipi_beverages', 'ipi_auto', 'ipi_linked_imports', 'ipi_others', 'income_tax_individual', 'income_tax_financial', 'income_tax_other', 'withholding_tax_employment', 'withholding_tax_capital', 'withholding_tax_remittances', 'withholding_tax_other', 'tax_financial_operations', 'rural_land_tax', 'provisional_tax_transactions', 'provisional_contribution_transactions', 'cofins', 'cofins_financial', 'cofins_other', 'contribution_social_integration', 'contribution_social_integration_financial', 'contribution_social_integration_other', 'social_contribution_net_profit', 'social_contribution_net_profit_financial', 'social_contribution_net_profit_other', 'intervention_economic_domain_non_deductible_fuels', 'intervention_economic_domain_fuels', 'contribution_security_plan_public_servants', 'contributions_security_plan_public_servants', 'contributions_special_fund_inspection_activities', 'fiscal_recovery_program', 'installment_payment_program', 'withholding_tax_law_article_30', 'unified_payment', 'other_administered_revenues', 'other_revenues', 'social_security_revenue', 'social_security_revenue_individual_contributors', 'social_security_revenue_other_sources', 'administered_by_other_agencies', 'population_state', 'economically_active_population', 'month_numeric', 'index', 'monthly_variation', 'quarterly_variation', 'semiannual_variation', 'annual_variation']\n"
     ]
    }
   ],
   "source": [
    "columns = []\n",
    "for col in collection_population_state_df.columns:\n",
    "    if col != \"region\":\n",
    "        columns.append(col)\n",
    "    if col == \"state\":\n",
    "        columns.append(\"region\")\n",
    "        \n",
    "print(columns)"
   ]
  },
  {
   "cell_type": "code",
   "execution_count": 50,
   "metadata": {},
   "outputs": [],
   "source": [
    "collection_population_state_final_df = collection_population_state_df.select(*columns)"
   ]
  },
  {
   "cell_type": "code",
   "execution_count": 51,
   "metadata": {},
   "outputs": [
    {
     "name": "stdout",
     "output_type": "stream",
     "text": [
      "+---+----+-------+-----+----------+-----------+----------+-----------+-------------+-----------+------------------+-----------+---------------------+--------------------+----------------+--------------------------+-----------------------+---------------------------+---------------------+------------------------+--------------+----------------------------+-------------------------------------+------------+----------------+------------+-------------------------------+-----------------------------------------+-------------------------------------+------------------------------+----------------------------------------+------------------------------------+-------------------------------------------------+----------------------------------+------------------------------------------+-------------------------------------------+------------------------------------------------+-----------------------+---------------------------+------------------------------+---------------+---------------------------+--------------+-----------------------+-----------------------------------------------+-------------------------------------+------------------------------+----------------+------------------------------+-------------+-------+-----------------+-------------------+--------------------+----------------+\n",
      "| id|year|  month|state|    region| import_tax|export_tax|ipi_tobacco|ipi_beverages|   ipi_auto|ipi_linked_imports| ipi_others|income_tax_individual|income_tax_financial|income_tax_other|withholding_tax_employment|withholding_tax_capital|withholding_tax_remittances|withholding_tax_other|tax_financial_operations|rural_land_tax|provisional_tax_transactions|provisional_contribution_transactions|      cofins|cofins_financial|cofins_other|contribution_social_integration|contribution_social_integration_financial|contribution_social_integration_other|social_contribution_net_profit|social_contribution_net_profit_financial|social_contribution_net_profit_other|intervention_economic_domain_non_deductible_fuels|intervention_economic_domain_fuels|contribution_security_plan_public_servants|contributions_security_plan_public_servants|contributions_special_fund_inspection_activities|fiscal_recovery_program|installment_payment_program|withholding_tax_law_article_30|unified_payment|other_administered_revenues|other_revenues|social_security_revenue|social_security_revenue_individual_contributors|social_security_revenue_other_sources|administered_by_other_agencies|population_state|economically_active_population|month_numeric|  index|monthly_variation|quarterly_variation|semiannual_variation|annual_variation|\n",
      "+---+----+-------+-----+----------+-----------+----------+-----------+-------------+-----------+------------------+-----------+---------------------+--------------------+----------------+--------------------------+-----------------------+---------------------------+---------------------+------------------------+--------------+----------------------------+-------------------------------------+------------+----------------+------------+-------------------------------+-----------------------------------------+-------------------------------------+------------------------------+----------------------------------------+------------------------------------+-------------------------------------------------+----------------------------------+------------------------------------------+-------------------------------------------+------------------------------------------------+-----------------------+---------------------------+------------------------------+---------------+---------------------------+--------------+-----------------------+-----------------------------------------------+-------------------------------------+------------------------------+----------------+------------------------------+-------------+-------+-----------------+-------------------+--------------------+----------------+\n",
      "|  1|2000|january|   AC|     north|      231.0|       0.0|   292096.0|          0.0|        0.0|             167.0|     1558.0|             177197.0|               643.0|        676835.0|                 1084940.0|                27652.0|                      570.0|              30894.0|                  1220.0|       28447.0|                         0.0|                                103.0|   1770475.0|             0.0|         0.0|                       387364.0|                                      0.0|                                  0.0|                      392830.0|                                     0.0|                                 0.0|                                              0.0|                               0.0|                                 1243858.0|                                        0.0|                                         28329.0|                    0.0|                        0.0|                           0.0|            0.0|                    20911.0|           0.0|                    0.0|                                            0.0|                                  0.0|                           0.0|          557882|                             0|            1|1598.24|             0.61|               2.31|                4.26|            0.61|\n",
      "|  2|2000|january|   AL|north_east|   475088.0|   33873.0|  1329338.0|     812470.0|        0.0|          141735.0|  3676847.0|             460804.0|               561.0|       2672106.0|                 4454947.0|               544056.0|                   191382.0|             309573.0|                 26939.0|     4252539.0|                         0.0|                              97248.0|   7493570.0|             0.0|         0.0|                      2545254.0|                                      0.0|                                  0.0|                     1775834.0|                                     0.0|                                 0.0|                                              0.0|                               0.0|                                 3179753.0|                                        0.0|                                        125043.0|                    0.0|                        0.0|                           0.0|            0.0|                   127189.0|           0.0|                    0.0|                                            0.0|                                  0.0|                           0.0|         2827856|                             0|            1|1598.24|             0.61|               2.31|                4.26|            0.61|\n",
      "|  3|2000|january|   AM|     north|1.1679405E7|       0.0|  1507146.0|    1791471.0|    27796.0|         4414483.0|  1800346.0|             700623.0|             90828.0|     1.0058713E7|               1.0174718E7|              1241708.0|                  3580022.0|            1029164.0|                843881.0|       40171.0|                         0.0|                             832562.0| 4.4000981E7|             0.0|         0.0|                    1.1671871E7|                                      0.0|                                  0.0|                     7652859.0|                                     0.0|                                 0.0|                                              0.0|                               0.0|                                 4072567.0|                                        0.0|                                        161647.0|                    0.0|                        0.0|                           0.0|            0.0|                   187988.0|           0.0|                    0.0|                                            0.0|                                  0.0|                           0.0|         2817253|                             0|            1|1598.24|             0.61|               2.31|                4.26|            0.61|\n",
      "|  4|2000|january|   AP|     north|    24267.0|       0.0|   424862.0|       1419.0|      321.0|           22333.0|    12165.0|             139226.0|             44135.0|        586572.0|                 1444486.0|               205031.0|                     5825.0|              34602.0|                  6999.0|        6477.0|                         0.0|                                  0.0|   1682102.0|             0.0|         0.0|                       574124.0|                                      0.0|                                  0.0|                      346964.0|                                     0.0|                                 0.0|                                              0.0|                               0.0|                                 3981691.0|                                        0.0|                                         38738.0|                    0.0|                        0.0|                           0.0|            0.0|                    10769.0|           0.0|                    0.0|                                            0.0|                                  0.0|                           0.0|          477032|                             0|            1|1598.24|             0.61|               2.31|                4.26|            0.61|\n",
      "|  5|2000|january|   BA|north_east|1.0476457E7|      13.0|  5542123.0|  1.1533707E7|        0.0|         7496476.0|2.3743858E7|            2498647.0|            177378.0|     2.5695696E7|               2.7277025E7|            1.3374802E7|                  2302766.0|            2022200.0|               1218485.0|     2446535.0|                         0.0|                          1.1923442E7| 8.1027229E7|             0.0|         0.0|                    2.3138894E7|                                      0.0|                                  0.0|                   1.5699282E7|                                     0.0|                                 0.0|                                              0.0|                               0.0|                               1.7001662E7|                                        0.0|                                        687022.0|                    0.0|                        0.0|                           0.0|            0.0|                   536498.0|           0.0|                    0.0|                                            0.0|                                  0.0|                           0.0|        13085768|                             0|            1|1598.24|             0.61|               2.31|                4.26|            0.61|\n",
      "|  6|2000|january|   CE|north_east|  5576921.0|       0.0|  4535653.0|    3148254.0|        0.0|         1734529.0|  3716458.0|            1971500.0|             59874.0|     1.3247447E7|                1.594049E7|              6311419.0|                   948600.0|            1941958.0|                745659.0|      114393.0|                         0.0|                            4547426.0| 3.6892799E7|             0.0|         0.0|                      8743377.0|                                      0.0|                                  0.0|                     6505382.0|                                     0.0|                                 0.0|                                              0.0|                               0.0|                                 8618224.0|                                        0.0|                                        506146.0|                    0.0|                        0.0|                           0.0|            0.0|                   143952.0|           0.0|                    0.0|                                            0.0|                                  0.0|                           0.0|         7431597|                             0|            1|1598.24|             0.61|               2.31|                4.26|            0.61|\n",
      "|  7|2000|january|   DF|   midwest|  2254341.0|      43.0|  3197500.0|    2777942.0|        0.0|         2079272.0|  2433339.0|            3067374.0|           3913461.0|      7.158268E7|              2.57391352E8|           1.24316928E8|                  7145075.0|          3.5581549E7|             2.2472279E7|       64578.0|                         0.0|                         2.40726401E8|1.41910257E8|             0.0|         0.0|                    6.1028823E7|                                      0.0|                                  0.0|                   2.7194137E7|                                     0.0|                                 0.0|                                              0.0|                               0.0|                               7.4389957E7|                                        0.0|                                        534320.0|                    0.0|                        0.0|                           0.0|            0.0|                3.3937318E7|           0.0|                    0.0|                                            0.0|                                  0.0|                           0.0|         2051146|                             0|            1|1598.24|             0.61|               2.31|                4.26|            0.61|\n",
      "|  8|2000|january|   ES|south_east|3.1950799E7|       0.0|  3598736.0|      20408.0|  1503039.0|        2.684043E7|  4036463.0|            1620843.0|              2542.0|     2.9105465E7|                 9380778.0|            1.0515327E7|                  4717282.0|            1703727.0|                491261.0|     1563052.0|                         0.0|                              28681.0| 4.9157907E7|             0.0|         0.0|                    1.3289266E7|                                      0.0|                                  0.0|                   1.2890143E7|                                     0.0|                                 0.0|                                              0.0|                               0.0|                                 6038251.0|                                        0.0|                                       2164901.0|                    0.0|                        0.0|                           0.0|            0.0|                   382985.0|           0.0|                    0.0|                                            0.0|                                  0.0|                           0.0|         3097497|                             0|            1|1598.24|             0.61|               2.31|                4.26|            0.61|\n",
      "|  9|2000|january|   GO|   midwest|  3747911.0|       0.0|  3236092.0|    5064141.0|  1091185.0|          986314.0|  2654994.0|            1401385.0|             45754.0|     1.8823998E7|               1.3094463E7|              6275215.0|                   132749.0|            1043647.0|                638840.0|     2269467.0|                         0.0|                            3912150.0| 4.7986002E7|             0.0|         0.0|                     1.356919E7|                                      0.0|                                  0.0|                     8180079.0|                                     0.0|                                 0.0|                                              0.0|                               0.0|                                 7394364.0|                                        0.0|                                        658643.0|                    0.0|                        0.0|                           0.0|            0.0|                   403579.0|           0.0|                    0.0|                                            0.0|                                  0.0|                           0.0|         5004196|                             0|            1|1598.24|             0.61|               2.31|                4.26|            0.61|\n",
      "| 10|2000|january|   MA|north_east|  1714749.0|      69.0|  1124738.0|    4061569.0|        0.0|          206691.0|   484436.0|             479170.0|              4832.0|       3251185.0|                 4149532.0|               781569.0|                     1130.0|             289120.0|                 86071.0|      593391.0|                         0.0|                             612313.0|   9654439.0|             0.0|         0.0|                      5104547.0|                                      0.0|                                  0.0|                     2283622.0|                                     0.0|                                 0.0|                                              0.0|                               0.0|                                 2966912.0|                                        0.0|                                        120868.0|                    0.0|                        0.0|                           0.0|            0.0|                   121337.0|           0.0|                    0.0|                                            0.0|                                  0.0|                           0.0|         5657553|                             0|            1|1598.24|             0.61|               2.31|                4.26|            0.61|\n",
      "| 11|2000|january|   MG|south_east|3.5549181E7|      57.0|1.5511142E7|  1.2111623E7|2.9305691E7|       1.5049305E7|3.8667924E7|          1.1038328E7|           3416372.0|     8.3378349E7|               7.3410958E7|            7.7963069E7|                1.1600682E7|          1.5573355E7|               3835234.0|     5262680.0|                         0.0|                          1.8475116E7|1.73737137E8|             0.0|         0.0|                    4.4074747E7|                                      0.0|                                  0.0|                   4.1904953E7|                                     0.0|                                 0.0|                                              0.0|                               0.0|                               3.2234994E7|                                        0.0|                                       1880050.0|                    0.0|                        0.0|                           0.0|            0.0|                  1190058.0|           0.0|                    0.0|                                            0.0|                                  0.0|                           0.0|        17905135|                             0|            1|1598.24|             0.61|               2.31|                4.26|            0.61|\n",
      "| 12|2000|january|   MS|   midwest|   437668.0|       0.0|   899850.0|     268111.0|        0.0|          365983.0|   626188.0|            1926537.0|              7972.0|       3983857.0|                 4331201.0|               797218.0|                    26225.0|             194378.0|                 52490.0|     1376859.0|                         0.0|                             210638.0| 1.3141747E7|             0.0|         0.0|                      3865681.0|                                      0.0|                                  0.0|                     2249894.0|                                     0.0|                                 0.0|                                              0.0|                               0.0|                                 4298541.0|                                        0.0|                                        136823.0|                    0.0|                        0.0|                           0.0|            0.0|                   227936.0|           0.0|                    0.0|                                            0.0|                                  0.0|                           0.0|         2078070|                             0|            1|1598.24|             0.61|               2.31|                4.26|            0.61|\n",
      "| 13|2000|january|   MT|   midwest|   302002.0|       0.0|  1837228.0|    2734966.0|        0.0|           98807.0|   322126.0|             537577.0|              5356.0|       5998492.0|                 6702247.0|               506327.0|                   287788.0|             518377.0|                122986.0|     5965591.0|                         0.0|                             622603.0| 1.4454666E7|             0.0|         0.0|                      5290254.0|                                      0.0|                                  0.0|                     3544619.0|                                     0.0|                                 0.0|                                              0.0|                               0.0|                                 4516488.0|                                        0.0|                                        255856.0|                    0.0|                        0.0|                           0.0|            0.0|                   286198.0|           0.0|                    0.0|                                            0.0|                                  0.0|                           0.0|         2505245|                             0|            1|1598.24|             0.61|               2.31|                4.26|            0.61|\n",
      "| 14|2000|january|   PA|     north|  1321715.0|       0.0|  2506107.0|    1255572.0|        0.0|          771308.0|   842141.0|             885476.0|           1687010.0|     1.0397922E7|                 9891932.0|              1452409.0|                   271488.0|             689009.0|                293485.0|      892163.0|                         0.0|                            2996773.0| 1.7597074E7|             0.0|         0.0|                      5839339.0|                                      0.0|                                  0.0|                     5853614.0|                                     0.0|                                 0.0|                                              0.0|                               0.0|                                 9415007.0|                                        0.0|                                        314129.0|                    0.0|                        0.0|                           0.0|            0.0|                   158348.0|           0.0|                    0.0|                                            0.0|                                  0.0|                           0.0|         6195965|                             0|            1|1598.24|             0.61|               2.31|                4.26|            0.61|\n",
      "| 15|2000|january|   PB|north_east|  1351422.0|       0.0|  1971817.0|    5556557.0|        0.0|          763383.0|  1729472.0|             531092.0|              6819.0|       8455014.0|                 9164933.0|              1315192.0|                   215491.0|             193623.0|                113133.0|       38801.0|                         0.0|                             186368.0| 1.1047735E7|             0.0|         0.0|                      3084360.0|                                      0.0|                                  0.0|                     2936019.0|                                     0.0|                                 0.0|                                              0.0|                               0.0|                               1.0933455E7|                                        0.0|                                        194863.0|                    0.0|                        0.0|                           0.0|            0.0|                4.9780562E7|           0.0|                    0.0|                                            0.0|                                  0.0|                           0.0|         3444794|                             0|            1|1598.24|             0.61|               2.31|                4.26|            0.61|\n",
      "| 16|2000|january|   PE|north_east|  6268803.0|      13.0|  6167644.0|    5650794.0|        0.0|         2688235.0|  8230496.0|            1679485.0|            245392.0|     1.5783042E7|               2.6054337E7|            3.8164839E7|                   983356.0|            2266139.0|                519577.0|     7442780.0|                         0.0|                            2893853.0| 5.1098148E7|             0.0|         0.0|                    1.4322361E7|                                      0.0|                                  0.0|                     8608550.0|                                     0.0|                                 0.0|                                              0.0|                               0.0|                               1.5511663E7|                                        0.0|                                        796051.0|                    0.0|                        0.0|                           0.0|            0.0|                   312474.0|           0.0|                    0.0|                                            0.0|                                  0.0|                           0.0|         7929153|                             0|            1|1598.24|             0.61|               2.31|                4.26|            0.61|\n",
      "| 17|2000|january|   PI|north_east|   382374.0|       0.0|  1001688.0|    2261830.0|        0.0|           88220.0|   261477.0|             291999.0|             16605.0|       4285628.0|                 3839267.0|              1119727.0|                    58819.0|             165302.0|                 30629.0|      469071.0|                         0.0|                             182915.0|   8970699.0|             0.0|         0.0|                      3232042.0|                                      0.0|                                  0.0|                     2280136.0|                                     0.0|                                 0.0|                                              0.0|                               0.0|                                 3823880.0|                                        0.0|                                         99030.0|                    0.0|                        0.0|                           0.0|            0.0|                    73288.0|           0.0|                    0.0|                                            0.0|                                  0.0|                           0.0|         2843427|                             0|            1|1598.24|             0.61|               2.31|                4.26|            0.61|\n",
      "| 18|2000|january|   PR|     south|4.5984119E7|       0.0|1.0114872E7|    5045577.0|1.2768408E7|       2.3702615E7|2.6596165E7|            5748682.0|           3925211.0|     6.0829302E7|                3.987565E7|            5.4801093E7|                  5692244.0|            3876963.0|               9880454.0|     1398281.0|                         0.0|                          7.3908984E7|1.34479291E8|             0.0|         0.0|                    2.9738452E7|                                      0.0|                                  0.0|                   2.6556999E7|                                     0.0|                                 0.0|                                              0.0|                               0.0|                               1.0729415E7|                                        0.0|                                       1127493.0|                    0.0|                        0.0|                           0.0|            0.0|                   881395.0|           0.0|                    0.0|                                            0.0|                                  0.0|                           0.0|         9564643|                             0|            1|1598.24|             0.61|               2.31|                4.26|            0.61|\n",
      "| 19|2000|january|   RJ|south_east|5.4679975E7|     110.0|2.4542326E7|  3.0839175E7|     4605.0|       2.8145513E7|4.7564082E7|          3.6256377E7|         1.9404254E7|    1.81047892E8|              2.47291061E8|           2.90260344E8|                 5.812162E7|                  0.0|             1.2710303E7|      164156.0|                         0.0|                          3.5680049E7|8.73100045E8|             0.0|         0.0|                   2.00959432E8|                                      0.0|                                  0.0|                   7.3286433E7|                                     0.0|                                 0.0|                                              0.0|                               0.0|                               7.0462373E7|                                        0.0|                                       4118315.0|                    0.0|                        0.0|                           0.0|            0.0|                1.2538119E7|           0.0|                    0.0|                                            0.0|                                  0.0|                           0.0|        14392106|                             0|            1|1598.24|             0.61|               2.31|                4.26|            0.61|\n",
      "| 20|2000|january|   RN|north_east|   997074.0|       0.0|  1849649.0|    1973085.0|        0.0|          586673.0|   150429.0|             493904.0|              4783.0|       3791527.0|                 9790539.0|              3138513.0|                   201215.0|             452018.0|                 11143.0|      232929.0|                         0.0|                              65459.0| 1.3165671E7|             0.0|         0.0|                      2998136.0|                                      0.0|                                  0.0|                     2869106.0|                                     0.0|                                 0.0|                                              0.0|                               0.0|                                 7668904.0|                                        0.0|                                        176400.0|                    0.0|                        0.0|                           0.0|            0.0|                    41888.0|           0.0|                    0.0|                                            0.0|                                  0.0|                           0.0|         2777509|                             0|            1|1598.24|             0.61|               2.31|                4.26|            0.61|\n",
      "+---+----+-------+-----+----------+-----------+----------+-----------+-------------+-----------+------------------+-----------+---------------------+--------------------+----------------+--------------------------+-----------------------+---------------------------+---------------------+------------------------+--------------+----------------------------+-------------------------------------+------------+----------------+------------+-------------------------------+-----------------------------------------+-------------------------------------+------------------------------+----------------------------------------+------------------------------------+-------------------------------------------------+----------------------------------+------------------------------------------+-------------------------------------------+------------------------------------------------+-----------------------+---------------------------+------------------------------+---------------+---------------------------+--------------+-----------------------+-----------------------------------------------+-------------------------------------+------------------------------+----------------+------------------------------+-------------+-------+-----------------+-------------------+--------------------+----------------+\n",
      "only showing top 20 rows\n",
      "\n"
     ]
    }
   ],
   "source": [
    "collection_population_state_final_df.show()"
   ]
  },
  {
   "cell_type": "markdown",
   "metadata": {},
   "source": [
    "# 5 - Loading"
   ]
  },
  {
   "cell_type": "markdown",
   "metadata": {},
   "source": [
    "## 5.1 - Creating MySQL database"
   ]
  },
  {
   "cell_type": "code",
   "execution_count": 52,
   "metadata": {},
   "outputs": [],
   "source": [
    "from database.create_database import DatabaseConnector\n",
    "\n",
    "host = os.getenv('DB_HOST', 'localhost')\n",
    "user = os.getenv('DB_USER', 'root')\n",
    "password = os.getenv('DB_PASSWORD', '')\n",
    "\n",
    "db_connector = DatabaseConnector(host=host, user=user, password=password)"
   ]
  },
  {
   "cell_type": "code",
   "execution_count": 53,
   "metadata": {},
   "outputs": [
    {
     "name": "stderr",
     "output_type": "stream",
     "text": [
      "2024-08-31 21:39:55,035 - INFO - Connected to MySQL server\n",
      "2024-08-31 21:39:55,038 - INFO - Database 'revenue_by_state' created or already exists\n",
      "2024-08-31 21:39:55,040 - INFO - MySQL connection is closed\n"
     ]
    }
   ],
   "source": [
    "try:\n",
    "    db_connector.get_connection()\n",
    "    db_connector.create_database(\"revenue_by_state\")\n",
    "except Exception as e:\n",
    "    print(f\"An error occurred: {e}\")\n",
    "finally:\n",
    "    db_connector.close_connection()"
   ]
  },
  {
   "cell_type": "markdown",
   "metadata": {},
   "source": [
    "## 5.2 - Defining url and properties"
   ]
  },
  {
   "cell_type": "code",
   "execution_count": 54,
   "metadata": {},
   "outputs": [],
   "source": [
    "jdbc_url, jdbc_properties = db_connector.get_jdbc_url_and_properties()"
   ]
  },
  {
   "cell_type": "markdown",
   "metadata": {},
   "source": [
    "## 5.3 - Writing on MySQL"
   ]
  },
  {
   "cell_type": "code",
   "execution_count": 57,
   "metadata": {},
   "outputs": [
    {
     "name": "stderr",
     "output_type": "stream",
     "text": [
      "2024-08-31 21:41:01,905 - INFO - Loaded with success\n"
     ]
    }
   ],
   "source": [
    "table_name: str = \"collection_state\"\n",
    "mode: str = \"overwrite\"\n",
    "\n",
    "try:\n",
    "    collection_population_state_final_df.write.jdbc(\n",
    "        url=jdbc_url,\n",
    "        table=table_name,\n",
    "        mode=mode,\n",
    "        properties=jdbc_properties\n",
    "        )\n",
    "    etl_logger.info(\"Loaded with success\")\n",
    "except Exception as e:\n",
    "    etl_logger.error(f\"Error while loading: {e}\")"
   ]
  }
 ],
 "metadata": {
  "kernelspec": {
   "display_name": "Python 3",
   "language": "python",
   "name": "python3"
  },
  "language_info": {
   "codemirror_mode": {
    "name": "ipython",
    "version": 3
   },
   "file_extension": ".py",
   "mimetype": "text/x-python",
   "name": "python",
   "nbconvert_exporter": "python",
   "pygments_lexer": "ipython3",
   "version": "3.10.11"
  }
 },
 "nbformat": 4,
 "nbformat_minor": 2
}
