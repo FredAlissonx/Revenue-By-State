{
 "cells": [
  {
   "cell_type": "markdown",
   "metadata": {},
   "source": [
    "# 1 - Importing libraries"
   ]
  },
  {
   "cell_type": "code",
   "execution_count": 109,
   "metadata": {},
   "outputs": [],
   "source": [
    "from pyspark.sql import SparkSession, DataFrame\n",
    "from pyspark.sql.types import *\n",
    "from pyspark.sql.window import Window\n",
    "from pyspark.sql import functions as F\n",
    "from pyspark.sql.functions import *\n",
    "import numpy as np\n",
    "import basedosdados as bd\n",
    "import os"
   ]
  },
  {
   "cell_type": "markdown",
   "metadata": {},
   "source": [
    "# 2 - Initializing Spark Session"
   ]
  },
  {
   "cell_type": "code",
   "execution_count": 110,
   "metadata": {},
   "outputs": [],
   "source": [
    "spark = SparkSession.builder \\\n",
    "    .appName(\"Revenue By State ETL\") \\\n",
    "    .config(\"spark.executor.memory\", \"4g\") \\\n",
    "    .config(\"spark.executor.cores\", \"2\") \\\n",
    "    .config(\"spark.driver.memory\", \"4g\") \\\n",
    "    .config(\"spark.sql.shuffle.partitions\", \"200\") \\\n",
    "    .config(\"spark.default.parallelism\", \"100\") \\\n",
    "    .getOrCreate()"
   ]
  },
  {
   "cell_type": "markdown",
   "metadata": {},
   "source": [
    "# 3 - Extracting"
   ]
  },
  {
   "cell_type": "markdown",
   "metadata": {},
   "source": [
    "## 3.1 - Scraping file"
   ]
  },
  {
   "cell_type": "code",
   "execution_count": null,
   "metadata": {},
   "outputs": [],
   "source": [
    "from script.arrecadacao_estado_scrap_file import FileHandlerArrecadacaoEstado\n",
    "scrap = FileHandlerArrecadacaoEstado(\"C:\\RevenueByState\\data\")\n",
    "\n",
    "paths = os.listdir(\"C:\\RevenueByState\")\n",
    "name_path = scrap.download_dir[scrap.download_dir.rfind('\\\\') + 1:]\n",
    "\n",
    "if name_path not in paths:\n",
    "    scrap.download_file()\n",
    "elif \"arrecadacao-estado.csv\" not in os.listdir(scrap.download_dir):\n",
    "    scrap.download_file()\n",
    "else:\n",
    "    print(\"Already exists!\")"
   ]
  },
  {
   "cell_type": "markdown",
   "metadata": {},
   "source": [
    "## 3.2 - Getting another resources (from https://basedosdados.org/)"
   ]
  },
  {
   "cell_type": "code",
   "execution_count": 111,
   "metadata": {},
   "outputs": [
    {
     "name": "stderr",
     "output_type": "stream",
     "text": [
      "Downloading: 100%|██████████| 837/837 [00:00<00:00, 1494.65rows/s]\n"
     ]
    }
   ],
   "source": [
    "population_states_df = bd.read_table(\n",
    "dataset_id='br_ibge_populacao',\n",
    "table_id='uf',\n",
    "billing_project_id=\"revenue-etl\"\n",
    ")"
   ]
  },
  {
   "cell_type": "code",
   "execution_count": 112,
   "metadata": {},
   "outputs": [
    {
     "name": "stdout",
     "output_type": "stream",
     "text": [
      "    sigla_uf   ano  populacao  populacao_economicamente_ativa\n",
      "0         AC  1991     417102                            <NA>\n",
      "1         AL  1991    2512658                            <NA>\n",
      "2         AM  1991    2102766                            <NA>\n",
      "3         AP  1991     289035                            <NA>\n",
      "4         BA  1991   11867336                            <NA>\n",
      "..       ...   ...        ...                             ...\n",
      "832       RS  2021   11466630                            9533\n",
      "833       SC  2021    7338473                            5947\n",
      "834       SE  2021    2338474                            1873\n",
      "835       SP  2021   46649132                           38573\n",
      "836       TO  2021    1607363                            1258\n",
      "\n",
      "[837 rows x 4 columns]\n"
     ]
    }
   ],
   "source": [
    "print(population_states_df)"
   ]
  },
  {
   "cell_type": "code",
   "execution_count": 113,
   "metadata": {},
   "outputs": [
    {
     "name": "stderr",
     "output_type": "stream",
     "text": [
      "Downloading: 100%|██████████| 538/538 [00:00<00:00, 1577.70rows/s]\n"
     ]
    }
   ],
   "source": [
    "inflation_df = bd.read_table(dataset_id='br_ibge_inpc',\n",
    "table_id='mes_brasil',\n",
    "billing_project_id=\"revenue-etl\"\n",
    ") "
   ]
  },
  {
   "cell_type": "code",
   "execution_count": 114,
   "metadata": {},
   "outputs": [
    {
     "name": "stdout",
     "output_type": "stream",
     "text": [
      "      ano  mes        indice  variacao_mensal  variacao_trimestral  \\\n",
      "0    1979    3  5.576500e-09              NaN                  NaN   \n",
      "1    1979    4  5.768900e-09             3.45                  NaN   \n",
      "2    1979    5  5.870400e-09             1.76                  NaN   \n",
      "3    1979    6  6.046500e-09             3.00                 8.43   \n",
      "4    1979    7  6.370500e-09             5.36                10.43   \n",
      "..    ...  ...           ...              ...                  ...   \n",
      "533  2023    7  6.880170e+03            -0.09                 0.17   \n",
      "534  2023    9  6.901510e+03             0.11                 0.22   \n",
      "535  2023   10  6.909790e+03             0.12                 0.43   \n",
      "536  2023   11  6.916700e+03             0.10                 0.33   \n",
      "537  2023   11  6.916700e+03             0.10                 0.33   \n",
      "\n",
      "     variacao_semestral  variacao_anual  variacao_doze_meses  \n",
      "0                   NaN             NaN                  NaN  \n",
      "1                   NaN             NaN                  NaN  \n",
      "2                   NaN             NaN                  NaN  \n",
      "3                   NaN             NaN                  NaN  \n",
      "4                   NaN             NaN                  NaN  \n",
      "..                  ...             ...                  ...  \n",
      "533                2.13            2.59                 3.53  \n",
      "534                1.01            2.91                 4.51  \n",
      "535                0.60            3.04                 4.14  \n",
      "536                0.34            3.14                 3.85  \n",
      "537                0.34            3.14                 3.85  \n",
      "\n",
      "[538 rows x 8 columns]\n"
     ]
    }
   ],
   "source": [
    "print(inflation_df)"
   ]
  },
  {
   "cell_type": "markdown",
   "metadata": {},
   "source": [
    "## 3.3 - Reading resources"
   ]
  },
  {
   "cell_type": "markdown",
   "metadata": {},
   "source": [
    "### 3.3.1 - Listing file paths"
   ]
  },
  {
   "cell_type": "code",
   "execution_count": 115,
   "metadata": {},
   "outputs": [],
   "source": [
    "data = {\n",
    "    \"arrecadacao_estado\": \"C:\\RevenueByState\\data\\\\arrecadacao-estado.csv\"\n",
    "}"
   ]
  },
  {
   "cell_type": "markdown",
   "metadata": {},
   "source": [
    "### 3.3.2 - Defining Schemas"
   ]
  },
  {
   "cell_type": "code",
   "execution_count": 117,
   "metadata": {},
   "outputs": [],
   "source": [
    "# Defining the schema (translating columns from Portuguese to English)\n",
    "collection_state_schema = StructType(\n",
    "    [\n",
    "        StructField(name=\"year\", dataType=IntegerType(), nullable=True),\n",
    "        StructField(name=\"month\", dataType=StringType(), nullable=True),\n",
    "        StructField(name=\"state\", dataType=StringType(), nullable=True),\n",
    "        StructField(name=\"import_tax\", dataType=DoubleType(), nullable=True),\n",
    "        StructField(name=\"export_tax\", dataType=DoubleType(), nullable=True),\n",
    "        StructField(name=\"ipi_tobacco\", dataType=DoubleType(), nullable=True),\n",
    "        StructField(name=\"ipi_beverages\", dataType=DoubleType(), nullable=True),\n",
    "        StructField(name=\"ipi_automobiles\", dataType=DoubleType(), nullable=True),\n",
    "        StructField(name=\"ipi_linked_imports\", dataType=DoubleType(), nullable=True),\n",
    "        StructField(name=\"ipi_others\", dataType=DoubleType(), nullable=True),\n",
    "        StructField(name=\"individual_income_tax\", dataType=DoubleType(), nullable=True),\n",
    "        StructField(name=\"corporate_income_tax_financial_entities\", dataType=DoubleType(), nullable=True),\n",
    "        StructField(name=\"corporate_income_tax_other_companies\", dataType=DoubleType(), nullable=True),\n",
    "        StructField(name=\"withholding_income_tax_employment_income\", dataType=DoubleType(), nullable=True),\n",
    "        StructField(name=\"withholding_income_tax_capital_income\", dataType=DoubleType(), nullable=True),\n",
    "        StructField(name=\"withholding_income_tax_overseas_remittances\", dataType=DoubleType(), nullable=True),\n",
    "        StructField(name=\"withholding_income_tax_other_income\", dataType=DoubleType(), nullable=True),\n",
    "        StructField(name=\"tax_on_financial_operations\", dataType=DoubleType(), nullable=True),\n",
    "        StructField(name=\"rural_land_tax\", dataType=DoubleType(), nullable=True),\n",
    "        StructField(name=\"provisional_tax_on_financial_transactions\", dataType=DoubleType(), nullable=True),\n",
    "        StructField(name=\"provisional_contribution_on_financial_transactions\", dataType=DoubleType(), nullable=True),\n",
    "        StructField(name=\"cofins\", dataType=DoubleType(), nullable=True),\n",
    "        StructField(name=\"cofins_financial_institutions\", dataType=DoubleType(), nullable=True),\n",
    "        StructField(name=\"cofins_other_sectors\", dataType=DoubleType(), nullable=True),\n",
    "        StructField(name=\"contribution_for_social_integration_program\", dataType=DoubleType(), nullable=True),\n",
    "        StructField(name=\"contribution_for_social_integration_program_financial_institutions\", dataType=DoubleType(), nullable=True),\n",
    "        StructField(name=\"contribution_for_social_integration_program_other_sectors\", dataType=DoubleType(), nullable=True),\n",
    "        StructField(name=\"social_contribution_on_net_profit\", dataType=DoubleType(), nullable=True),\n",
    "        StructField(name=\"social_contribution_on_net_profit_financial_institutions\", dataType=DoubleType(), nullable=True),\n",
    "        StructField(name=\"social_contribution_on_net_profit_other_sectors\", dataType=DoubleType(), nullable=True),\n",
    "        StructField(name=\"contribution_for_intervention_in_economic_domain_fuels_non_deductible\", dataType=DoubleType(), nullable=True),\n",
    "        StructField(name=\"contribution_for_intervention_in_economic_domain_fuels\", dataType=DoubleType(), nullable=True),\n",
    "        StructField(name=\"contribution_to_social_security_plan_public_servants\", dataType=DoubleType(), nullable=True),\n",
    "        StructField(name=\"contributions_to_social_security_plan_public_servants\", dataType=DoubleType(), nullable=True),\n",
    "        StructField(name=\"contributions_to_special_fund_development_inspection_activities\", dataType=DoubleType(), nullable=True),\n",
    "        StructField(name=\"fiscal_recovery_program\", dataType=DoubleType(), nullable=True),\n",
    "        StructField(name=\"special_installment_payment_program\", dataType=DoubleType(), nullable=True),\n",
    "        StructField(name=\"withholding_tax_law_10833_article_30\", dataType=DoubleType(), nullable=True),\n",
    "        StructField(name=\"unified_payment\", dataType=DoubleType(), nullable=True),\n",
    "        StructField(name=\"other_administered_revenues\", dataType=DoubleType(), nullable=True),\n",
    "        StructField(name=\"other_revenues\", dataType=DoubleType(), nullable=True),\n",
    "        StructField(name=\"social_security_revenue\", dataType=DoubleType(), nullable=True),\n",
    "        StructField(name=\"social_security_revenue_individual_contributors\", dataType=DoubleType(), nullable=True),\n",
    "        StructField(name=\"social_security_revenue_other_sources\", dataType=DoubleType(), nullable=True),\n",
    "        StructField(name=\"administered_by_other_agencies\", dataType=DoubleType(), nullable=True)\n",
    "    ]\n",
    ")"
   ]
  },
  {
   "cell_type": "code",
   "execution_count": 118,
   "metadata": {},
   "outputs": [],
   "source": [
    "population_states_schema = StructType([\n",
    "    StructField(name=\"state_uf\", dataType=StringType(), nullable=True),\n",
    "    StructField(name=\"year\", dataType=IntegerType(), nullable=True),\n",
    "    StructField(name=\"population_state\", dataType=IntegerType(), nullable=True),\n",
    "    StructField(name=\"economically_active_population\", dataType=IntegerType(), nullable=True)\n",
    "])"
   ]
  },
  {
   "cell_type": "code",
   "execution_count": 119,
   "metadata": {},
   "outputs": [],
   "source": [
    "inflation_schema = StructType([\n",
    "    StructField(\"year\", IntegerType(), nullable=True),\n",
    "    StructField(\"month\", IntegerType(), nullable=True),\n",
    "    StructField(\"index\", FloatType(), nullable=True),\n",
    "    StructField(\"monthly_variation\", FloatType(), nullable=True),\n",
    "    StructField(\"quarterly_variation\", FloatType(), nullable=True),\n",
    "    StructField(\"semiannual_variation\", FloatType(), nullable=True),\n",
    "    StructField(\"annual_variation\", FloatType(), nullable=True),\n",
    "    StructField(\"twelve_months_variation\", FloatType(), nullable=True)\n",
    "])"
   ]
  },
  {
   "cell_type": "markdown",
   "metadata": {},
   "source": [
    "### 3.3.3 - Reading all files"
   ]
  },
  {
   "cell_type": "code",
   "execution_count": 120,
   "metadata": {},
   "outputs": [],
   "source": [
    "try:\n",
    "    collection_state_df = spark.read \\\n",
    "    .format(\"csv\") \\\n",
    "    .option(\"header\", \"true\") \\\n",
    "    .option(\"printSchema\", \"true\") \\\n",
    "    .option(\"delimiter\", \";\") \\\n",
    "    .schema(collection_state_schema) \\\n",
    "    .load(data.get(\"arrecadacao_estado\"))\n",
    "except Exception as e:\n",
    "    print(f\"Error occurred while loading DataFrame: {e}\")"
   ]
  },
  {
   "cell_type": "code",
   "execution_count": 121,
   "metadata": {},
   "outputs": [],
   "source": [
    "# changing np.nan to None (for Spark) \n",
    "population_states_df = population_states_df.replace([np.nan], [None])\n",
    "inflation_df = inflation_df.replace([np.nan], [None])"
   ]
  },
  {
   "cell_type": "code",
   "execution_count": 122,
   "metadata": {},
   "outputs": [],
   "source": [
    "try:\n",
    "    population_states_df = spark.createDataFrame(population_states_df, schema=population_states_schema)\n",
    "    inflation_df = spark.createDataFrame(inflation_df, schema=inflation_schema)\n",
    "except Exception as e:\n",
    "    print(f\"Error occurred while loading DataFrame: {e}\")"
   ]
  },
  {
   "cell_type": "code",
   "execution_count": null,
   "metadata": {},
   "outputs": [],
   "source": [
    "collection_state_df.printSchema()\n",
    "population_states_df.printSchema()\n",
    "inflation_df.printSchema()"
   ]
  },
  {
   "cell_type": "code",
   "execution_count": null,
   "metadata": {},
   "outputs": [],
   "source": [
    "collection_state_df.show()"
   ]
  },
  {
   "cell_type": "code",
   "execution_count": 123,
   "metadata": {},
   "outputs": [],
   "source": [
    "collection_state_df = collection_state_df.cache()\n",
    "population_states_df = population_states_df.cache()\n",
    "inflation_df = inflation_df.cache()"
   ]
  },
  {
   "cell_type": "markdown",
   "metadata": {},
   "source": [
    "# 4 - Transformation"
   ]
  },
  {
   "cell_type": "markdown",
   "metadata": {},
   "source": [
    "## 4.1 - Validate and Cleanse Data"
   ]
  },
  {
   "cell_type": "markdown",
   "metadata": {},
   "source": [
    "### 4.1.1 - Joining tables (population_states and collection_state)"
   ]
  },
  {
   "cell_type": "code",
   "execution_count": 124,
   "metadata": {},
   "outputs": [],
   "source": [
    "# alias for the tables\n",
    "collection_state_df = collection_state_df.alias(\"cs\")\n",
    "population_states_df = population_states_df.alias(\"ps\")"
   ]
  },
  {
   "cell_type": "code",
   "execution_count": 125,
   "metadata": {},
   "outputs": [],
   "source": [
    "# joinin and selecting columns\n",
    "collection_state_df = collection_state_df.join(\n",
    "    population_states_df,\n",
    "    (population_states_df.year == collection_state_df.year)\n",
    "    &\n",
    "    (collection_state_df.state == population_states_df.state_uf),\n",
    "    \"left\"\n",
    ").select(\n",
    "    \"cs.*\",\n",
    "    \"ps.population_state\",\n",
    "    \"ps.economically_active_population\"\n",
    ")"
   ]
  },
  {
   "cell_type": "markdown",
   "metadata": {},
   "source": [
    "### 4.1.2 - Solving ASCII problem"
   ]
  },
  {
   "cell_type": "code",
   "execution_count": 127,
   "metadata": {},
   "outputs": [],
   "source": [
    "# we have a non ASCII character (ç), so we need to translate\n",
    "special_char = \"�\"\n",
    "\n",
    "correct_char = \"c\"\n",
    "\n",
    "collection_state_df = collection_state_df.withColumn(\"month\", translate(col(\"month\"), special_char, correct_char))"
   ]
  },
  {
   "cell_type": "code",
   "execution_count": 128,
   "metadata": {},
   "outputs": [],
   "source": [
    "# changing month names from Portuguese to English\n",
    "collection_state_df = collection_state_df.withColumn(\n",
    "    \"month\",\n",
    "    when(col(\"month\") == \"Janeiro\", \"january\")\n",
    "    .when(col(\"month\") == \"Fevereiro\", \"february\")\n",
    "    .when(col(\"month\") == \"Marco\", \"march\")\n",
    "    .when(col(\"month\") == \"Abril\", \"april\")\n",
    "    .when(col(\"month\") == \"Maio\", \"may\")\n",
    "    .when(col(\"month\") == \"Junho\", \"june\")\n",
    "    .when(col(\"month\") == \"Julho\", \"july\")\n",
    "    .when(col(\"month\") == \"Agosto\", \"august\")\n",
    "    .when(col(\"month\") == \"Setembro\", \"september\")\n",
    "    .when(col(\"month\") == \"Outubro\", \"october\")\n",
    "    .when(col(\"month\") == \"Novembro\", \"november\")\n",
    "    .when(col(\"month\") == \"Dezembro\", \"december\")\n",
    "    .otherwise(col(\"month\"))\n",
    ")"
   ]
  },
  {
   "cell_type": "code",
   "execution_count": null,
   "metadata": {},
   "outputs": [],
   "source": [
    "collection_state_df.show()"
   ]
  },
  {
   "cell_type": "markdown",
   "metadata": {},
   "source": [
    "### 4.1.3 - Checking count grouped by month"
   ]
  },
  {
   "cell_type": "code",
   "execution_count": 129,
   "metadata": {},
   "outputs": [
    {
     "name": "stdout",
     "output_type": "stream",
     "text": [
      "+---------+-----+\n",
      "|    month|count|\n",
      "+---------+-----+\n",
      "|  october|  648|\n",
      "|      may|  648|\n",
      "|september|  648|\n",
      "|   august|  648|\n",
      "|    april|  675|\n",
      "| november|  648|\n",
      "|     july|  648|\n",
      "|  january|  675|\n",
      "| february|  675|\n",
      "|    march|  675|\n",
      "|     june|  648|\n",
      "| december|  648|\n",
      "+---------+-----+\n",
      "\n"
     ]
    }
   ],
   "source": [
    "months_counts_names = collection_state_df.groupBy(\"month\").count()\n",
    "months_counts_names.show()"
   ]
  },
  {
   "cell_type": "markdown",
   "metadata": {},
   "source": [
    "### 4.1.4 - Adding month in numeric representation"
   ]
  },
  {
   "cell_type": "code",
   "execution_count": 130,
   "metadata": {},
   "outputs": [],
   "source": [
    "months = {\n",
    "    \"january\": 1,\n",
    "    \"february\": 2,\n",
    "    \"march\": 3,\n",
    "    \"april\": 4,\n",
    "    \"may\": 5,\n",
    "    \"june\": 6,\n",
    "    \"july\": 7,\n",
    "    \"august\": 8,\n",
    "    \"september\": 9,\n",
    "    \"october\": 10,\n",
    "    \"november\": 11,\n",
    "    \"december\": 12\n",
    "}"
   ]
  },
  {
   "cell_type": "code",
   "execution_count": 132,
   "metadata": {},
   "outputs": [],
   "source": [
    "collection_state_df = collection_state_df.withColumn(\n",
    "    \"month_numeric\",\n",
    "    when(col(\"month\") == \"january\", lit(months[\"january\"]))\n",
    "    .when(col(\"month\") == \"february\", lit(months[\"february\"]))\n",
    "    .when(col(\"month\") == \"march\", lit(months[\"march\"]))\n",
    "    .when(col(\"month\") == \"april\", lit(months[\"april\"]))\n",
    "    .when(col(\"month\") == \"may\", lit(months[\"may\"]))\n",
    "    .when(col(\"month\") == \"june\", lit(months[\"june\"]))\n",
    "    .when(col(\"month\") == \"july\", lit(months[\"july\"]))\n",
    "    .when(col(\"month\") == \"august\", lit(months[\"august\"]))\n",
    "    .when(col(\"month\") == \"september\", lit(months[\"september\"]))\n",
    "    .when(col(\"month\") == \"october\", lit(months[\"october\"]))\n",
    "    .when(col(\"month\") == \"november\", lit(months[\"november\"]))\n",
    "    .when(col(\"month\") == \"december\", lit(months[\"december\"]))\n",
    "    .otherwise(None)  # Handle any unexpected values\n",
    ")"
   ]
  },
  {
   "cell_type": "markdown",
   "metadata": {},
   "source": [
    "### 4.1.5 - Checking count grouped by month in numeric representation"
   ]
  },
  {
   "cell_type": "code",
   "execution_count": 134,
   "metadata": {},
   "outputs": [
    {
     "name": "stdout",
     "output_type": "stream",
     "text": [
      "+-------------+-----+\n",
      "|month_numeric|count|\n",
      "+-------------+-----+\n",
      "|           12|  648|\n",
      "|            1|  675|\n",
      "|            6|  648|\n",
      "|            3|  675|\n",
      "|            5|  648|\n",
      "|            9|  648|\n",
      "|            4|  675|\n",
      "|            8|  648|\n",
      "|            7|  648|\n",
      "|           10|  648|\n",
      "|           11|  648|\n",
      "|            2|  675|\n",
      "+-------------+-----+\n",
      "\n"
     ]
    }
   ],
   "source": [
    "numeric_month_count = collection_state_df.groupBy(\"month_numeric\").count()\n",
    "numeric_month_count.show()"
   ]
  },
  {
   "cell_type": "markdown",
   "metadata": {},
   "source": [
    "### 4.1.6 - Joining tables (collection_state and inflation_df)"
   ]
  },
  {
   "cell_type": "markdown",
   "metadata": {},
   "source": [
    "#### 4.1.6.1 - Tables alias"
   ]
  },
  {
   "cell_type": "code",
   "execution_count": 135,
   "metadata": {},
   "outputs": [],
   "source": [
    "collection_state_df = collection_state_df.alias(\"cs\")\n",
    "inflation_df = inflation_df.alias(\"inf\")"
   ]
  },
  {
   "cell_type": "markdown",
   "metadata": {},
   "source": [
    "### 4.1.6.1 - Joining both tables with alias"
   ]
  },
  {
   "cell_type": "code",
   "execution_count": 72,
   "metadata": {},
   "outputs": [],
   "source": [
    "collection_state_df = collection_state_df.join(\n",
    "    inflation_df,\n",
    "    (collection_state_df.year == inflation_df.year)\n",
    "    &\n",
    "    (collection_state_df.month_numeric == inflation_df.month),\n",
    "    \"left\"\n",
    ").select(\n",
    "    \"cs.*\",\n",
    "    \"inf.index\",\n",
    "    \"inf.monthly_variation\",\n",
    "    \"inf.quarterly_variation\",\n",
    "    \"inf.semiannual_variation\",\n",
    "    \"inf.annual_variation\"\n",
    ")"
   ]
  },
  {
   "cell_type": "code",
   "execution_count": null,
   "metadata": {},
   "outputs": [],
   "source": [
    "collection_state_df.show()"
   ]
  },
  {
   "cell_type": "markdown",
   "metadata": {},
   "source": [
    "### 4.1.7 - Removing duplicates"
   ]
  },
  {
   "cell_type": "code",
   "execution_count": 136,
   "metadata": {},
   "outputs": [
    {
     "data": {
      "text/plain": [
       "DataFrame[year: int, month: string, state: string, import_tax: double, export_tax: double, ipi_tobacco: double, ipi_beverages: double, ipi_automobiles: double, ipi_linked_imports: double, ipi_others: double, individual_income_tax: double, corporate_income_tax_financial_entities: double, corporate_income_tax_other_companies: double, withholding_income_tax_employment_income: double, withholding_income_tax_capital_income: double, withholding_income_tax_overseas_remittances: double, withholding_income_tax_other_income: double, tax_on_financial_operations: double, rural_land_tax: double, provisional_tax_on_financial_transactions: double, provisional_contribution_on_financial_transactions: double, cofins: double, cofins_financial_institutions: double, cofins_other_sectors: double, contribution_for_social_integration_program: double, contribution_for_social_integration_program_financial_institutions: double, contribution_for_social_integration_program_other_sectors: double, social_contribution_on_net_profit: double, social_contribution_on_net_profit_financial_institutions: double, social_contribution_on_net_profit_other_sectors: double, contribution_for_intervention_in_economic_domain_fuels_non_deductible: double, contribution_for_intervention_in_economic_domain_fuels: double, contribution_to_social_security_plan_public_servants: double, contributions_to_social_security_plan_public_servants: double, contributions_to_special_fund_development_inspection_activities: double, fiscal_recovery_program: double, special_installment_payment_program: double, withholding_tax_law_10833_article_30: double, unified_payment: double, other_administered_revenues: double, other_revenues: double, social_security_revenue: double, social_security_revenue_individual_contributors: double, social_security_revenue_other_sources: double, administered_by_other_agencies: double, population_state: int, economically_active_population: int, month_numeric: int]"
      ]
     },
     "execution_count": 136,
     "metadata": {},
     "output_type": "execute_result"
    }
   ],
   "source": [
    "collection_state_df.dropDuplicates()"
   ]
  },
  {
   "cell_type": "markdown",
   "metadata": {},
   "source": [
    "### 4.1.8 - Handling missing values "
   ]
  },
  {
   "cell_type": "code",
   "execution_count": 137,
   "metadata": {},
   "outputs": [],
   "source": [
    "# string(will be removed), numeric(flag 0)\n",
    "def fill_values_na_with_zero_or_drop(df: DataFrame) -> DataFrame:\n",
    "    for col, dtype in df.dtypes:\n",
    "        if isinstance(df.schema[col].dataType, NumericType):\n",
    "            df = df.fillna(0, subset=[col])\n",
    "        elif isinstance(df.schema[col].dataType, StringType):\n",
    "            df = df.dropna(subset=[col])\n",
    "    return df"
   ]
  },
  {
   "cell_type": "code",
   "execution_count": 138,
   "metadata": {},
   "outputs": [],
   "source": [
    "collection_state_df = fill_values_na_with_zero_or_drop(df = collection_state_df)"
   ]
  },
  {
   "cell_type": "markdown",
   "metadata": {},
   "source": [
    "## 4.2 - Adding some columns"
   ]
  },
  {
   "cell_type": "markdown",
   "metadata": {},
   "source": [
    "### 4.2.1 - Regions in Brazil"
   ]
  },
  {
   "cell_type": "code",
   "execution_count": 139,
   "metadata": {},
   "outputs": [],
   "source": [
    "regions_uf = {\n",
    "    \"north\": (\"AC\", \"AP\", \"AM\", \"PA\", \"RO\", \"RR\", \"TO\"),\n",
    "    \"north_east\": (\"AL\", \"BA\", \"CE\", \"MA\", \"PB\", \"PE\", \"PI\", \"RN\", \"SE\"),\n",
    "    \"midwest\": (\"DF\", \"GO\", \"MT\", \"MS\"),\n",
    "    \"south\": (\"PR\", \"RS\", \"SC\"),\n",
    "    \"south_east\": (\"ES\", \"MG\", \"RJ\", \"SP\")\n",
    "}"
   ]
  },
  {
   "cell_type": "code",
   "execution_count": 140,
   "metadata": {},
   "outputs": [],
   "source": [
    "# function to add column \"region\" based on regions_uf\n",
    "def add_region_column(df: DataFrame, regions_uf: dict) -> DataFrame:\n",
    "    df = df.withColumn(\n",
    "        \"region\",\n",
    "        when(col(\"state\").isin(list(regions_uf[\"north\"])), \"north\")\n",
    "        .when(col(\"state\").isin(list(regions_uf[\"north_east\"])), \"north_east\")\n",
    "        .when(col(\"state\").isin(list(regions_uf[\"midwest\"])), \"midwest\")\n",
    "        .when(col(\"state\").isin(list(regions_uf[\"south\"])), \"south\")\n",
    "        .when(col(\"state\").isin(list(regions_uf[\"south_east\"])), \"south_east\")\n",
    "        .otherwise(\"unknown\")\n",
    "    )\n",
    "    return df"
   ]
  },
  {
   "cell_type": "code",
   "execution_count": 141,
   "metadata": {},
   "outputs": [],
   "source": [
    "collection_state_df = add_region_column(df=collection_state_df, regions_uf=regions_uf)"
   ]
  },
  {
   "cell_type": "markdown",
   "metadata": {},
   "source": [
    "### 4.2.1 - Adding 'id' column"
   ]
  },
  {
   "cell_type": "code",
   "execution_count": 142,
   "metadata": {},
   "outputs": [],
   "source": [
    "windowSpec = Window.orderBy(\"year\")\n",
    "collection_state_df = collection_state_df.withColumn(\"id\", F.row_number().over(windowSpec))\n",
    "\n",
    "# Reordering columns to have 'id' as the first column\n",
    "id_first_columns = ['id'] + [col for col in collection_state_df.columns if col != 'id']\n",
    "collection_state_final_df = collection_state_df.select(id_first_columns)"
   ]
  },
  {
   "cell_type": "code",
   "execution_count": null,
   "metadata": {},
   "outputs": [],
   "source": [
    "collection_state_final_df.show()"
   ]
  }
 ],
 "metadata": {
  "kernelspec": {
   "display_name": "Python 3",
   "language": "python",
   "name": "python3"
  },
  "language_info": {
   "codemirror_mode": {
    "name": "ipython",
    "version": 3
   },
   "file_extension": ".py",
   "mimetype": "text/x-python",
   "name": "python",
   "nbconvert_exporter": "python",
   "pygments_lexer": "ipython3",
   "version": "3.10.11"
  }
 },
 "nbformat": 4,
 "nbformat_minor": 2
}
