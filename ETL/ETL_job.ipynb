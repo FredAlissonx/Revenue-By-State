{
 "cells": [
  {
   "cell_type": "markdown",
   "metadata": {},
   "source": [
    "# 1 - Importing libraries"
   ]
  },
  {
   "cell_type": "code",
   "execution_count": 109,
   "metadata": {},
   "outputs": [],
   "source": [
    "from pyspark.sql import SparkSession, DataFrame\n",
    "from pyspark.sql.types import *\n",
    "from pyspark.sql.window import Window\n",
    "from pyspark.sql import functions as F\n",
    "from pyspark.sql.functions import *\n",
    "import numpy as np\n",
    "import basedosdados as bd\n",
    "import os"
   ]
  },
  {
   "cell_type": "markdown",
   "metadata": {},
   "source": [
    "# 2 - Initializing Spark Session"
   ]
  },
  {
   "cell_type": "code",
   "execution_count": 110,
   "metadata": {},
   "outputs": [],
   "source": [
    "spark = SparkSession.builder \\\n",
    "    .appName(\"Revenue By State ETL\") \\\n",
    "    .config(\"spark.executor.memory\", \"4g\") \\\n",
    "    .config(\"spark.executor.cores\", \"2\") \\\n",
    "    .config(\"spark.driver.memory\", \"4g\") \\\n",
    "    .config(\"spark.sql.shuffle.partitions\", \"200\") \\\n",
    "    .config(\"spark.default.parallelism\", \"100\") \\\n",
    "    .getOrCreate()"
   ]
  },
  {
   "cell_type": "markdown",
   "metadata": {},
   "source": [
    "# 3 - Extracting"
   ]
  },
  {
   "cell_type": "markdown",
   "metadata": {},
   "source": [
    "## 3.1 - Scraping file"
   ]
  },
  {
   "cell_type": "code",
   "execution_count": null,
   "metadata": {},
   "outputs": [],
   "source": [
    "from script.arrecadacao_estado_scrap_file import FileHandlerArrecadacaoEstado\n",
    "scrap = FileHandlerArrecadacaoEstado(\"C:\\RevenueByState\\data\")\n",
    "\n",
    "paths = os.listdir(\"C:\\RevenueByState\")\n",
    "name_path = scrap.download_dir[scrap.download_dir.rfind('\\\\') + 1:]\n",
    "\n",
    "if name_path not in paths:\n",
    "    scrap.download_file()\n",
    "elif \"arrecadacao-estado.csv\" not in os.listdir(scrap.download_dir):\n",
    "    scrap.download_file()\n",
    "else:\n",
    "    print(\"Already exists!\")"
   ]
  },
  {
   "cell_type": "markdown",
   "metadata": {},
   "source": [
    "## 3.2 - Getting another resources (from https://basedosdados.org/)"
   ]
  },
  {
   "cell_type": "code",
   "execution_count": 111,
   "metadata": {},
   "outputs": [
    {
     "name": "stderr",
     "output_type": "stream",
     "text": [
      "Downloading: 100%|██████████| 837/837 [00:00<00:00, 1494.65rows/s]\n"
     ]
    }
   ],
   "source": [
    "population_states_df = bd.read_table(\n",
    "dataset_id='br_ibge_populacao',\n",
    "table_id='uf',\n",
    "billing_project_id=\"revenue-etl\"\n",
    ")"
   ]
  },
  {
   "cell_type": "code",
   "execution_count": 112,
   "metadata": {},
   "outputs": [
    {
     "name": "stdout",
     "output_type": "stream",
     "text": [
      "    sigla_uf   ano  populacao  populacao_economicamente_ativa\n",
      "0         AC  1991     417102                            <NA>\n",
      "1         AL  1991    2512658                            <NA>\n",
      "2         AM  1991    2102766                            <NA>\n",
      "3         AP  1991     289035                            <NA>\n",
      "4         BA  1991   11867336                            <NA>\n",
      "..       ...   ...        ...                             ...\n",
      "832       RS  2021   11466630                            9533\n",
      "833       SC  2021    7338473                            5947\n",
      "834       SE  2021    2338474                            1873\n",
      "835       SP  2021   46649132                           38573\n",
      "836       TO  2021    1607363                            1258\n",
      "\n",
      "[837 rows x 4 columns]\n"
     ]
    }
   ],
   "source": [
    "print(population_states_df)"
   ]
  },
  {
   "cell_type": "code",
   "execution_count": 113,
   "metadata": {},
   "outputs": [
    {
     "name": "stderr",
     "output_type": "stream",
     "text": [
      "Downloading: 100%|██████████| 538/538 [00:00<00:00, 1577.70rows/s]\n"
     ]
    }
   ],
   "source": [
    "inflation_df = bd.read_table(dataset_id='br_ibge_inpc',\n",
    "table_id='mes_brasil',\n",
    "billing_project_id=\"revenue-etl\"\n",
    ") "
   ]
  },
  {
   "cell_type": "code",
   "execution_count": 114,
   "metadata": {},
   "outputs": [
    {
     "name": "stdout",
     "output_type": "stream",
     "text": [
      "      ano  mes        indice  variacao_mensal  variacao_trimestral  \\\n",
      "0    1979    3  5.576500e-09              NaN                  NaN   \n",
      "1    1979    4  5.768900e-09             3.45                  NaN   \n",
      "2    1979    5  5.870400e-09             1.76                  NaN   \n",
      "3    1979    6  6.046500e-09             3.00                 8.43   \n",
      "4    1979    7  6.370500e-09             5.36                10.43   \n",
      "..    ...  ...           ...              ...                  ...   \n",
      "533  2023    7  6.880170e+03            -0.09                 0.17   \n",
      "534  2023    9  6.901510e+03             0.11                 0.22   \n",
      "535  2023   10  6.909790e+03             0.12                 0.43   \n",
      "536  2023   11  6.916700e+03             0.10                 0.33   \n",
      "537  2023   11  6.916700e+03             0.10                 0.33   \n",
      "\n",
      "     variacao_semestral  variacao_anual  variacao_doze_meses  \n",
      "0                   NaN             NaN                  NaN  \n",
      "1                   NaN             NaN                  NaN  \n",
      "2                   NaN             NaN                  NaN  \n",
      "3                   NaN             NaN                  NaN  \n",
      "4                   NaN             NaN                  NaN  \n",
      "..                  ...             ...                  ...  \n",
      "533                2.13            2.59                 3.53  \n",
      "534                1.01            2.91                 4.51  \n",
      "535                0.60            3.04                 4.14  \n",
      "536                0.34            3.14                 3.85  \n",
      "537                0.34            3.14                 3.85  \n",
      "\n",
      "[538 rows x 8 columns]\n"
     ]
    }
   ],
   "source": [
    "print(inflation_df)"
   ]
  },
  {
   "cell_type": "markdown",
   "metadata": {},
   "source": [
    "## 3.3 - Reading resources"
   ]
  },
  {
   "cell_type": "markdown",
   "metadata": {},
   "source": [
    "### 3.3.1 - Listing file paths"
   ]
  },
  {
   "cell_type": "code",
   "execution_count": 115,
   "metadata": {},
   "outputs": [],
   "source": [
    "data = {\n",
    "    \"arrecadacao_estado\": \"C:\\RevenueByState\\data\\\\arrecadacao-estado.csv\"\n",
    "}"
   ]
  },
  {
   "cell_type": "markdown",
   "metadata": {},
   "source": [
    "### 3.3.2 - Defining Schemas"
   ]
  },
  {
   "cell_type": "code",
   "execution_count": 117,
   "metadata": {},
   "outputs": [],
   "source": [
    "# Defining the schema (translating columns from Portuguese to English)\n",
    "collection_state_schema = StructType(\n",
    "    [\n",
    "        StructField(name=\"year\", dataType=IntegerType(), nullable=True),\n",
    "        StructField(name=\"month\", dataType=StringType(), nullable=True),\n",
    "        StructField(name=\"state\", dataType=StringType(), nullable=True),\n",
    "        StructField(name=\"import_tax\", dataType=DoubleType(), nullable=True),\n",
    "        StructField(name=\"export_tax\", dataType=DoubleType(), nullable=True),\n",
    "        StructField(name=\"ipi_tobacco\", dataType=DoubleType(), nullable=True),\n",
    "        StructField(name=\"ipi_beverages\", dataType=DoubleType(), nullable=True),\n",
    "        StructField(name=\"ipi_automobiles\", dataType=DoubleType(), nullable=True),\n",
    "        StructField(name=\"ipi_linked_imports\", dataType=DoubleType(), nullable=True),\n",
    "        StructField(name=\"ipi_others\", dataType=DoubleType(), nullable=True),\n",
    "        StructField(name=\"individual_income_tax\", dataType=DoubleType(), nullable=True),\n",
    "        StructField(name=\"corporate_income_tax_financial_entities\", dataType=DoubleType(), nullable=True),\n",
    "        StructField(name=\"corporate_income_tax_other_companies\", dataType=DoubleType(), nullable=True),\n",
    "        StructField(name=\"withholding_income_tax_employment_income\", dataType=DoubleType(), nullable=True),\n",
    "        StructField(name=\"withholding_income_tax_capital_income\", dataType=DoubleType(), nullable=True),\n",
    "        StructField(name=\"withholding_income_tax_overseas_remittances\", dataType=DoubleType(), nullable=True),\n",
    "        StructField(name=\"withholding_income_tax_other_income\", dataType=DoubleType(), nullable=True),\n",
    "        StructField(name=\"tax_on_financial_operations\", dataType=DoubleType(), nullable=True),\n",
    "        StructField(name=\"rural_land_tax\", dataType=DoubleType(), nullable=True),\n",
    "        StructField(name=\"provisional_tax_on_financial_transactions\", dataType=DoubleType(), nullable=True),\n",
    "        StructField(name=\"provisional_contribution_on_financial_transactions\", dataType=DoubleType(), nullable=True),\n",
    "        StructField(name=\"cofins\", dataType=DoubleType(), nullable=True),\n",
    "        StructField(name=\"cofins_financial_institutions\", dataType=DoubleType(), nullable=True),\n",
    "        StructField(name=\"cofins_other_sectors\", dataType=DoubleType(), nullable=True),\n",
    "        StructField(name=\"contribution_for_social_integration_program\", dataType=DoubleType(), nullable=True),\n",
    "        StructField(name=\"contribution_for_social_integration_program_financial_institutions\", dataType=DoubleType(), nullable=True),\n",
    "        StructField(name=\"contribution_for_social_integration_program_other_sectors\", dataType=DoubleType(), nullable=True),\n",
    "        StructField(name=\"social_contribution_on_net_profit\", dataType=DoubleType(), nullable=True),\n",
    "        StructField(name=\"social_contribution_on_net_profit_financial_institutions\", dataType=DoubleType(), nullable=True),\n",
    "        StructField(name=\"social_contribution_on_net_profit_other_sectors\", dataType=DoubleType(), nullable=True),\n",
    "        StructField(name=\"contribution_for_intervention_in_economic_domain_fuels_non_deductible\", dataType=DoubleType(), nullable=True),\n",
    "        StructField(name=\"contribution_for_intervention_in_economic_domain_fuels\", dataType=DoubleType(), nullable=True),\n",
    "        StructField(name=\"contribution_to_social_security_plan_public_servants\", dataType=DoubleType(), nullable=True),\n",
    "        StructField(name=\"contributions_to_social_security_plan_public_servants\", dataType=DoubleType(), nullable=True),\n",
    "        StructField(name=\"contributions_to_special_fund_development_inspection_activities\", dataType=DoubleType(), nullable=True),\n",
    "        StructField(name=\"fiscal_recovery_program\", dataType=DoubleType(), nullable=True),\n",
    "        StructField(name=\"special_installment_payment_program\", dataType=DoubleType(), nullable=True),\n",
    "        StructField(name=\"withholding_tax_law_10833_article_30\", dataType=DoubleType(), nullable=True),\n",
    "        StructField(name=\"unified_payment\", dataType=DoubleType(), nullable=True),\n",
    "        StructField(name=\"other_administered_revenues\", dataType=DoubleType(), nullable=True),\n",
    "        StructField(name=\"other_revenues\", dataType=DoubleType(), nullable=True),\n",
    "        StructField(name=\"social_security_revenue\", dataType=DoubleType(), nullable=True),\n",
    "        StructField(name=\"social_security_revenue_individual_contributors\", dataType=DoubleType(), nullable=True),\n",
    "        StructField(name=\"social_security_revenue_other_sources\", dataType=DoubleType(), nullable=True),\n",
    "        StructField(name=\"administered_by_other_agencies\", dataType=DoubleType(), nullable=True)\n",
    "    ]\n",
    ")"
   ]
  },
  {
   "cell_type": "code",
   "execution_count": 118,
   "metadata": {},
   "outputs": [],
   "source": [
    "population_states_schema = StructType([\n",
    "    StructField(name=\"state_uf\", dataType=StringType(), nullable=True),\n",
    "    StructField(name=\"year\", dataType=IntegerType(), nullable=True),\n",
    "    StructField(name=\"population_state\", dataType=IntegerType(), nullable=True),\n",
    "    StructField(name=\"economically_active_population\", dataType=IntegerType(), nullable=True)\n",
    "])"
   ]
  },
  {
   "cell_type": "code",
   "execution_count": 119,
   "metadata": {},
   "outputs": [],
   "source": [
    "inflation_schema = StructType([\n",
    "    StructField(\"year\", IntegerType(), nullable=True),\n",
    "    StructField(\"month\", IntegerType(), nullable=True),\n",
    "    StructField(\"index\", FloatType(), nullable=True),\n",
    "    StructField(\"monthly_variation\", FloatType(), nullable=True),\n",
    "    StructField(\"quarterly_variation\", FloatType(), nullable=True),\n",
    "    StructField(\"semiannual_variation\", FloatType(), nullable=True),\n",
    "    StructField(\"annual_variation\", FloatType(), nullable=True),\n",
    "    StructField(\"twelve_months_variation\", FloatType(), nullable=True)\n",
    "])"
   ]
  },
  {
   "cell_type": "markdown",
   "metadata": {},
   "source": [
    "### 3.3.3 - Reading all files"
   ]
  },
  {
   "cell_type": "code",
   "execution_count": 120,
   "metadata": {},
   "outputs": [],
   "source": [
    "try:\n",
    "    collection_state_df = spark.read \\\n",
    "    .format(\"csv\") \\\n",
    "    .option(\"header\", \"true\") \\\n",
    "    .option(\"printSchema\", \"true\") \\\n",
    "    .option(\"delimiter\", \";\") \\\n",
    "    .schema(collection_state_schema) \\\n",
    "    .load(data.get(\"arrecadacao_estado\"))\n",
    "except Exception as e:\n",
    "    print(f\"Error occurred while loading DataFrame: {e}\")"
   ]
  },
  {
   "cell_type": "code",
   "execution_count": 121,
   "metadata": {},
   "outputs": [],
   "source": [
    "# changing np.nan to None (for Spark) \n",
    "population_states_df = population_states_df.replace([np.nan], [None])\n",
    "inflation_df = inflation_df.replace([np.nan], [None])"
   ]
  },
  {
   "cell_type": "code",
   "execution_count": 122,
   "metadata": {},
   "outputs": [],
   "source": [
    "try:\n",
    "    population_states_df = spark.createDataFrame(population_states_df, schema=population_states_schema)\n",
    "    inflation_df = spark.createDataFrame(inflation_df, schema=inflation_schema)\n",
    "except Exception as e:\n",
    "    print(f\"Error occurred while loading DataFrame: {e}\")"
   ]
  },
  {
   "cell_type": "code",
   "execution_count": null,
   "metadata": {},
   "outputs": [],
   "source": [
    "collection_state_df.printSchema()\n",
    "population_states_df.printSchema()\n",
    "inflation_df.printSchema()"
   ]
  },
  {
   "cell_type": "code",
   "execution_count": null,
   "metadata": {},
   "outputs": [],
   "source": [
    "collection_state_df.show()"
   ]
  },
  {
   "cell_type": "code",
   "execution_count": 123,
   "metadata": {},
   "outputs": [],
   "source": [
    "collection_state_df = collection_state_df.cache()\n",
    "population_states_df = population_states_df.cache()\n",
    "inflation_df = inflation_df.cache()"
   ]
  },
  {
   "cell_type": "markdown",
   "metadata": {},
   "source": [
    "# 4 - Transformation"
   ]
  },
  {
   "cell_type": "markdown",
   "metadata": {},
   "source": [
    "## 4.1 - Validate and Cleanse Data"
   ]
  },
  {
   "cell_type": "markdown",
   "metadata": {},
   "source": [
    "### 4.1.1 - Joining tables (population_states and collection_state)"
   ]
  },
  {
   "cell_type": "code",
   "execution_count": 124,
   "metadata": {},
   "outputs": [],
   "source": [
    "# alias for the tables\n",
    "collection_state_df = collection_state_df.alias(\"cs\")\n",
    "population_states_df = population_states_df.alias(\"ps\")"
   ]
  },
  {
   "cell_type": "code",
   "execution_count": 125,
   "metadata": {},
   "outputs": [],
   "source": [
    "# joinin and selecting columns\n",
    "collection_state_df = collection_state_df.join(\n",
    "    population_states_df,\n",
    "    (population_states_df.year == collection_state_df.year)\n",
    "    &\n",
    "    (collection_state_df.state == population_states_df.state_uf),\n",
    "    \"left\"\n",
    ").select(\n",
    "    \"cs.*\",\n",
    "    \"ps.population_state\",\n",
    "    \"ps.economically_active_population\"\n",
    ")"
   ]
  },
  {
   "cell_type": "markdown",
   "metadata": {},
   "source": [
    "### 4.1.2 - Solving ASCII problem"
   ]
  },
  {
   "cell_type": "code",
   "execution_count": 127,
   "metadata": {},
   "outputs": [],
   "source": [
    "# we have a non ASCII character (ç), so we need to translate\n",
    "special_char = \"�\"\n",
    "\n",
    "correct_char = \"c\"\n",
    "\n",
    "collection_state_df = collection_state_df.withColumn(\"month\", translate(col(\"month\"), special_char, correct_char))"
   ]
  },
  {
   "cell_type": "code",
   "execution_count": 128,
   "metadata": {},
   "outputs": [],
   "source": [
    "# changing month names from Portuguese to English\n",
    "collection_state_df = collection_state_df.withColumn(\n",
    "    \"month\",\n",
    "    when(col(\"month\") == \"Janeiro\", \"january\")\n",
    "    .when(col(\"month\") == \"Fevereiro\", \"february\")\n",
    "    .when(col(\"month\") == \"Marco\", \"march\")\n",
    "    .when(col(\"month\") == \"Abril\", \"april\")\n",
    "    .when(col(\"month\") == \"Maio\", \"may\")\n",
    "    .when(col(\"month\") == \"Junho\", \"june\")\n",
    "    .when(col(\"month\") == \"Julho\", \"july\")\n",
    "    .when(col(\"month\") == \"Agosto\", \"august\")\n",
    "    .when(col(\"month\") == \"Setembro\", \"september\")\n",
    "    .when(col(\"month\") == \"Outubro\", \"october\")\n",
    "    .when(col(\"month\") == \"Novembro\", \"november\")\n",
    "    .when(col(\"month\") == \"Dezembro\", \"december\")\n",
    "    .otherwise(col(\"month\"))\n",
    ")"
   ]
  },
  {
   "cell_type": "code",
   "execution_count": null,
   "metadata": {},
   "outputs": [],
   "source": [
    "collection_state_df.show()"
   ]
  },
  {
   "cell_type": "markdown",
   "metadata": {},
   "source": [
    "### 4.1.3 - Checking count grouped by month"
   ]
  },
  {
   "cell_type": "code",
   "execution_count": 129,
   "metadata": {},
   "outputs": [
    {
     "name": "stdout",
     "output_type": "stream",
     "text": [
      "+---------+-----+\n",
      "|    month|count|\n",
      "+---------+-----+\n",
      "|  october|  648|\n",
      "|      may|  648|\n",
      "|september|  648|\n",
      "|   august|  648|\n",
      "|    april|  675|\n",
      "| november|  648|\n",
      "|     july|  648|\n",
      "|  january|  675|\n",
      "| february|  675|\n",
      "|    march|  675|\n",
      "|     june|  648|\n",
      "| december|  648|\n",
      "+---------+-----+\n",
      "\n"
     ]
    }
   ],
   "source": [
    "months_counts_names = collection_state_df.groupBy(\"month\").count()\n",
    "months_counts_names.show()"
   ]
  },
  {
   "cell_type": "markdown",
   "metadata": {},
   "source": [
    "### 4.1.4 - Adding month in numeric representation"
   ]
  },
  {
   "cell_type": "code",
   "execution_count": 130,
   "metadata": {},
   "outputs": [],
   "source": [
    "months = {\n",
    "    \"january\": 1,\n",
    "    \"february\": 2,\n",
    "    \"march\": 3,\n",
    "    \"april\": 4,\n",
    "    \"may\": 5,\n",
    "    \"june\": 6,\n",
    "    \"july\": 7,\n",
    "    \"august\": 8,\n",
    "    \"september\": 9,\n",
    "    \"october\": 10,\n",
    "    \"november\": 11,\n",
    "    \"december\": 12\n",
    "}"
   ]
  },
  {
   "cell_type": "code",
   "execution_count": 132,
   "metadata": {},
   "outputs": [],
   "source": [
    "collection_state_df = collection_state_df.withColumn(\n",
    "    \"month_numeric\",\n",
    "    when(col(\"month\") == \"january\", lit(months[\"january\"]))\n",
    "    .when(col(\"month\") == \"february\", lit(months[\"february\"]))\n",
    "    .when(col(\"month\") == \"march\", lit(months[\"march\"]))\n",
    "    .when(col(\"month\") == \"april\", lit(months[\"april\"]))\n",
    "    .when(col(\"month\") == \"may\", lit(months[\"may\"]))\n",
    "    .when(col(\"month\") == \"june\", lit(months[\"june\"]))\n",
    "    .when(col(\"month\") == \"july\", lit(months[\"july\"]))\n",
    "    .when(col(\"month\") == \"august\", lit(months[\"august\"]))\n",
    "    .when(col(\"month\") == \"september\", lit(months[\"september\"]))\n",
    "    .when(col(\"month\") == \"october\", lit(months[\"october\"]))\n",
    "    .when(col(\"month\") == \"november\", lit(months[\"november\"]))\n",
    "    .when(col(\"month\") == \"december\", lit(months[\"december\"]))\n",
    "    .otherwise(None)  # Handle any unexpected values\n",
    ")"
   ]
  },
  {
   "cell_type": "markdown",
   "metadata": {},
   "source": [
    "### 4.1.5 - Checking count grouped by month in numeric representation"
   ]
  },
  {
   "cell_type": "code",
   "execution_count": 134,
   "metadata": {},
   "outputs": [
    {
     "name": "stdout",
     "output_type": "stream",
     "text": [
      "+-------------+-----+\n",
      "|month_numeric|count|\n",
      "+-------------+-----+\n",
      "|           12|  648|\n",
      "|            1|  675|\n",
      "|            6|  648|\n",
      "|            3|  675|\n",
      "|            5|  648|\n",
      "|            9|  648|\n",
      "|            4|  675|\n",
      "|            8|  648|\n",
      "|            7|  648|\n",
      "|           10|  648|\n",
      "|           11|  648|\n",
      "|            2|  675|\n",
      "+-------------+-----+\n",
      "\n"
     ]
    }
   ],
   "source": [
    "numeric_month_count = collection_state_df.groupBy(\"month_numeric\").count()\n",
    "numeric_month_count.show()"
   ]
  },
  {
   "cell_type": "markdown",
   "metadata": {},
   "source": [
    "### 4.1.6 - Joining tables (collection_state and inflation_df)"
   ]
  },
  {
   "cell_type": "markdown",
   "metadata": {},
   "source": [
    "#### 4.1.6.1 - Tables alias"
   ]
  },
  {
   "cell_type": "code",
   "execution_count": 135,
   "metadata": {},
   "outputs": [],
   "source": [
    "collection_state_df = collection_state_df.alias(\"cs\")\n",
    "inflation_df = inflation_df.alias(\"inf\")"
   ]
  },
  {
   "cell_type": "markdown",
   "metadata": {},
   "source": [
    "### 4.1.6.1 - Joining both tables with alias"
   ]
  },
  {
   "cell_type": "code",
   "execution_count": 72,
   "metadata": {},
   "outputs": [],
   "source": [
    "collection_state_df = collection_state_df.join(\n",
    "    inflation_df,\n",
    "    (collection_state_df.year == inflation_df.year)\n",
    "    &\n",
    "    (collection_state_df.month_numeric == inflation_df.month),\n",
    "    \"left\"\n",
    ").select(\n",
    "    \"cs.*\",\n",
    "    \"inf.index\",\n",
    "    \"inf.monthly_variation\",\n",
    "    \"inf.quarterly_variation\",\n",
    "    \"inf.semiannual_variation\",\n",
    "    \"inf.annual_variation\"\n",
    ")"
   ]
  },
  {
   "cell_type": "code",
   "execution_count": null,
   "metadata": {},
   "outputs": [],
   "source": [
    "collection_state_df.show()"
   ]
  },
  {
   "cell_type": "markdown",
   "metadata": {},
   "source": [
    "### 4.1.7 - Removing duplicates"
   ]
  },
  {
   "cell_type": "code",
   "execution_count": 136,
   "metadata": {},
   "outputs": [
    {
     "data": {
      "text/plain": [
       "DataFrame[year: int, month: string, state: string, import_tax: double, export_tax: double, ipi_tobacco: double, ipi_beverages: double, ipi_automobiles: double, ipi_linked_imports: double, ipi_others: double, individual_income_tax: double, corporate_income_tax_financial_entities: double, corporate_income_tax_other_companies: double, withholding_income_tax_employment_income: double, withholding_income_tax_capital_income: double, withholding_income_tax_overseas_remittances: double, withholding_income_tax_other_income: double, tax_on_financial_operations: double, rural_land_tax: double, provisional_tax_on_financial_transactions: double, provisional_contribution_on_financial_transactions: double, cofins: double, cofins_financial_institutions: double, cofins_other_sectors: double, contribution_for_social_integration_program: double, contribution_for_social_integration_program_financial_institutions: double, contribution_for_social_integration_program_other_sectors: double, social_contribution_on_net_profit: double, social_contribution_on_net_profit_financial_institutions: double, social_contribution_on_net_profit_other_sectors: double, contribution_for_intervention_in_economic_domain_fuels_non_deductible: double, contribution_for_intervention_in_economic_domain_fuels: double, contribution_to_social_security_plan_public_servants: double, contributions_to_social_security_plan_public_servants: double, contributions_to_special_fund_development_inspection_activities: double, fiscal_recovery_program: double, special_installment_payment_program: double, withholding_tax_law_10833_article_30: double, unified_payment: double, other_administered_revenues: double, other_revenues: double, social_security_revenue: double, social_security_revenue_individual_contributors: double, social_security_revenue_other_sources: double, administered_by_other_agencies: double, population_state: int, economically_active_population: int, month_numeric: int]"
      ]
     },
     "execution_count": 136,
     "metadata": {},
     "output_type": "execute_result"
    }
   ],
   "source": [
    "collection_state_df.dropDuplicates()"
   ]
  },
  {
   "cell_type": "markdown",
   "metadata": {},
   "source": [
    "### 4.1.8 - Handling missing values "
   ]
  },
  {
   "cell_type": "code",
   "execution_count": 137,
   "metadata": {},
   "outputs": [],
   "source": [
    "# string(will be removed), numeric(flag 0)\n",
    "def fill_values_na_with_zero_or_drop(df: DataFrame) -> DataFrame:\n",
    "    for col, dtype in df.dtypes:\n",
    "        if isinstance(df.schema[col].dataType, NumericType):\n",
    "            df = df.fillna(0, subset=[col])\n",
    "        elif isinstance(df.schema[col].dataType, StringType):\n",
    "            df = df.dropna(subset=[col])\n",
    "    return df"
   ]
  },
  {
   "cell_type": "code",
   "execution_count": 138,
   "metadata": {},
   "outputs": [],
   "source": [
    "collection_state_df = fill_values_na_with_zero_or_drop(df = collection_state_df)"
   ]
  },
  {
   "cell_type": "markdown",
   "metadata": {},
   "source": [
    "## 4.2 - Adding some columns"
   ]
  },
  {
   "cell_type": "markdown",
   "metadata": {},
   "source": [
    "### 4.2.1 - Regions in Brazil"
   ]
  },
  {
   "cell_type": "code",
   "execution_count": 139,
   "metadata": {},
   "outputs": [],
   "source": [
    "regions_uf = {\n",
    "    \"north\": (\"AC\", \"AP\", \"AM\", \"PA\", \"RO\", \"RR\", \"TO\"),\n",
    "    \"north_east\": (\"AL\", \"BA\", \"CE\", \"MA\", \"PB\", \"PE\", \"PI\", \"RN\", \"SE\"),\n",
    "    \"midwest\": (\"DF\", \"GO\", \"MT\", \"MS\"),\n",
    "    \"south\": (\"PR\", \"RS\", \"SC\"),\n",
    "    \"south_east\": (\"ES\", \"MG\", \"RJ\", \"SP\")\n",
    "}"
   ]
  },
  {
   "cell_type": "code",
   "execution_count": 140,
   "metadata": {},
   "outputs": [],
   "source": [
    "# function to add column \"region\" based on regions_uf\n",
    "def add_region_column(df: DataFrame, regions_uf: dict) -> DataFrame:\n",
    "    df = df.withColumn(\n",
    "        \"region\",\n",
    "        when(col(\"state\").isin(list(regions_uf[\"north\"])), \"north\")\n",
    "        .when(col(\"state\").isin(list(regions_uf[\"north_east\"])), \"north_east\")\n",
    "        .when(col(\"state\").isin(list(regions_uf[\"midwest\"])), \"midwest\")\n",
    "        .when(col(\"state\").isin(list(regions_uf[\"south\"])), \"south\")\n",
    "        .when(col(\"state\").isin(list(regions_uf[\"south_east\"])), \"south_east\")\n",
    "        .otherwise(\"unknown\")\n",
    "    )\n",
    "    return df"
   ]
  },
  {
   "cell_type": "code",
   "execution_count": 141,
   "metadata": {},
   "outputs": [],
   "source": [
    "collection_state_df = add_region_column(df=collection_state_df, regions_uf=regions_uf)"
   ]
  },
  {
   "cell_type": "markdown",
   "metadata": {},
   "source": [
    "### 4.2.2 - Adding 'id' column"
   ]
  },
  {
   "cell_type": "code",
   "execution_count": 142,
   "metadata": {},
   "outputs": [],
   "source": [
    "windowSpec = Window.orderBy(\"year\")\n",
    "collection_state_df = collection_state_df.withColumn(\"id\", F.row_number().over(windowSpec))\n",
    "\n",
    "# Reordering columns to have 'id' as the first column\n",
    "id_first_columns = ['id'] + [col for col in collection_state_df.columns if col != 'id']\n",
    "collection_state_final_df = collection_state_df.select(id_first_columns)"
   ]
  },
  {
   "cell_type": "code",
   "execution_count": 144,
   "metadata": {},
   "outputs": [
    {
     "name": "stdout",
     "output_type": "stream",
     "text": [
      "+---+----+-------+-----+-----------+----------+-----------+-------------+---------------+------------------+-----------+---------------------+---------------------------------------+------------------------------------+----------------------------------------+-------------------------------------+-------------------------------------------+-----------------------------------+---------------------------+--------------+-----------------------------------------+--------------------------------------------------+------------+-----------------------------+--------------------+-------------------------------------------+------------------------------------------------------------------+---------------------------------------------------------+---------------------------------+--------------------------------------------------------+-----------------------------------------------+---------------------------------------------------------------------+------------------------------------------------------+----------------------------------------------------+-----------------------------------------------------+---------------------------------------------------------------+-----------------------+-----------------------------------+------------------------------------+---------------+---------------------------+--------------+-----------------------+-----------------------------------------------+-------------------------------------+------------------------------+----------------+------------------------------+-------------+----------+\n",
      "| id|year|  month|state| import_tax|export_tax|ipi_tobacco|ipi_beverages|ipi_automobiles|ipi_linked_imports| ipi_others|individual_income_tax|corporate_income_tax_financial_entities|corporate_income_tax_other_companies|withholding_income_tax_employment_income|withholding_income_tax_capital_income|withholding_income_tax_overseas_remittances|withholding_income_tax_other_income|tax_on_financial_operations|rural_land_tax|provisional_tax_on_financial_transactions|provisional_contribution_on_financial_transactions|      cofins|cofins_financial_institutions|cofins_other_sectors|contribution_for_social_integration_program|contribution_for_social_integration_program_financial_institutions|contribution_for_social_integration_program_other_sectors|social_contribution_on_net_profit|social_contribution_on_net_profit_financial_institutions|social_contribution_on_net_profit_other_sectors|contribution_for_intervention_in_economic_domain_fuels_non_deductible|contribution_for_intervention_in_economic_domain_fuels|contribution_to_social_security_plan_public_servants|contributions_to_social_security_plan_public_servants|contributions_to_special_fund_development_inspection_activities|fiscal_recovery_program|special_installment_payment_program|withholding_tax_law_10833_article_30|unified_payment|other_administered_revenues|other_revenues|social_security_revenue|social_security_revenue_individual_contributors|social_security_revenue_other_sources|administered_by_other_agencies|population_state|economically_active_population|month_numeric|    region|\n",
      "+---+----+-------+-----+-----------+----------+-----------+-------------+---------------+------------------+-----------+---------------------+---------------------------------------+------------------------------------+----------------------------------------+-------------------------------------+-------------------------------------------+-----------------------------------+---------------------------+--------------+-----------------------------------------+--------------------------------------------------+------------+-----------------------------+--------------------+-------------------------------------------+------------------------------------------------------------------+---------------------------------------------------------+---------------------------------+--------------------------------------------------------+-----------------------------------------------+---------------------------------------------------------------------+------------------------------------------------------+----------------------------------------------------+-----------------------------------------------------+---------------------------------------------------------------+-----------------------+-----------------------------------+------------------------------------+---------------+---------------------------+--------------+-----------------------+-----------------------------------------------+-------------------------------------+------------------------------+----------------+------------------------------+-------------+----------+\n",
      "|  1|2000|january|   AC|      231.0|       0.0|   292096.0|          0.0|            0.0|             167.0|     1558.0|             177197.0|                                  643.0|                            676835.0|                               1084940.0|                              27652.0|                                      570.0|                            30894.0|                     1220.0|       28447.0|                                      0.0|                                             103.0|   1770475.0|                          0.0|                 0.0|                                   387364.0|                                                               0.0|                                                      0.0|                         392830.0|                                                     0.0|                                            0.0|                                                                  0.0|                                                   0.0|                                           1243858.0|                                                  0.0|                                                        28329.0|                    0.0|                                0.0|                                 0.0|            0.0|                    20911.0|           0.0|                    0.0|                                            0.0|                                  0.0|                           0.0|          557882|                             0|            1|     north|\n",
      "|  2|2000|january|   AL|   475088.0|   33873.0|  1329338.0|     812470.0|            0.0|          141735.0|  3676847.0|             460804.0|                                  561.0|                           2672106.0|                               4454947.0|                             544056.0|                                   191382.0|                           309573.0|                    26939.0|     4252539.0|                                      0.0|                                           97248.0|   7493570.0|                          0.0|                 0.0|                                  2545254.0|                                                               0.0|                                                      0.0|                        1775834.0|                                                     0.0|                                            0.0|                                                                  0.0|                                                   0.0|                                           3179753.0|                                                  0.0|                                                       125043.0|                    0.0|                                0.0|                                 0.0|            0.0|                   127189.0|           0.0|                    0.0|                                            0.0|                                  0.0|                           0.0|         2827856|                             0|            1|north_east|\n",
      "|  3|2000|january|   AM|1.1679405E7|       0.0|  1507146.0|    1791471.0|        27796.0|         4414483.0|  1800346.0|             700623.0|                                90828.0|                         1.0058713E7|                             1.0174718E7|                            1241708.0|                                  3580022.0|                          1029164.0|                   843881.0|       40171.0|                                      0.0|                                          832562.0| 4.4000981E7|                          0.0|                 0.0|                                1.1671871E7|                                                               0.0|                                                      0.0|                        7652859.0|                                                     0.0|                                            0.0|                                                                  0.0|                                                   0.0|                                           4072567.0|                                                  0.0|                                                       161647.0|                    0.0|                                0.0|                                 0.0|            0.0|                   187988.0|           0.0|                    0.0|                                            0.0|                                  0.0|                           0.0|         2817253|                             0|            1|     north|\n",
      "|  4|2000|january|   AP|    24267.0|       0.0|   424862.0|       1419.0|          321.0|           22333.0|    12165.0|             139226.0|                                44135.0|                            586572.0|                               1444486.0|                             205031.0|                                     5825.0|                            34602.0|                     6999.0|        6477.0|                                      0.0|                                               0.0|   1682102.0|                          0.0|                 0.0|                                   574124.0|                                                               0.0|                                                      0.0|                         346964.0|                                                     0.0|                                            0.0|                                                                  0.0|                                                   0.0|                                           3981691.0|                                                  0.0|                                                        38738.0|                    0.0|                                0.0|                                 0.0|            0.0|                    10769.0|           0.0|                    0.0|                                            0.0|                                  0.0|                           0.0|          477032|                             0|            1|     north|\n",
      "|  5|2000|january|   BA|1.0476457E7|      13.0|  5542123.0|  1.1533707E7|            0.0|         7496476.0|2.3743858E7|            2498647.0|                               177378.0|                         2.5695696E7|                             2.7277025E7|                          1.3374802E7|                                  2302766.0|                          2022200.0|                  1218485.0|     2446535.0|                                      0.0|                                       1.1923442E7| 8.1027229E7|                          0.0|                 0.0|                                2.3138894E7|                                                               0.0|                                                      0.0|                      1.5699282E7|                                                     0.0|                                            0.0|                                                                  0.0|                                                   0.0|                                         1.7001662E7|                                                  0.0|                                                       687022.0|                    0.0|                                0.0|                                 0.0|            0.0|                   536498.0|           0.0|                    0.0|                                            0.0|                                  0.0|                           0.0|        13085768|                             0|            1|north_east|\n",
      "|  6|2000|january|   CE|  5576921.0|       0.0|  4535653.0|    3148254.0|            0.0|         1734529.0|  3716458.0|            1971500.0|                                59874.0|                         1.3247447E7|                              1.594049E7|                            6311419.0|                                   948600.0|                          1941958.0|                   745659.0|      114393.0|                                      0.0|                                         4547426.0| 3.6892799E7|                          0.0|                 0.0|                                  8743377.0|                                                               0.0|                                                      0.0|                        6505382.0|                                                     0.0|                                            0.0|                                                                  0.0|                                                   0.0|                                           8618224.0|                                                  0.0|                                                       506146.0|                    0.0|                                0.0|                                 0.0|            0.0|                   143952.0|           0.0|                    0.0|                                            0.0|                                  0.0|                           0.0|         7431597|                             0|            1|north_east|\n",
      "|  7|2000|january|   DF|  2254341.0|      43.0|  3197500.0|    2777942.0|            0.0|         2079272.0|  2433339.0|            3067374.0|                              3913461.0|                          7.158268E7|                            2.57391352E8|                         1.24316928E8|                                  7145075.0|                        3.5581549E7|                2.2472279E7|       64578.0|                                      0.0|                                      2.40726401E8|1.41910257E8|                          0.0|                 0.0|                                6.1028823E7|                                                               0.0|                                                      0.0|                      2.7194137E7|                                                     0.0|                                            0.0|                                                                  0.0|                                                   0.0|                                         7.4389957E7|                                                  0.0|                                                       534320.0|                    0.0|                                0.0|                                 0.0|            0.0|                3.3937318E7|           0.0|                    0.0|                                            0.0|                                  0.0|                           0.0|         2051146|                             0|            1|   midwest|\n",
      "|  8|2000|january|   ES|3.1950799E7|       0.0|  3598736.0|      20408.0|      1503039.0|        2.684043E7|  4036463.0|            1620843.0|                                 2542.0|                         2.9105465E7|                               9380778.0|                          1.0515327E7|                                  4717282.0|                          1703727.0|                   491261.0|     1563052.0|                                      0.0|                                           28681.0| 4.9157907E7|                          0.0|                 0.0|                                1.3289266E7|                                                               0.0|                                                      0.0|                      1.2890143E7|                                                     0.0|                                            0.0|                                                                  0.0|                                                   0.0|                                           6038251.0|                                                  0.0|                                                      2164901.0|                    0.0|                                0.0|                                 0.0|            0.0|                   382985.0|           0.0|                    0.0|                                            0.0|                                  0.0|                           0.0|         3097497|                             0|            1|south_east|\n",
      "|  9|2000|january|   GO|  3747911.0|       0.0|  3236092.0|    5064141.0|      1091185.0|          986314.0|  2654994.0|            1401385.0|                                45754.0|                         1.8823998E7|                             1.3094463E7|                            6275215.0|                                   132749.0|                          1043647.0|                   638840.0|     2269467.0|                                      0.0|                                         3912150.0| 4.7986002E7|                          0.0|                 0.0|                                 1.356919E7|                                                               0.0|                                                      0.0|                        8180079.0|                                                     0.0|                                            0.0|                                                                  0.0|                                                   0.0|                                           7394364.0|                                                  0.0|                                                       658643.0|                    0.0|                                0.0|                                 0.0|            0.0|                   403579.0|           0.0|                    0.0|                                            0.0|                                  0.0|                           0.0|         5004196|                             0|            1|   midwest|\n",
      "| 10|2000|january|   MA|  1714749.0|      69.0|  1124738.0|    4061569.0|            0.0|          206691.0|   484436.0|             479170.0|                                 4832.0|                           3251185.0|                               4149532.0|                             781569.0|                                     1130.0|                           289120.0|                    86071.0|      593391.0|                                      0.0|                                          612313.0|   9654439.0|                          0.0|                 0.0|                                  5104547.0|                                                               0.0|                                                      0.0|                        2283622.0|                                                     0.0|                                            0.0|                                                                  0.0|                                                   0.0|                                           2966912.0|                                                  0.0|                                                       120868.0|                    0.0|                                0.0|                                 0.0|            0.0|                   121337.0|           0.0|                    0.0|                                            0.0|                                  0.0|                           0.0|         5657553|                             0|            1|north_east|\n",
      "| 11|2000|january|   MG|3.5549181E7|      57.0|1.5511142E7|  1.2111623E7|    2.9305691E7|       1.5049305E7|3.8667924E7|          1.1038328E7|                              3416372.0|                         8.3378349E7|                             7.3410958E7|                          7.7963069E7|                                1.1600682E7|                        1.5573355E7|                  3835234.0|     5262680.0|                                      0.0|                                       1.8475116E7|1.73737137E8|                          0.0|                 0.0|                                4.4074747E7|                                                               0.0|                                                      0.0|                      4.1904953E7|                                                     0.0|                                            0.0|                                                                  0.0|                                                   0.0|                                         3.2234994E7|                                                  0.0|                                                      1880050.0|                    0.0|                                0.0|                                 0.0|            0.0|                  1190058.0|           0.0|                    0.0|                                            0.0|                                  0.0|                           0.0|        17905135|                             0|            1|south_east|\n",
      "| 12|2000|january|   MS|   437668.0|       0.0|   899850.0|     268111.0|            0.0|          365983.0|   626188.0|            1926537.0|                                 7972.0|                           3983857.0|                               4331201.0|                             797218.0|                                    26225.0|                           194378.0|                    52490.0|     1376859.0|                                      0.0|                                          210638.0| 1.3141747E7|                          0.0|                 0.0|                                  3865681.0|                                                               0.0|                                                      0.0|                        2249894.0|                                                     0.0|                                            0.0|                                                                  0.0|                                                   0.0|                                           4298541.0|                                                  0.0|                                                       136823.0|                    0.0|                                0.0|                                 0.0|            0.0|                   227936.0|           0.0|                    0.0|                                            0.0|                                  0.0|                           0.0|         2078070|                             0|            1|   midwest|\n",
      "| 13|2000|january|   MT|   302002.0|       0.0|  1837228.0|    2734966.0|            0.0|           98807.0|   322126.0|             537577.0|                                 5356.0|                           5998492.0|                               6702247.0|                             506327.0|                                   287788.0|                           518377.0|                   122986.0|     5965591.0|                                      0.0|                                          622603.0| 1.4454666E7|                          0.0|                 0.0|                                  5290254.0|                                                               0.0|                                                      0.0|                        3544619.0|                                                     0.0|                                            0.0|                                                                  0.0|                                                   0.0|                                           4516488.0|                                                  0.0|                                                       255856.0|                    0.0|                                0.0|                                 0.0|            0.0|                   286198.0|           0.0|                    0.0|                                            0.0|                                  0.0|                           0.0|         2505245|                             0|            1|   midwest|\n",
      "| 14|2000|january|   PA|  1321715.0|       0.0|  2506107.0|    1255572.0|            0.0|          771308.0|   842141.0|             885476.0|                              1687010.0|                         1.0397922E7|                               9891932.0|                            1452409.0|                                   271488.0|                           689009.0|                   293485.0|      892163.0|                                      0.0|                                         2996773.0| 1.7597074E7|                          0.0|                 0.0|                                  5839339.0|                                                               0.0|                                                      0.0|                        5853614.0|                                                     0.0|                                            0.0|                                                                  0.0|                                                   0.0|                                           9415007.0|                                                  0.0|                                                       314129.0|                    0.0|                                0.0|                                 0.0|            0.0|                   158348.0|           0.0|                    0.0|                                            0.0|                                  0.0|                           0.0|         6195965|                             0|            1|     north|\n",
      "| 15|2000|january|   PB|  1351422.0|       0.0|  1971817.0|    5556557.0|            0.0|          763383.0|  1729472.0|             531092.0|                                 6819.0|                           8455014.0|                               9164933.0|                            1315192.0|                                   215491.0|                           193623.0|                   113133.0|       38801.0|                                      0.0|                                          186368.0| 1.1047735E7|                          0.0|                 0.0|                                  3084360.0|                                                               0.0|                                                      0.0|                        2936019.0|                                                     0.0|                                            0.0|                                                                  0.0|                                                   0.0|                                         1.0933455E7|                                                  0.0|                                                       194863.0|                    0.0|                                0.0|                                 0.0|            0.0|                4.9780562E7|           0.0|                    0.0|                                            0.0|                                  0.0|                           0.0|         3444794|                             0|            1|north_east|\n",
      "| 16|2000|january|   PE|  6268803.0|      13.0|  6167644.0|    5650794.0|            0.0|         2688235.0|  8230496.0|            1679485.0|                               245392.0|                         1.5783042E7|                             2.6054337E7|                          3.8164839E7|                                   983356.0|                          2266139.0|                   519577.0|     7442780.0|                                      0.0|                                         2893853.0| 5.1098148E7|                          0.0|                 0.0|                                1.4322361E7|                                                               0.0|                                                      0.0|                        8608550.0|                                                     0.0|                                            0.0|                                                                  0.0|                                                   0.0|                                         1.5511663E7|                                                  0.0|                                                       796051.0|                    0.0|                                0.0|                                 0.0|            0.0|                   312474.0|           0.0|                    0.0|                                            0.0|                                  0.0|                           0.0|         7929153|                             0|            1|north_east|\n",
      "| 17|2000|january|   PI|   382374.0|       0.0|  1001688.0|    2261830.0|            0.0|           88220.0|   261477.0|             291999.0|                                16605.0|                           4285628.0|                               3839267.0|                            1119727.0|                                    58819.0|                           165302.0|                    30629.0|      469071.0|                                      0.0|                                          182915.0|   8970699.0|                          0.0|                 0.0|                                  3232042.0|                                                               0.0|                                                      0.0|                        2280136.0|                                                     0.0|                                            0.0|                                                                  0.0|                                                   0.0|                                           3823880.0|                                                  0.0|                                                        99030.0|                    0.0|                                0.0|                                 0.0|            0.0|                    73288.0|           0.0|                    0.0|                                            0.0|                                  0.0|                           0.0|         2843427|                             0|            1|north_east|\n",
      "| 18|2000|january|   PR|4.5984119E7|       0.0|1.0114872E7|    5045577.0|    1.2768408E7|       2.3702615E7|2.6596165E7|            5748682.0|                              3925211.0|                         6.0829302E7|                              3.987565E7|                          5.4801093E7|                                  5692244.0|                          3876963.0|                  9880454.0|     1398281.0|                                      0.0|                                       7.3908984E7|1.34479291E8|                          0.0|                 0.0|                                2.9738452E7|                                                               0.0|                                                      0.0|                      2.6556999E7|                                                     0.0|                                            0.0|                                                                  0.0|                                                   0.0|                                         1.0729415E7|                                                  0.0|                                                      1127493.0|                    0.0|                                0.0|                                 0.0|            0.0|                   881395.0|           0.0|                    0.0|                                            0.0|                                  0.0|                           0.0|         9564643|                             0|            1|     south|\n",
      "| 19|2000|january|   RJ|5.4679975E7|     110.0|2.4542326E7|  3.0839175E7|         4605.0|       2.8145513E7|4.7564082E7|          3.6256377E7|                            1.9404254E7|                        1.81047892E8|                            2.47291061E8|                         2.90260344E8|                                 5.812162E7|                                0.0|                1.2710303E7|      164156.0|                                      0.0|                                       3.5680049E7|8.73100045E8|                          0.0|                 0.0|                               2.00959432E8|                                                               0.0|                                                      0.0|                      7.3286433E7|                                                     0.0|                                            0.0|                                                                  0.0|                                                   0.0|                                         7.0462373E7|                                                  0.0|                                                      4118315.0|                    0.0|                                0.0|                                 0.0|            0.0|                1.2538119E7|           0.0|                    0.0|                                            0.0|                                  0.0|                           0.0|        14392106|                             0|            1|south_east|\n",
      "| 20|2000|january|   RN|   997074.0|       0.0|  1849649.0|    1973085.0|            0.0|          586673.0|   150429.0|             493904.0|                                 4783.0|                           3791527.0|                               9790539.0|                            3138513.0|                                   201215.0|                           452018.0|                    11143.0|      232929.0|                                      0.0|                                           65459.0| 1.3165671E7|                          0.0|                 0.0|                                  2998136.0|                                                               0.0|                                                      0.0|                        2869106.0|                                                     0.0|                                            0.0|                                                                  0.0|                                                   0.0|                                           7668904.0|                                                  0.0|                                                       176400.0|                    0.0|                                0.0|                                 0.0|            0.0|                    41888.0|           0.0|                    0.0|                                            0.0|                                  0.0|                           0.0|         2777509|                             0|            1|north_east|\n",
      "+---+----+-------+-----+-----------+----------+-----------+-------------+---------------+------------------+-----------+---------------------+---------------------------------------+------------------------------------+----------------------------------------+-------------------------------------+-------------------------------------------+-----------------------------------+---------------------------+--------------+-----------------------------------------+--------------------------------------------------+------------+-----------------------------+--------------------+-------------------------------------------+------------------------------------------------------------------+---------------------------------------------------------+---------------------------------+--------------------------------------------------------+-----------------------------------------------+---------------------------------------------------------------------+------------------------------------------------------+----------------------------------------------------+-----------------------------------------------------+---------------------------------------------------------------+-----------------------+-----------------------------------+------------------------------------+---------------+---------------------------+--------------+-----------------------+-----------------------------------------------+-------------------------------------+------------------------------+----------------+------------------------------+-------------+----------+\n",
      "only showing top 20 rows\n",
      "\n"
     ]
    }
   ],
   "source": [
    "collection_state_final_df.show()"
   ]
  }
 ],
 "metadata": {
  "kernelspec": {
   "display_name": "Python 3",
   "language": "python",
   "name": "python3"
  },
  "language_info": {
   "codemirror_mode": {
    "name": "ipython",
    "version": 3
   },
   "file_extension": ".py",
   "mimetype": "text/x-python",
   "name": "python",
   "nbconvert_exporter": "python",
   "pygments_lexer": "ipython3",
   "version": "3.10.11"
  }
 },
 "nbformat": 4,
 "nbformat_minor": 2
}
